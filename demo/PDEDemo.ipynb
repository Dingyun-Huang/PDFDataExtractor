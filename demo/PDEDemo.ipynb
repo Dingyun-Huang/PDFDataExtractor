{
 "cells": [
  {
   "cell_type": "markdown",
   "id": "eced1c2d",
   "metadata": {},
   "source": [
    "# PDFDataExtractor Demo"
   ]
  },
  {
   "cell_type": "markdown",
   "id": "46ebc98f",
   "metadata": {},
   "source": [
    "PDFDataExtractor is a toolkit for automatically extracting semantic information from PDF files of scientific articles, which features a template-based architecture with abilities to extract information from the following various publishers: \n",
    "* Elsevier\n",
    "* Royal Society of Chemistry\n",
    "* Advanced Material Families (Wiley)\n",
    "* Angewandte\n",
    "* Chemistry A European Journal\n",
    "* American Chemistry Society\n",
    "* Springer (Temporarily unavailable)"
   ]
  },
  {
   "cell_type": "markdown",
   "id": "3103dc4e",
   "metadata": {},
   "source": [
    "## To install PDFDataExtractor, simply run the following code in your terminal"
   ]
  },
  {
   "cell_type": "code",
   "execution_count": null,
   "id": "9d20cf16",
   "metadata": {},
   "outputs": [],
   "source": [
    "# git clone git@github.com:cat-lemonade/PDFDataExtractor.git"
   ]
  },
  {
   "cell_type": "markdown",
   "id": "3fde0a77",
   "metadata": {},
   "source": [
    "## Then run the following code:"
   ]
  },
  {
   "cell_type": "code",
   "execution_count": null,
   "id": "35f76b64",
   "metadata": {},
   "outputs": [],
   "source": [
    "# python setup.py install"
   ]
  },
  {
   "cell_type": "markdown",
   "id": "1c9b5039",
   "metadata": {},
   "source": [
    " "
   ]
  },
  {
   "cell_type": "markdown",
   "id": "cf90c1ac",
   "metadata": {},
   "source": [
    "## Pass a single PDF file"
   ]
  },
  {
   "cell_type": "markdown",
   "id": "b8db3a07",
   "metadata": {},
   "source": [
    "### Import necessary module"
   ]
  },
  {
   "cell_type": "code",
   "execution_count": 1,
   "id": "a636447e",
   "metadata": {},
   "outputs": [],
   "source": [
    "from pdfdataextractor import Reader"
   ]
  },
  {
   "cell_type": "code",
   "execution_count": 2,
   "id": "5beed496",
   "metadata": {},
   "outputs": [],
   "source": [
    "path = r\"F:/tadf_papers/wiley/10_1002_adom_201701147.pdf\""
   ]
  },
  {
   "cell_type": "code",
   "execution_count": 3,
   "id": "2d1b8407",
   "metadata": {},
   "outputs": [],
   "source": [
    "file = Reader()"
   ]
  },
  {
   "cell_type": "code",
   "execution_count": 4,
   "id": "89095cdd",
   "metadata": {},
   "outputs": [
    {
     "name": "stdout",
     "output_type": "stream",
     "text": [
      "Reading:  F:/tadf_papers/wiley/10_1002_adom_201701147.pdf\n",
      "*** Advanced Materials Family detected ***\n"
     ]
    }
   ],
   "source": [
    "pdf = file.read_file(path)"
   ]
  },
  {
   "cell_type": "markdown",
   "id": "423d2bed",
   "metadata": {},
   "source": [
    " "
   ]
  },
  {
   "cell_type": "markdown",
   "id": "6526f55c",
   "metadata": {},
   "source": [
    "### Test if PDF is returned successful"
   ]
  },
  {
   "cell_type": "code",
   "execution_count": 5,
   "id": "ae45c0b6",
   "metadata": {},
   "outputs": [
    {
     "name": "stdout",
     "output_type": "stream",
     "text": [
      "PDF returned successfully\n"
     ]
    }
   ],
   "source": [
    "pdf.test()"
   ]
  },
  {
   "cell_type": "markdown",
   "id": "52fb8b9c",
   "metadata": {},
   "source": [
    "### Get Caption"
   ]
  },
  {
   "cell_type": "code",
   "execution_count": 6,
   "id": "2aece6b3",
   "metadata": {},
   "outputs": [
    {
     "data": {
      "text/plain": [
       "{'figure 1': 'Figure 1.  Molecular structures of D–π–A-type CNBPz- and CNBQx-based  TADF materials.',\n",
       " 'figure 2': 'Figure  2.  Comparison  of  the  intrinsic  electron-accepting  capability  (LUMO level) of various A units used for red TADF materials, estimated  by DFT at the PBE0/6-31G(d) level.',\n",
       " 'figure 3': 'Figure 3.  Calculated S1 and T1 energies with oscillator strength (f), optimized molecular geometries, and HOMO and LUMO distributions for 1–4  using the PBE0/6-31G(d) method. H → L represents the HOMO to LUMO transition.',\n",
       " 'figure 4': 'Figure 4.  Molecular structures of 1–3 (CCDC 1578725, 1578726, and 1576763, respectively) with thermal ellipsoids at 50% probability determined by  single-crystal X-ray analyses. The dihedral angles (θD–π and θA–π) are estimated from the respective interplanar angles for the donor (pink), phenylene  (green), and acceptor (blue) moieties.',\n",
       " 'figure 5': 'Figure 5.  Photophysical properties of 1–4: a) UV–vis absorption and b) PL spectra in oxygen-free toluene; c) steady-state PL spectra and d) transient  PL decay profiles of the 6 wt%-doped thin films in a CBP host matrix measured at 300 K under N2.',\n",
       " 'figure 7': 'Figure  7c,d  shows  the  current-density–voltage–luminance  (J–V–L)  and  external  EL  quantum  efficiency–current  density  (ηext–J)  characteristics,  respectively,  of  these  TADF-OLEDs.  The key EL parameters are summarized in Table 3. The turn- on voltages (Von) of these four devices were as low as ≈2.8 V,  and their maximum ηext reached 15.0% (for 1), 16.2% (for 2),  20.0%  (for  3),  and  14.0%  (for  4),  without  light  out-coupling  enhancement.  With ηext  values  of  about  15–16%,  the  devices  employing  CNBPz-based  emitters  (1  and  2)  are  among  the  most  efficient  red  TADF-OLEDs  reported  with  similar  color  gamut.[11–18] These ηext values are certainly three to four times  higher  than  the  5%  theoretical  limitation  of ηext  for  conven- tional  fluorescent  emitters,  indicative  of  efficient  harvesting',\n",
       " 'figure 6': 'Figure 6.  Energy diagram and excited-state dynamics postulated for the  TADF  molecules  1–4.  Upon  photoexcitation,  the  generated  S1  excitons  decay either radiatively (kr) or nonradiatively (knr) to the S0 state. Concur- rently, some S1 excitons undergo ISC to convert to the T1 state (kISC). At  a sufficient temperature, the T1 excitons are repopulated to the S1 state  (kRISC), resulting in TADF.'}"
      ]
     },
     "execution_count": 6,
     "metadata": {},
     "output_type": "execute_result"
    }
   ],
   "source": [
    "pdf.caption()"
   ]
  },
  {
   "cell_type": "markdown",
   "id": "c2040fc4",
   "metadata": {},
   "source": [
    "### Get Keywords"
   ]
  },
  {
   "cell_type": "code",
   "execution_count": 7,
   "id": "8b33d4ec",
   "metadata": {},
   "outputs": [
    {
     "data": {
      "text/plain": [
       "'donor–acceptor  systems,  luminescence,  organic  light  emitting  diodes, \\norganic semiconductors, thermally activated delayed fluorescence'"
      ]
     },
     "execution_count": 7,
     "metadata": {},
     "output_type": "execute_result"
    }
   ],
   "source": [
    "pdf.keywords()# Note: Some articles do not contain keywords. For example, the current one."
   ]
  },
  {
   "cell_type": "markdown",
   "id": "804e1ab0",
   "metadata": {},
   "source": [
    "### Get Title"
   ]
  },
  {
   "cell_type": "code",
   "execution_count": 8,
   "id": "a66f3899",
   "metadata": {},
   "outputs": [
    {
     "data": {
      "text/plain": [
       "'Highly Efficient Red–Orange Delayed Fluorescence  Emitters Based on Strong π-Accepting Dibenzophenazine  and Dibenzoquinoxaline Cores: toward a Rational Pure-Red  OLED Design'"
      ]
     },
     "execution_count": 8,
     "metadata": {},
     "output_type": "execute_result"
    }
   ],
   "source": [
    "pdf.title()"
   ]
  },
  {
   "cell_type": "markdown",
   "id": "79b42a22",
   "metadata": {},
   "source": [
    "### Get DOI"
   ]
  },
  {
   "cell_type": "code",
   "execution_count": 9,
   "id": "d560ebe8",
   "metadata": {},
   "outputs": [
    {
     "data": {
      "text/plain": [
       "'10.1002/adom.201701147'"
      ]
     },
     "execution_count": 9,
     "metadata": {},
     "output_type": "execute_result"
    }
   ],
   "source": [
    "pdf.doi()"
   ]
  },
  {
   "cell_type": "markdown",
   "id": "72a45de5",
   "metadata": {},
   "source": [
    "### Get Abstract"
   ]
  },
  {
   "cell_type": "code",
   "execution_count": 10,
   "id": "79f95f44",
   "metadata": {},
   "outputs": [
    {
     "data": {
      "text/plain": [
       "['Organic luminescent materials that exhibit thermally activated delayed fluorescence (TADF) can harvest both singlet and triplet excitons for light emission, leading to high electroluminescence (EL) quantum efficiencies in organic light-emitting diodes (OLEDs). However, efficient red TADF materials are still very rare because of their restricted molecular design based on the energy gap law. To address this issue, elaborate π-conjugated donor–acceptor (D–A) systems that can simultaneously achieve a large fluorescence radiative rate and small singlet–triplet energy splitting should be strategically designed. In this study, to produce high-efficiency pure-red TADF materials, a remarkably strong π-accepting dicyanodibenzo[a,c]phena-zine (CNBPz) unit has been introduced in a D–π–A molecular framework, and combined with a phenylene-linked p-ditolylamine or 9,9-dimethylacridan moiety. The steady-state and time-resolved photophysical measurements revealed intense genuine red TADF emissions of these CNBPz-based mole-cules in both solution and doped thin films. The OLEDs incorporating the CNBPz-based TADF emitters achieve the desired high-efficiency pure-red EL, centered at 670 nm with color coordinates of (0.66, 0.34), accompanied by a high maximum external EL quantum efficiency of 15.0%. Therefore, it is concluded that CNBPz, with its expanded π-conjugation and strong elec-tron-accepting characteristics, is a particularly useful building unit to design long-wavelength TADF materials that can overcome the intrinsic energy gap law obstacle.']"
      ]
     },
     "execution_count": 10,
     "metadata": {},
     "output_type": "execute_result"
    }
   ],
   "source": [
    "pdf.abstract()"
   ]
  },
  {
   "cell_type": "markdown",
   "id": "c38c4e5f",
   "metadata": {},
   "source": [
    "### Get Journal"
   ]
  },
  {
   "cell_type": "code",
   "execution_count": 26,
   "id": "82b5d4a0",
   "metadata": {},
   "outputs": [
    {
     "data": {
      "text/plain": [
       "{'name': 'adv. optical mater',\n",
       " 'year': '2018',\n",
       " 'volume': ' 6',\n",
       " 'page': ' 1701147'}"
      ]
     },
     "execution_count": 26,
     "metadata": {},
     "output_type": "execute_result"
    }
   ],
   "source": [
    "pdf.journal()"
   ]
  },
  {
   "cell_type": "markdown",
   "id": "698dbdb1",
   "metadata": {},
   "source": [
    "### Get Journal name"
   ]
  },
  {
   "cell_type": "code",
   "execution_count": 27,
   "id": "e367a992",
   "metadata": {},
   "outputs": [
    {
     "data": {
      "text/plain": [
       "'adv. optical mater'"
      ]
     },
     "execution_count": 27,
     "metadata": {},
     "output_type": "execute_result"
    }
   ],
   "source": [
    "pdf.journal('name')"
   ]
  },
  {
   "cell_type": "markdown",
   "id": "ebe0bd54",
   "metadata": {},
   "source": [
    "### Get Journal Year"
   ]
  },
  {
   "cell_type": "code",
   "execution_count": 28,
   "id": "8843ea2b",
   "metadata": {},
   "outputs": [
    {
     "data": {
      "text/plain": [
       "'2018'"
      ]
     },
     "execution_count": 28,
     "metadata": {},
     "output_type": "execute_result"
    }
   ],
   "source": [
    "pdf.journal('year')"
   ]
  },
  {
   "cell_type": "markdown",
   "id": "08318496",
   "metadata": {},
   "source": [
    "### Get Journal Volume"
   ]
  },
  {
   "cell_type": "code",
   "execution_count": 29,
   "id": "a8f11940",
   "metadata": {},
   "outputs": [
    {
     "data": {
      "text/plain": [
       "' 6'"
      ]
     },
     "execution_count": 29,
     "metadata": {},
     "output_type": "execute_result"
    }
   ],
   "source": [
    "pdf.journal('volume')"
   ]
  },
  {
   "cell_type": "markdown",
   "id": "70d8fdf9",
   "metadata": {},
   "source": [
    "### Get Journal Page"
   ]
  },
  {
   "cell_type": "code",
   "execution_count": 30,
   "id": "4a55d26c",
   "metadata": {},
   "outputs": [
    {
     "data": {
      "text/plain": [
       "' 1701147'"
      ]
     },
     "execution_count": 30,
     "metadata": {},
     "output_type": "execute_result"
    }
   ],
   "source": [
    "pdf.journal('page')"
   ]
  },
  {
   "cell_type": "markdown",
   "id": "fd3e3289",
   "metadata": {},
   "source": [
    "### Get Plain Text"
   ]
  },
  {
   "cell_type": "code",
   "execution_count": 11,
   "id": "e8ce1538",
   "metadata": {},
   "outputs": [
    {
     "data": {
      "text/plain": [
       "'OLEDs\\n\\nHighly Efficient Red–Orange Delayed Fluorescence \\nEmitters Based on Strong π-Accepting Dibenzophenazine \\nand Dibenzoquinoxaline Cores: toward a Rational Pure-Red \\nOLED Design\\n\\nRyuhei Furue, Kyohei Matsuo, Yasuhiko Ashikari, Hirohito Ooka, Natsuki Amanokura, \\nand Takuma Yasuda*\\n\\nOrganic luminescent materials that exhibit thermally activated delayed \\nfluorescence (TADF) can harvest both singlet and triplet excitons for light \\nemission, leading to high electroluminescence (EL) quantum efficiencies \\nin organic light-emitting diodes (OLEDs). However, efficient red TADF \\nmaterials are still very rare because of their restricted molecular design \\nbased on the energy gap law. To address this issue, elaborate π-conjugated \\ndonor–acceptor (D–A) systems that can simultaneously achieve a large \\nfluorescence radiative rate and small singlet–triplet energy splitting should \\nbe strategically designed. In this study, to produce high-efficiency pure-red \\nTADF materials, a remarkably strong π-accepting dicyanodibenzo[a,c]phenazine (CNBPz) unit has been introduced in a D–π–A molecular framework, \\nand combined with a phenylene-linked p-ditolylamine or 9,9-dimethylacridan \\nmoiety. The steady-state and time-resolved photophysical measurements \\nrevealed intense genuine red TADF emissions of these CNBPz-based molecules in both solution and doped thin films. The OLEDs incorporating the \\nCNBPz-based TADF emitters achieve the desired high-efficiency pure-red EL, \\ncentered at 670 nm with color coordinates of (0.66, 0.34), accompanied by \\na high maximum external EL quantum efficiency of 15.0%. Therefore, it is \\nconcluded that CNBPz, with its expanded π-conjugation and strong electron-accepting characteristics, is a particularly useful building unit to design \\nlong-wavelength TADF materials that can overcome the intrinsic energy gap \\nlaw obstacle.\\n\\n1. Introduction\\n\\nMetal-free  purely  organic  luminophores \\nthat display thermally activated delayed fluorescence  (TADF)  have  recently  attracted \\nsignificant attention owing to their promising applications in organic light-emitting \\ndiodes  (OLEDs),[1,2] \\nlight-emitting  electrochemical  cells,[3]  optical  upconversion \\ndevices,[4]  and  time-resolved  fluorescence \\nimaging.[5]  In  particular  for  OLED  displays  and  solid-state \\nlighting  applications, TADF materials can be an attractive \\nto  phosphorescent \\nlow-cost  alternative \\norganometallic  complexes \\nthat  contain \\nexpensive precious metals such as iridium \\nand platinum. With a small singlet–triplet \\nenergy  splitting  (ΔEST,  typically  less  than \\n0.2 eV), these TADF materials enable efficient  upconversion  of  the  nonemissive \\ntriplet (T1) excitons to the emissive singlet \\n(S1)  excitons  via  fast  reverse  intersystem \\ncrossing (RISC), facilitating the utilization \\nof  the  electro-generated  excitons  for  electroluminescence  (EL)  emission.[1,2]  Over \\nthe past few years, significant progress has \\nbeen  made  in  the  development  of  blue,[6] \\nsky-blue,[7] green,[8] yellow,[9] and orange[10] \\n\\nR. Furue, Dr. K. Matsuo, Prof. T. Yasuda\\nINAMORI Frontier Research Center (IFRC)\\nKyushu University\\n744 Motooka, Nishi-ku, Fukuoka 819-0395, Japan\\nE-mail: yasuda@ifrc.kyushu-u.ac.jp\\nR. Furue, Prof. T. Yasuda\\nDepartment of Applied Chemistry\\nGraduate School of Engineering\\nKyushu University\\n744 Motooka, Nishi-ku, Fukuoka 819-0395, Japan\\n\\nThe ORCID identification number(s) for the author(s) of this article \\ncan be found under https://doi.org/10.1002/adom.201701147.\\n\\nDOI: 10.1002/adom.201701147\\n\\nY. Ashikari, H. Ooka\\nNippon Soda Co., Ltd.\\nOdawara Research Center\\n345 Takada, Odawara, Kanagawa 250-0280, Japan\\nDr. N. Amanokura\\nNippon Soda Co., Ltd.\\n2-2-1 Ohtemachi, Chiyoda-ku, Tokyo 100-8165, Japan\\n\\nAdv. Optical Mater. 2018, 6, 1701147\\n\\n1701147  (1 of 9)\\n\\n© 2018 WILEY-VCH Verlag GmbH & Co. KGaA, Weinheim\\n\\nFigure 1.  Molecular structures of D–π–A-type CNBPz- and CNBQx-based \\nTADF materials.\\n\\nTADF-OLEDs,  and  considerably  high  external  EL  quantum \\nefficiencies  (ηext)  over  20%,  corresponding  to  the  internal  EL \\nquantum efficiencies (ηint) of ≈100%, have been achieved.[1,6–10] \\nHowever,  as  one  of  the  three  primary  colors  indispensable  in \\nfull-color displays, developing efficient pure-red TADF materials \\nremains  an  unaddressed  issue.  To  date,  there  are  only  a  few \\nreports on red TADF materials that meet the criteria of the emission maximum beyond 600 nm and the Commisssion Internationale  de  l’Éclairage  (CIE)  chromaticity  coordinates  of  x  >  0.6 \\nand  y  <  0.4.[11–18]  The  most  efficient  red  TADF-OLED  reported \\nto  date,  based  on  a  heptaazaphenalene  derivative,  has  a  stateof-the-art ηext of 17.5% with an EL emission maximum (λEL) at \\n≈610 nm and CIE coordinates of (0.60, 0.40).[11] However, there \\nis  still  much  room  for  improving  the  overall  performance  due \\nto  its  poor  color  purity  and  significant  roll-off  at  high  current \\ndensity.  Thus,  further  developing  high-performance  pure-red \\nTADF materials and their devices with CIE coordinates close to \\nthe National Television System Committee (NTSC) standard red \\n(0.67, 0.33) is a key challenge for future OLED technology.\\n\\nIn  principle,  ΔEST  is  proportional  to  the  electron-exchange \\nenergy  and,  hence,  the  overlap  integral  between  the  highest \\noccupied  molecular  orbital  (HOMO)  and  the  lowest  unoccupied  molecular  orbital  (LUMO).  Thus,  the  most  common \\ndesign  strategy  for  TADF  materials  is  based  on  highly  twisted \\n(or  orthogonal)  electron  donor–acceptor  (D–A)  structures  with \\nintramolecular  charge-transfer  (ICT)  features  to  separate  the \\nspatial  distribution  of  these  frontier  orbitals.  However,  the \\nHOMO–LUMO  separation  in  a  pretwisted  D–A  system  generally  tends  to  decrease  the  fluorescence  radiative  decay  rate \\n(kr)  and  oscillator  strength  (f)  between  the  S1  and  ground  (S0) \\nstates,  which  can  be  detrimental  to  attaining  a  high  photoluminescence quantum yield (ΦPL). Furthermore, because of the \\ncoupling  (or  vibrational  overlap)  between  the  zero-vibrational \\nlevel  of  the  S1  state  and  the  higher  vibrational  levels  of  the  S0 \\nstate,  TADF  materials  with  long-wavelength  emissions  (λEL  > \\n600  nm)  suffer  from  the  accelerated  nonradiative  decay  rate \\n(knr)  governed  by  the  energy  gap  law.[19]  Therefore,  a  rational \\ndesign  of  the  D–A  motif  and  their  linking  tactics  are  of  vital \\nimportance  for  producing  high-performance  pure-red  TADF \\nmaterials with both small ΔEST and high ΦPL.\\n\\nHerein,  we  report  novel  high-efficiency  red  TADF  materials  Da-CNBPz  (1)  and  Ac-CNBPz  (2)  based  on  an  asymmetric  D–π–A  configuration \\n(Figure  1),  consisting  of \\n11,12-dicyanodibenzo[a,c]phenazine[20] (CNBPz) as an extremely \\nstrong  A  unit,  p-ditolylamine  (Da)  or  9,9-dimethylacridan  (Ac) \\nas a D unit, and a phenylene π-bridging unit. For comparison, \\nanalogous D–π–A-type TADF materials Da-CNBQx (3) and AcCNBQx  (4),  containing  2,3-dicyanodibenzo[f,h]quinoxaline[13] \\n(CNBQx)  as  a  less  strong  A  unit,  are  also  discribed.  Owing  to \\nits  highly  expanded  π-conjugation  and  presence  of  multiple \\nelectron-withdrawing cyano and imine groups, the CNBPz unit \\npossesses  much  stronger  electron-accepting  characteristics  (or \\nlower-lying LUMO energy level) than CNBQx and other A units \\npreviously  reported  for  red  TADF  materials[11–18]  (Figure  2). \\nThese characteristics are beneficial for producing efficient purered  TADF  materials  via  a  simple  molecular  design.  OLEDs \\nemploying 1 and 2 as TADF emitters indeed displayed intense \\nred  EL  with  λEL  of  670  and  630  nm,  and  achieved  high  ηext \\nvalues, up to 15.0% and 16.2%, respectively.\\n\\nAdv. Optical Mater. 2018, 6, 1701147\\n\\n1701147  (2 of 9)\\n\\n© 2018 WILEY-VCH Verlag GmbH & Co. KGaA, Weinheim\\n\\nFigure  2.  Comparison  of  the  intrinsic  electron-accepting  capability \\n(LUMO level) of various A units used for red TADF materials, estimated \\nby DFT at the PBE0/6-31G(d) level.\\n\\n2. Results and Discussion\\n\\n2.1. Computational Simulations\\n\\nIn  order  to  verify  the  geometric  structures  and  intrinsic  electronic characteristics, time-dependent density functional theory \\n(TDDFT)  calculations  were  performed  for  the  newly  designed \\nD–π–A  molecules  1–4  prior  to  their  synthesis.  Their  groundstate (S0) geometries were optimized at the PBE0/6-31G(d) level \\nin  the  gas  phase.  The  excited  S1  and  T1  energies  and  associated oscillator strengths (f) were calculated by using TDDFT at \\nthe same level, using the optimized S0 structures as the initial \\ngeometry. As shown in Figure 3, incorporating the π-expanded \\nCNBPz  unit  stabilized  the  LUMO  levels  by  0.2–0.3  eV  and \\nhence lowered the HOMO–LUMO energy gaps of the resulting \\nD–π–A  molecules,  in  comparison  with  the  corresponding \\nCNBQx  derivatives.  Notably,  the  relatively  small  steric  hindrance  between  the  Da  unit  and  the  adjacent  phenylene  unit \\nendowed 1 and 3 with an overall more planar molecular conformation with the corresponding dihedral angles (θD–π and θA–π), \\nbeing ≈34° and ≈32°, respectively. This differs from the highly \\ntwisted  2  and  4  with  nearly  orthogonal  geometries  between \\nthe  Ac  and  phenylene  units  (θD–π  =  87°–89°).  As  a  result,  the \\nHOMOs  and  LUMOs  of  the  Da-attached  1  and  3  tend  to  permeate  into  each  other,  increasing  f  to  0.2119  for  1  and  0.1970 \\n\\nfor  3  by  enlarging  the  frontier  orbital  overlap.  In  contrast,  the \\nAc-attached  2  and  4  have  well-separated  HOMO  and  LUMO \\ndistributions  primarily \\nlocalized  on  the  electron-donating \\nAc  unit  and  the  electron-accepting  CNBPz  (or  CNBQx)  unit, \\nrespectively,  resulting  in  much  smaller  calculated  f  (0.0001 \\nfor  2  and  0.0024  for  4)  and  ΔEST  values.  The  TDDFT  simulations also revealed that the calculated ΔEST values are ranked in \\nthe following order: 0.154 eV (3) > 0.111 eV (1) > 0.002 eV (4) \\n≈ 0.001 eV (2). This result manifests in the higher efficiency of \\nthe  RISC  (T1  →  S1  upconversion)  process  in  2  and  4  because \\nof  their  significantly  smaller  ΔEST  values,  while  the  radiative  transitions  (S1  →  S0  fluorescence)  can  be  accelerated  for \\n1 and 3 with larger f. Furthermore, unlike the common TADF \\nmole cules,  the  present  narrow-gap  D–π–A  molecules  1  and  3 \\nno longer require large intramolecular distortion or steric hindrance between the D and A units to lower the ΔEST and induce \\nthe TADF capability.\\n\\n2.2. Synthesis and Characterization\\n\\nAs  outlined  in  Scheme  1,  CNBPz-  and  CNBQx-based  compounds  1–4  were  synthesized  by  facile  three-step  reactions, \\nstarting  from  phenanthrene-9,10-dione.  Free  radical  bromination  of  phenanthrene-9,10-dione  with  Br2  (1  equiv.)  in  the \\n\\nFigure 3.  Calculated S1 and T1 energies with oscillator strength (f), optimized molecular geometries, and HOMO and LUMO distributions for 1–4 \\nusing the PBE0/6-31G(d) method. H → L represents the HOMO to LUMO transition.\\n\\nAdv. Optical Mater. 2018, 6, 1701147\\n\\n1701147  (3 of 9)\\n\\n© 2018 WILEY-VCH Verlag GmbH & Co. KGaA, Weinheim\\n\\nScheme 1.  Synthetic routes for CNBPz- and CNBQx-based TADF materials 1–4.\\n\\npresence  of  benzoyl  peroxide  (BPO)  proceeded  regioselectively \\nto yield monobromide 5.[21] Under palladium-catalyzed Suzuki–\\nMiyaura cross-coupling conditions, 5 was subsequently coupled \\nwith  the  corresponding  donor-containing  boronic  acid  or  ester \\n(6  or  7),  affording  key  diketone  intermediates  8  and  9  in  high \\nyields  (85%  and  82%,  respectively).  These  diketone  intermediates  were  highly  stable  and  could  be  handled  in  air.  Finally, \\nthe  desired  compounds,  1–4,  were  prepared  by  the  dehydrative  cyclization  of  8  and  9  with  4,5-diaminophthalonitrile  (for \\n1  and  2)  or  diaminomaleonitrile  (for  3  and  4)  in  moderate  to \\nhigh  yields  (51–94%).  The  detailed  synthesis  procedures  and \\ncharacterization  data  for  1–4  are  described  in  the  Supporting \\nInformation. The thermogravimetric analyses showed that 1–4 \\nhad  high  thermal  stabilities  with  5%  weight-loss  temperatures \\n(Td) of 551, 421, 542, and 395°C, respectively (Supporting Information), which are favorable for fabricating OLEDs via vacuum \\nthermal deposition.\\n\\nAs  presented  in  Figure  4,  X-ray  crystallographic  analyses \\nconfirmed the molecular structures of 1–3 in the solid states \\n(see also Supporting Information). The Ac-attached 2 indeed \\n\\nadopts  a  highly  distorted  molecular  geometry  with  a  dihedral angle (θD–π) of ≈78° between the Ac unit and the nearby \\nphenylene  linker,  which  is  favorable  to  lower  the  electronic \\ncoupling  between  the  HOMO  and  LUMO.  In  contrast,  for \\nthe Da-attached 1 and 3, the dihedral angles between the Da \\nmoiety  and  the  phenylene  linker  (θD–π)  are  ≈18°  and  ≈27° \\nand  those  between  the  CNBPz  or  CNBQx  unit  and  the  phenylene linker (θA–π) are ≈20° and ≈28°, respectively, revealing \\ntheir  overall  more  planar  conformations.  In  this  case,  the \\nlone  pair  of  the  sp3-hybridized  N  atom  in  the  Da  unit  can \\nsubstantially  participate  in  π-conjugation  with  the  nearby \\nphenylene linker.\\n\\n2.3. Photophysical Properties\\n\\nICT  is  a  prominent  feature  of  the  TADF  materials,  which  can \\nbe confirmed by electronic absorption spectra. Figure 5a shows \\nthe  UV–vis  absorption  spectra  of  1–4  in  their  dilute  toluene \\nsolutions.[22] The intense higher-energy absorption bands below \\n\\nFigure 4.  Molecular structures of 1–3 (CCDC 1578725, 1578726, and 1576763, respectively) with thermal ellipsoids at 50% probability determined by \\nsingle-crystal X-ray analyses. The dihedral angles (θD–π and θA–π) are estimated from the respective interplanar angles for the donor (pink), phenylene \\n(green), and acceptor (blue) moieties.\\n\\nAdv. Optical Mater. 2018, 6, 1701147\\n\\n1701147  (4 of 9)\\n\\n© 2018 WILEY-VCH Verlag GmbH & Co. KGaA, Weinheim\\n\\nFigure 5.  Photophysical properties of 1–4: a) UV–vis absorption and b) PL spectra in oxygen-free toluene; c) steady-state PL spectra and d) transient \\nPL decay profiles of the 6 wt%-doped thin films in a CBP host matrix measured at 300 K under N2.\\n\\n430  nm  can  be  attributed  to  the π–π*  and  n–π*  transitions  of \\nthe  arylamines  and  CNBPz  or  CNBQx  moieties.  Compared \\nto  the  Ac-attached  2  and  4,  much  stronger  broad  ICT  absorptions  are  observed  for  the  Da-attached  1  and  3,  with  absorption maxima (λabs) at 500 and 470 nm, respectively, originating \\nfrom the stronger HOMO → LUMO transitions. Weaker intensities  of  the  ICT  absorptions  of  2  and  4  are  explained  by  the \\nnegligible  frontier  orbital  overlap  and  small  oscillator  strength \\nin  these  molecules,  as  predicted  by  the  TDDFT  calculations \\n(see  Figure  3).  Additionally,  the  lower-energy  absorption  edges \\nof 1 and 2 are redshifted by 0.10–0.15 eV relative to those of 3 \\nand  4,  respectively,  as  a  result  of  the  stabilization  of  their  ICT \\nstates  by  incorporating  the  strongly  electron-accepting  CNBPz \\nunit.  As  depicted  in  Figure  5b,  the  solution  PL  spectra  of  1–4 \\nexhibit  structureless  orange-to-red  emissions,  with  peaks  (λPL) \\nranging from 595 to 640 nm and Stokes shifts of 140–150 nm. \\nThe  absolute  ΦPL  values  of  the  Da-attached  1  and  3  in  deoxygenated toluene solutions are as high as 85% and 97%, respectively; whereas the Ac-attached 2 and 4 have a much lower ΦPL \\nvalue, 31% for both.\\n\\nThe solid-state photophysical properties of 1–4 were investigated  by  doping  them  in  a  4,4′-bis(carbazol-9-yl)-1,1′-biphenyl \\n(CBP) host matrix as the T1 energy of CBP (ET ≈ 2.7 eV) is high \\nenough  to  prevent  the  backward  excited-energy  transfer  from \\nthe  T1  states  of  the  dopant  emitters  (1–4).  Moreover,  to  avoid \\naggregation-induced quenching (i.e., concentration quenching), \\nthe dopant concentration was controlled at a low level, typically \\n\\n6 wt%, in the co-deposited thin films. The detailed photophysical  data  obtained  for  1–4  are  compiled  in  Table  1.  As  shown \\nin Figure 5c, the PL emission colors of the doped films ranged \\nfrom yellow to pure-red with λPL lying between 561 and 688 nm \\nand  increasing  in  the  order  4  <  2  <  3  <  1,  and  their  corresponding  ΦPL  values  reaching  67–85%  under  N2  atmosphere. \\nAs  for  the  Ac-attached  2  and  4,  the  ΦPL  values  of  the  doped \\nfilms  increased  more  than  twice  relative  to  those  measured  in \\nthe  solutions,  similar  to  some  reported  Ac-containing  TADF \\nmaterials,[6f–h,15,23]  which  can  be  ascribed  to  the  suppression \\nof  the  nonradiative  deactivation  caused  by  intramolecular  torsional and vibrational excited-energy loss.\\n\\nTo  further  analyze  the  TADF  behavior,  the  transient  PL \\ncharacteristics  of  1–4  in  their  doped  films  were  examined.  As \\nshown  in  Figure  5d,  each  of  the  transient  PL  curves  clearly \\ndemonstrates  two  components  of  a  nanosecond-order  prompt \\ndecay and a microsecond-order delayed decay at room temperature  (300  K),  which  are  assigned  to  conventional  fluorescence \\n(S1 → S0) and TADF involving intersystem crossing (ISC) and \\nRISC  processes  (S1  →  T1  →  S1  →  S0),  respectively.  The  PL \\nintensity  of  the  delayed  component  increased  as  the  temperature  increased,  confirming  the  typical  TADF  feature.  All  the \\nmeasured transient PL curves could be fitted with a biexponential model as: I(t) = A1·exp(−t/τp) + A2·exp(−t/τd), where A1 and \\nA2 are frequency factors, and τp and τd are the lifetimes of the \\nprompt  and  delayed  decay  components,  respectively.  In  addition, the fractional quantum yields for the prompt and delayed \\n\\nAdv. Optical Mater. 2018, 6, 1701147\\n\\n1701147  (5 of 9)\\n\\n© 2018 WILEY-VCH Verlag GmbH & Co. KGaA, Weinheim\\n\\nTable 1.  Photophysical data of the CNBPz- and CNBQx-based TADF materials 1–4.\\n\\nEmitter\\n\\nDa-CNBPz (1)\\n\\nAc-CNBPz (2)\\n\\nDa-CNBQx (3)\\n\\nAc-CNBQx (4)\\n\\nλPL [nm]  \\nsola)/filmb)\\n\\nc) [%]  \\nΦPL\\nsola)/filmb)\\n\\nd)  \\n\\nΦp\\n[%]\\n\\nd)  \\n\\nΦd\\n[%]\\n\\n640/688\\n\\n624/615\\n\\n613/633\\n\\n595/561\\n\\n85/72\\n\\n31/67\\n\\n97/85\\n\\n31/75\\n\\n61\\n\\n14\\n\\n69\\n\\n28\\n\\n11\\n\\n53\\n\\n16\\n\\n47\\n\\ne)  \\nτp\\n[ns]\\n\\n10\\n\\n28\\n\\n7.7\\n\\n58\\n\\ne)  \\nτd\\n[µs]\\n\\n49\\n\\n6.9\\n\\n60\\n\\n9.3\\n\\nHOMOf)  \\n\\nLUMOg)  \\n\\n[eV]\\n\\n−5.5\\n\\n−5.6\\n\\n−5.5\\n\\n−5.7\\n\\n[eV]\\n\\n−3.7\\n\\n−3.7\\n\\n−3.6\\n\\n−3.6\\n\\nh)  \\nES\\n[eV]\\n\\n2.14\\n\\n2.34\\n\\n2.35\\n\\n2.61\\n\\nh)  \\nET\\n[eV]\\n\\n2.03\\n\\n2.31\\n\\n2.17\\n\\n2.51\\n\\ni)  \\n\\nΔEST\\n[eV]\\n\\n0.11\\n\\n0.03\\n\\n0.18\\n\\n0.10\\n\\na)Measured  in  an  oxygen-free  toluene  solution;  b)6  wt%-doped  thin  film  in  a  CBP  solid  host  matrix;  c)Absolute  PL  quantum  yield  evaluated  using  an  integrating  sphere \\nat 300 K under N2;  d)Fractional quantum yields for prompt fluorescence (Φp) and delayed fluorescence (Φd) for the 6 wt%-doped film, Φp + Φd = ΦPL;  e)PL lifetimes of \\nprompt fluorescence (τp) and delayed fluorescence (τd) for the 6 wt%-doped film at 300 K under N2; f)Determined by photoelectron yield spectroscopy in pure neat films; \\ng)Deduced from the HOMO and optical energy gap; h)Lowest excited singlet (ES) and triplet (ET) energies estimated from the onset wavelengths of the fluorescence and \\nphosphorescence spectra in the doped film, respectively; i)ΔEST = ES − ET.\\n\\nfluorescence components (Φp and Φd, respectively) were derived \\nby  using  the  expression,  Φp  =  ΦPL  ×  {A1·τp/(A1·τp  +  A2·τd)} \\nand  Φd  =  ΦPL  ×  {A2·τd/(A1·τp  +  A2·τd)}.  The  extracted τp, τd, \\nΦp,  and  Φd  values  for  1–4  in  the  doped  films  are  included  in \\nTable 1. While the Da-attached 1 and 3 exhibit shorter τp within \\n10 ns, the τd values of the Ac-attached 2 and 4, with more pronounced TADF contribution in PL (Φd = 53% and 47%, respectively),  are  much  shorter  than  those  of  1  and  3,  which  agrees \\nwith the variation in their ΔEST values obtained in both experiments and calculations (see Table 1 and Figure 3). These results \\nsuggest that the reduced ΔEST can accelerate the RISC process, \\nand thus shorten the TADF lifetimes.\\n\\nConsidering  the  exciton  dynamic  processes  illustrated  in \\nFigure  6,  we  also  assessed  the  related  photophysical  rate  constants of fluorescence radiative decay (kr), nonradiative internal \\nconversion  (knr),  ISC  (kISC),  and  RISC  (kRISC)  for  these  doped \\nfilms, which are summarized in Table 2. The kr values obtained \\nfor  1  and  3  (>107  s−1)  are  more  than  one  order  of  magnitude \\nlarger than those for 2 and 4 (≈106 s−1), whereas the kISC values \\nfor  1–4  are  at  the  same  order  of  magnitude  (≈107  s−1).  In \\ncontrast, the kRISC values for 1 and 3 (≈104 s−1) are one order of \\nmagnitude smaller than those for 2 and 4 (>105 s−1). Moreover, \\nit is found that the knr values for the CNBPz derivatives (1 and \\n2), with longer-wavelength PL emissions, are indeed larger than \\nthose of the corresponding CNBQx derivatives (3 and 4), as predicted by the energy gap law, ln(knr) ∝ ES\\n\\n−1.\\n\\n2.4. Electroluminescence Performance\\n\\nThe  achievement  of  intense  red  TADF  in  the  new  CNBPz \\nderivatives  inspired  us  to  further  explore  their  applicability  as \\npure-red  emitters  in  actual  devices.  We  fabricated  multilayer \\nTADF-OLEDs  with  the  following  configuration  (Figure  7a): \\nindium  tin  oxide  (ITO,  100  nm)/HAT-CN  (5  nm)/TAPC \\n(45  nm)/6  wt%-emitter:CBP  (15  nm)/B3PYMPM  (60  nm)/\\nLiq  (1  nm)/Al  (80  nm).  In  this  device  architecture,  HAT-CN \\n(2,3,6,7,10,11-hexacyano-1,4,5,8,9,12-hexaazatriphenylene)  and \\nTAPC  (1,1-bis(4-di-p-tolylaminophenyl)cyclohexane)  were  used \\nas  the  hole-injection  layer  and  hole-transporting  layer  (HTL), \\nrespectively.  B3PYMPM[24] \\n(4,6-bis(3,5-di-3-pyridylphenyl)2-methylpyrimidine)  and  Liq  (8-hydroxyquinoline \\nlithium) \\nserved  as \\nlayer  (ETL)  and  an \\nelectron-injection  material,  respectively.  To  reduce  the  holeinjection  barrier  between  TAPC  and  the  CBP-hosted  emission  layer  (EML),  a  thin  layer  of  4,4′,4″-tris(carbazol-9-yl)\\ntriphenylamine  (TCTA)[25]  was  inserted  at  the  HTL/EML \\ninterface.  The  HOMO  and  LUMO  energy  levels  of  1–4  as \\ndopant  emitters  are  above  and  below  those  of  the  CBP  host \\n(see  Figure  7a),  respectively,  implying  that  the  emitters  can \\neffectively  capture  the  injected  holes  and  electrons.  Moreover, \\nB3PYMPM as an ETL with a low-lying HOMO energy level can \\nprevent hole leakage and allow a better confinement of charge \\ncarriers and excitons within the EML.\\n\\nthe  electron-transporting \\n\\nFigure  7b  displays  the  EL  spectra  and  emission  colors \\nof  the  fabricated  TADF-OLEDs.  The  OLEDs  employing  the \\n\\nTable 2.  Summary of photophysical rate constants for 1–4.\\n\\nEmitter\\n\\nDa-CNBPz (1)\\n\\nAc-CNBPz (2)\\n\\nDa-CNBQx (3)\\n\\nAc-CNBQx (4)\\n\\nkr\\n\\na)  \\n[107 s−1]\\n\\nknr\\n\\nb)  \\n[107 s−1]\\n\\nkISC\\n\\nc)  \\n[107 s−1]\\n\\nd)  \\nkRISC\\n[105 s−1]\\n\\n6.1\\n\\n0.50\\n\\n9.0\\n\\n0.48\\n\\n2.4\\n\\n0.25\\n\\n1.6\\n\\n0.16\\n\\n1.5\\n\\n2.8\\n\\n2.4\\n\\n1.1\\n\\n0.24\\n\\n6.9\\n\\n0.21\\n\\n2.9\\n\\nFigure 6.  Energy diagram and excited-state dynamics postulated for the \\nTADF  molecules  1–4.  Upon  photoexcitation,  the  generated  S1  excitons \\ndecay either radiatively (kr) or nonradiatively (knr) to the S0 state. Concurrently, some S1 excitons undergo ISC to convert to the T1 state (kISC). At \\na sufficient temperature, the T1 excitons are repopulated to the S1 state \\n(kRISC), resulting in TADF.\\n\\na)Rate constant for fluorescence radiative decay (S1 → S0), kr ≈ Φp/τp;  b)Rate constant for nonradiative internal conversion (S1 → S0), knr ≈ kr·(1 − ΦPL)/ΦPL; c)Rate \\nconstant  for  ISC  (S1  →  T1),  kISC  ≈  kr·(1/Φp  −  1/ΦPL);  d)Rate  constant  for  RISC \\n(T1  →  S1)  calculated  by  assuming  that  most  of  the  T1  excitons  can  upconvert  to \\nS1 excitons through RISC (knr(T) << kRISC) and nonradiative exciton losses primarily \\noccur in the S1 states, kRISC ≈ ΦPL/(kr·τp·τd).\\n\\nAdv. Optical Mater. 2018, 6, 1701147\\n\\n1701147  (6 of 9)\\n\\n© 2018 WILEY-VCH Verlag GmbH & Co. KGaA, Weinheim\\n\\nFigure 7.  a) Energy level diagram and chemical structures of the materials for the TADF-OLEDs based on 1–4 as emitters. b) EL spectra measured at  \\n1 mA cm−2 with corresponding emission colors on the CIE 1931 chromaticity diagram and photos of EL emissions from the devices. c) Current-density–\\nvoltage–luminance (J–V–L) characteristics and d) external EL quantum efficiency (ηext) versus J plots of the TADF-OLEDs.\\n\\nCNBPz-based 1 and 2 emitted bright red light, with λEL at 670 \\nand 630 nm and corresponding CIE color coordinates of (0.66, \\n0.34) and (0.61, 0.39), respectively. Meanwhile, the TADF-OLEDs  \\nbased  on  3  and  4  exhibited  orange  EL,  with  λEL  at  617  and  \\n585  nm,  respectively.  Notably,  the  EL  chromaticity  of  the  \\n1-based  device  was  quite  close  to  the  NTSC  standard  red  CIE \\n(0.67, 0.33).\\n\\nFigure  7c,d  shows  the  current-density–voltage–luminance \\n(J–V–L)  and  external  EL  quantum  efficiency–current  density \\n(ηext–J)  characteristics,  respectively,  of  these  TADF-OLEDs. \\nThe key EL parameters are summarized in Table 3. The turnon voltages (Von) of these four devices were as low as ≈2.8 V, \\nand their maximum ηext reached 15.0% (for 1), 16.2% (for 2), \\n20.0%  (for  3),  and  14.0%  (for  4),  without  light  out-coupling \\nenhancement.  With ηext  values  of  about  15–16%,  the  devices \\nemploying  CNBPz-based  emitters  (1  and  2)  are  among  the \\nmost  efficient  red  TADF-OLEDs  reported  with  similar  color \\ngamut.[11–18] These ηext values are certainly three to four times \\nhigher  than  the  5%  theoretical  limitation  of ηext  for  conventional  fluorescent  emitters,  indicative  of  efficient  harvesting \\n\\nof the electro-generated T1 excitons for EL emission. Intriguingly,  different  degrees  of  efficiency  roll-off  were  observed \\nin  the  high  current  density  region  (Figure  7d).  Among  these \\n\\nTable 3.  EL performance of the TADF-OLEDs based on 1–4.\\n\\n1\\n\\n670\\n\\n2.8\\n\\n15.0\\n\\n3.8\\n\\n6.2\\n\\n7.0\\n\\n2\\n\\n630\\n\\n2.8\\n\\n16.2\\n\\n14.5\\n\\n18.2\\n\\n17.2\\n\\n3\\n\\n617\\n\\n2.8\\n\\n20.0\\n\\n7.5\\n\\n28.9\\n\\n32.4\\n\\n4\\n\\n585\\n\\n2.8\\n\\n14.0\\n\\n13.9\\n\\n34.0\\n\\n33.3\\n\\nλEL\\n\\na) [nm]\\n\\nVon\\n\\nb) [V]\\n\\nηext,max\\n\\nc) [%]\\n\\nηext,100\\n\\nd) [%]\\n\\nηc\\n\\ne) [cd A−1]\\n\\nηp\\n\\nf) [lm W−1]\\n\\nCIEg) (x, y)\\n\\n(0.66, 0.34)\\n\\n(0.61, 0.39)\\n\\n(0.59, 0.41)\\n\\n(0.51, 0.48)\\n\\na)EL emission maximum at 1 mA cm−2; b)Turn-on voltage at a luminance over 1 cd m−2; \\nc)Maximum external EL quantum efficiency; d)External EL quantum efficiency driven at \\n100 cd m−2; e)Maximum current efficiency; f)Maximum power efficiency; g)Commission \\nInternationale de l’Éclairage (CIE) chromaticity coordinates recorded at 1 mA cm−2.\\n\\nAdv. Optical Mater. 2018, 6, 1701147\\n\\n1701147  (7 of 9)\\n\\n© 2018 WILEY-VCH Verlag GmbH & Co. KGaA, Weinheim\\n\\nfour  TADF  emitters,  1  and  3  exhibit  longer τd  (see  Table  1). \\nThe  population  density  of  the  barely  upconverted  T1  excitons  should  thus  increase  at  high  current  densities,  even \\nwith  their  high  kr,  causing  a  large  efficiency  roll-off  through \\nexciton deactivation, such as triplet–triplet annihilation (TTA) \\nand  singlet–triplet  annihilation  (STA).[26]  In  contrast,  for  2 \\nand 4, the enhanced RISC process (kRISC > 105 s−1) effectively \\nshortens the TADF lifetime, endowing reduced triplet exciton \\ndensity  for  suppressed  TTA  and  STA.[23]  Consequently,  the \\nTADF-OLEDs  based  on  2  and  4  could  retain  rather  high ηext \\nvalues of 14.5% and 13.9%, respectively, even when driven at \\na  practical  luminance  of  100  cd  m−2  for  display  applications; \\nwhereas  the  ηext  values  of  the  devices  using  1  and  3  were \\nreduced  to  3.8%  and  7.5%,  respectively,  at  the  same  luminance. Hence, the efficiency roll-off was apparently mitigated \\nusing the Ac-attached 2 and 4 with smaller ΔEST as the TADF \\nemitters.\\n\\nTo  confirm  their  excellent  EL  characteristics,  the  theoretical \\nηext  maxima  were  estimated  for  1–4.  In  TADF-OLEDs,  the  \\nT1 excitons are directly generated by the recombination of holes \\nand  electrons,  and  then  undergo  the  RISC  process  for  conversion  into  S1  excitons.  Accordingly,  by  assuming  spin-statistical \\nproduction  ratios  of  0.25  and  0.75  for  the  S1  and  T1  excitons, \\nrespectively,  the  theoretical  maxima  of  ηext  and  ηint  can  be \\nexpressed using Equations (1) and (2)[6g,15a,27]\\n\\nη η η\\n\\n=\\n\\n×\\n\\next\\n\\nint\\n\\nout\\n\\n \\n\\nη γ (\\n= ×\\n\\nint\\n\\n0.25\\n\\n× Φ +\\n\\np\\n\\n0.25\\n\\n× Φ +\\n\\nd\\n\\n0.75\\n\\n× Φ Φ\\n\\n/\\n\\nd\\n\\nISC\\n\\n)\\n\\n \\n\\nwhere  ηout  is  the  light  out-coupling  factor,  assuming  ηout  ≈ \\n0.2;  γ  is  the  charge  balance  factor,  assuming  γ  ≈  1.0  for  fully \\nbalanced  carrier  recombination;  and  ΦISC  is  the  intersystemcrossing quantum efficiency, ΦISC ≈ 1 − Φp/ΦPL. The theoretical \\nηext  maxima  for  the  TADF-OLEDs  based  on  1–4  are  estimated \\nas  14%,  13%,  17%,  and  15%,  respectively.  These  theoretical \\nvalues  are  in  reasonable  agreement  with  the  experimentally \\nobtained  maximum ηext  values  (see  Table  3),  implying  that  an \\nappropriate  carrier  balance  and  effective  exciton  confinement \\nare  achieved  in  the  present  devices.  We  also  performed  preliminary  stability  tests  for  the  1-based  pure-red  TADF-OLEDs \\n(Supporting  Information).  The  devices  were  operated  at  an \\ninitial luminance (L0) of 100 and 200 cd m−2 under a constant \\ncurrent  density.  The  operational  lifetimes  until  a  10%  drop \\nin  luminance  (LT90)  were  106  h  (at  L0  =  100  cd  m−2)  and  24  h  \\n(at  L0  =  200  cd  m−2).  Although  the  LT90  lifetimes  obtained \\nfor  the  current  devices  are  unsatisfactory,  we  expect  further \\nimprovement in device stability by exploring the best combination of host and adjacent HTL and ETL materials, and possible \\nchanges to the device architecture.\\n\\n(1)\\n\\n(2)\\n\\nand  lesser  extent  of  π-conjugation  were  tested  concurrently. \\nThe  underlying  ICT  characteristics  and  TADF  properties  of \\nthese  materials  were  investigated  by  steady-state  and  timeresolved  photophysical  measurements,  together  with  TDDFT \\ncomputational  techniques.  Incorporating  such  strong  CNBPz \\nand  CNBQx  units  together  with  a  phenylene π-bridging  unit \\ninto  D–π–A  molecular  frameworks  resulted  in  efficient  longwavelength  TADF  materials  with  a  suitable  balance  between \\na small ΔEST and a large kr. These CNBPz- and CNBQx-based \\nmaterials  successfully  achieved  red–orange  TADF  emissions  (λPL  =  561–688  nm)  with  simultaneous  rather  high  PL \\nquantum  yields  (ΦPL  =  67–85%)  in  doped  thin  films,  despite \\nthe  vibrational  deactivation  due  to  the  energy  gap  law.  As  a \\nresult,  the  red–orange  TADF-OLEDs  incorporating  1–4  as \\nthe  emitters  achieved  high  maximum ηext  values  of  14–20%, \\naccompanied  by  low  turn-on  voltages  of  ≈2.8  V.  Notably,  the \\n1-based  device  demonstrated  promising  EL  performance \\nfor  pure-red  OLEDs,  with  a  high  maximum  ηext  of  15.0%, \\nlong-wavelength  λEL  at  670  nm,  and  excellent  pure-red  CIE \\nof  (0.66,  0.34).  This  pure-red  device  outperforms  other  red \\nTADF-OLEDs  reported  with  similar  emission  wavelengths. \\nThese findings demonstrate that our design strategy for developing high-efficiency red TADF emitters is indeed promising. \\nImportantly, it will broaden the horizon for CNBPz derivatives \\nand their possible analogs as emerging long-wavelength TADF \\nmaterials exhibiting high EL efficiencies. The further development  of  long-wavelength  TADF  emitters  fulfilling  both  high \\nΦPL and short τd (i.e., large kr and kRISC) is urgent for pursuing \\nhigh-performance  red-to-NIR  OLEDs  with  suppressed  efficiency roll-off.\\n\\nSupporting Information\\n\\nSupporting  Information  is  available  from  the  Wiley  Online  Library  or \\nfrom the author.\\n\\nAcknowledgements\\n\\nThis work was supported in part by Grant-in-Aid from the Hoso Bunka \\nFoundation  and  the  Canon  Foundation.  R.F.  is  grateful  for  financial \\nsupport  from  the  JSPS  Research  Fellow  (Grant  No.  JP17J11135).  The \\nauthors  are  grateful  for  the  support  of  the  Cooperative  Research \\nProgram “Network Joint Research Center for Materials and Devices.” \\nThe  authors  also  acknowledge  Dr.  Naoya  Aizawa \\nfor  helpful \\ndiscussion.\\n\\nConflict of Interest\\n\\nThe authors declare no conflict of interest.\\n\\n3. Conclusion\\n\\nRed TADF materials 1 and 2 featuring CNBPz as an extremely \\nstrong  electron-accepting  unit  were  designed  and  synthesized.  For  comparison,  analogous  TADF  materials  3  and  4 \\nbased  on  CNBQx  with  a  less  strong  electron-accepting  ability \\n\\nKeywords\\n\\ndonor–acceptor  systems,  luminescence,  organic  light  emitting  diodes, \\norganic semiconductors, thermally activated delayed fluorescence\\n\\nReceived: October 26, 2017\\nRevised: December 21, 2017\\nPublished online: January 16, 2018\\n\\nAdv. Optical Mater. 2018, 6, 1701147\\n\\n1701147  (8 of 9)\\n\\n© 2018 WILEY-VCH Verlag GmbH & Co. KGaA, Weinheim\\n\\n[1]  H.  Uoyama,  K.  Goushi,  K.  Shizu,  H.  Nomura,  C.  Adachi,  Nature \\n\\n2012, 492, 234.\\n\\n[2]  For reviews, see: a) Y. Tao, K. Yuan, T. Chen, P. Xu, H. Li, R. Chen, \\nC.  Zheng,  L.  Zhang,  W.  Huang,  Adv.  Mater.  2014,  26,  7931;  \\nb) M. Y. Wong, E. Zysman-Colman, Adv. Mater. 2017, 29, 1605444; \\nc)  Y.  Im,  M.  Kim,  Y.  J.  Cho,  J.-A.  Seo,  K.  S.  Yook,  J.  Y.  Lee,  Chem. \\nMater.  2017,  29,  1946;  d)  M.  Godumala,  S.  Choi,  M.  J.  Cho,  \\nD.  H.  Choi,  J.  Mater.  Chem.  C  2016,  4,  11355;  e)  N.  Aizawa,  \\nI. S. Park, T. Yasuda, AAPPS Bull. 2016, 26, 9.\\n\\n[3]  a)  M.  Y.  Wong,  G.  J.  Hedley,  G.  Xie,  L.  S.  Kölln,  I.  D.  W.  Samuel, \\nA.  Pertegás,  H.  J.  Bolink,  E.  Zysman-Colman,  Chem.  Mater.  2015, \\n27, 6535; b) P. Lundberg, E. Mattias Lindh, S. Tang, L. Edman, ACS \\nAppl. Mater. Interfaces 2017, 9, 28810.\\n\\n[4]  H. Tachibana, N. Aizawa, Y. Hidaka, T. Yasuda, ACS Photonics 2017, \\n\\n4, 223.\\n\\n[5]  a)  X.  Xiong,  F.  Song,  J.  Wang,  Y.  Zhang,  Y.  Xue,  L.  Sun,  N.  Jiang, \\nP.  Gao,  L.  Tian,  X.  Peng,  J.  Am.  Chem.  Soc.  2014,  136,  9590;  \\nb) T. Li, D. Yang, L. Zhai, S. Wang, B. Zhao, N. Fu, L. Wang, Y. Tao, \\nW. Huang, Adv. Sci. 2017, 4, 1600166.\\n\\n[6]  a)  Q.  Zhang,  B.  Li,  S.  Huang,  H.  Nomura,  H.  Tanaka,  C.  Adachi, \\nNat.  Photonics  2014,  8,  326;  b)  M.  Numata,  T.  Yasuda,  C.  Adachi, \\nChem. Commun. 2015, 51, 9443; c) J. W. Sun, J. Y. Baek, K.-H. Kim, \\nC.-K.  Moon,  J.-H.  Lee,  S.-K.  Kwon,  Y.-H.  Kim,  J.-J.  Kim,  Chem. \\nMater.  2015,  27,  6675;  d)  D.  Zhang,  M.  Cai,  Y.  Zhang,  D.  Zhang, \\nL.  Duan,  Mater.  Horiz.  2016,  3,  145;  e)  T.  Hatakeyama,  K.  Shiren, \\nK. Nakajima, S. Nomura, S. Nakatsuka, K. Kinoshita, J. Ni, Y. Ono, \\nT. Ikuta, Adv. Mater. 2016, 28, 2777; f) S. Y. Lee, C. Adachi, T. Yasuda, \\nAdv. Mater. 2016, 28, 4626; g) I. S. Park, J. Lee, T. Yasuda, J. Mater. \\nChem.  C  2016,  4,  7911;  h)  I.  S.  Park,  H.  Komiyama,  T.  Yasuda, \\nChem. Sci. 2017, 8, 953; i) L.-S. Cui, H. Nomura, Y. Geng, J. U. Kim, \\nH.  Nakanotani,  C.  Adachi,  Angew.  Chem.,  Int.  Ed.  2017,  56,  1571;  \\nj)  P.  Rajamalli,  N.  Senthilkumar,  P.-Y.  Huang,  C.-C.  Ren-Wu, \\nH.-W. Lin, C.-H. Cheng, J. Am. Chem. Soc. 2017, 139, 10948.\\n\\n[7]  a)  S.  Hirata,  Y.  Sakai,  K.  Masui,  H.  Tanaka,  S.  Y.  Lee,  H.  Nomura, \\nN.  Nakamura,  M.  Yasumatsu,  H.  Nakanotani,  Q.  Zhang,  K.  Shizu, \\nH.  Miyazaki,  C.  Adachi,  Nat.  Mater.  2015,  14,  330;  b)  K.  Suzuki, \\nS. Kubo, K. Shizu, T. Fukushima, A. Wakamiya, Y. Murata, C. Adachi, \\nH.  Kaji,  Angew.  Chem.,  Int.  Ed.  2015,  54,  15231;  c)  W.-L.  Tsai, \\nM.-H.  Huang,  W.-K.  Lee,  Y.-J.  Hsu,  K.-C.  Pan,  Y.-H.  Huang, \\nH.-C.  Ting,  M.  Sarma,  Y.-Y.  Ho,  H.-C.  Hu,  C.-C.  Chen,  M.-T.  Lee, \\nK.-T. Wong, C.-C. Wu, Chem. Commun. 2015, 51, 13662; d) T.-A. Lin, \\nT.  Chatterjee,  W.-L.  Tsai,  W.-K.  Lee,  M.-J.  Wu,  M.  Jiao,  K.-C.  Pan, \\nC.-L.  Yi,  C.-L.  Chung,  K.-T.  Wong,  C.-C.  Wu,  Adv.  Mater.  2016,  28, \\n6976;  e)  R.  Komatsu,  H.  Sasabe,  Y.  Seino,  K.  Nakao,  J.  Kido,  J. \\nMater.  Chem.  C  2016,  4,  2274;  f)  J.  Lee,  N.  Aizawa,  M.  Numata, \\nC. Adachi, T. Yasuda, Adv. Mater. 2017, 29, 1604854.\\n\\n[8]  a)  H.  Kaji,  H.  Suzuki,  T.  Fukushima,  K.  Shizu,  K.  Suzuki,  S.  Kubo, \\nT. Komino, H. Oiwa, F. Suzuki, A. Wakamiya, Y. Murata, C. Adachi, \\nNat.  Commun.  2015,  6,  8476;  b)  D.  R.  Lee,  M.  Kim,  S.  K.  Jeon, \\nS.-H.  Hwang,  C.  W.  Lee,  J.  Y.  Lee,  Adv.  Mater.  2015,  27,  5861;  \\nc) D. R. Lee, B. S. Kim, C. W. Lee, Y. Im, K. S. Yook, S.-H. Hwang, \\nJ. Y. Lee, ACS Appl. Mater. Interfaces 2015, 7, 9625; d) P. Rajamalli, \\nN.  Senthilkumar,  P.  Gandeepan,  P.-Y.  Huang,  M.-J.  Huang, \\nC.-Z.  Ren-Wu,  C.-Y.  Yang,  M.-J.  Chiu,  L.-K.  Chu,  H.-W.  Lin, \\nC.-H. Cheng, J. Am. Chem. Soc. 2016, 138, 628; e) K. Wu, T. Zhang, \\n\\nL.  Zhan,  C.  Zhong,  S.  Gong,  N.  Jiang,  Z.-H.  Lu,  C.  Yang,  Chem.  - \\nEur. J. 2016, 22, 10860.\\n\\n[9]  H.  Wang,  L.  Xie,  Q.  Peng,  L.  Meng,  Y.  Wang,  Y.  Yi,  P.  Wang,  Adv. \\n\\nMater. 2014, 30, 5198.\\n\\n[10]  W. Zeng, H.-Y. Lai, W.-K. Lee, M. Jiao, Y.-J. Shiu, C. Zhong, S. Gong, \\nT.  Zhou,  G.  Xie,  M.  Sarma,  K.-T.  Wong,  C.-C.  Wu,  C.  Yang,  Adv. \\nMater. 2018, 30, 1704961.\\n\\n[11]  J.  Li,  T.  Nakagawa,  J.  MacDonald,  Q.  Zhang,  H.  Nomura, \\n\\nH. Miyazaki, C. Adachi, Adv. Mater. 2013, 25, 3319.\\n\\n[12]  Q.  Zhang,  H.  Kuwabara,  W.  J.  Potscavage  Jr.,  S.  Huang,  Y.  Hatae, \\n\\nT. Shibata, C. Adachi, J. Am. Chem. Soc. 2014, 136, 18070.\\n\\n[13]  a)  S.  Wang,  X.  Yan,  Z.  Cheng,  H.  Zhang,  Y.  Liu,  Y.  Wang,  Angew. \\nChem.,  Int.  Ed.  2015,  54,  13068;  b)  S.  Wang,  Z.  Cheng,  X.  Song, \\nX.  Yan,  K.  Ye,  Y.  Liu,  G.  Yang,  Y.  Wang,  ACS  Appl.  Mater.  Interfaces \\n2017, 9, 9892.\\n\\n[14]  C.  Li,  R.  Duan,  B.  Liang,  G.  Han,  S.  Wang,  K.  Ye,  Y.  Liu,  Y.  Yi, \\n\\nY. Wang, Angew. Chem., Int. Ed. 2017, 56, 11525.\\n\\n[15]  a) I. S. Park, S. Y. Lee, C. Adachi, T. Yasuda, Adv. Funct. Mater. 2016, \\n26,  1813;  b)  X.  Cai,  X.  Li,  G.  Xie,  Z.  He,  K.  Gao,  K.  Liu,  D.  Chen, \\nY. Cao, S.-J. Su, Chem. Sci. 2016, 7, 4264.\\n\\n[16]  C. Xie, X. Li, D. Chen, Z. Wang, X. Cai, D. Chen, Y. Li, K. Liu, Y. Cao, \\n\\nS.-J. Su, Adv. Mater. 2016, 28, 181.\\n\\n[17]  a)  P.  Data,  P.  Pander,  M.  Okazaki,  Y.  Takeda,  S.  Minakata,  \\nA.  P.  Monkman,  Angew.  Chem., \\nInt.  Ed.  2016,  55,  5739;   \\nb)  M.  Okazaki,  Y.  Takeda,  P.  Data,  P.  Pander,  H.  Higginbotham,  \\nA. P. Monkman, S. Minakata, Chem. Sci. 2017, 8, 2677.\\n\\n[18]  F.  Ni,  Z.  Wu,  Z.  Zhu,  T.  Chen,  K.  Wu,  C.  Zhong,  K.  An,  D.  Wei, \\n\\nD. Ma, C. Yang, J. Mater. Chem. C 2017, 5, 1363.\\n\\n[19]  a)  R.  Englman,  J.  Jortner,  Mol.  Phys.  1970,  18,  145;  b)  J.  V.  Caspar, \\nE. M. Kober, B. P. Sullivan, T. J. Meyer, J. Am. Chem. Soc. 1982, 104, \\n630;  c)  S.  D.  Cummings,  R.  Eisenberg,  J.  Am.  Chem.  Soc.  1996, \\n118,  1949;  d)  J.  S.  Wilson,  N.  Chawdhury,  M.  R.  A.  Al-Mandhary, \\nM. Younus, M. S. Khan, P. R. Raithby, A. Köhler, R. H. Friend, J. Am. \\nChem. Soc. 2001, 123, 9412.\\n\\n[20]  The  synthesis  of  CNBPz  itself  was  reported:  A.  E.  Balakirev,  \\nV.  E.  Maizlish,  G.  P.  Shaposhnikov,  Russ.  J.  Gen.  Chem.  2002,  72, \\n336.\\n\\n[21]  J. Li, G. Hu, N. Wang, T. Hu, Q. Wen, P. Lu, Y. Wang, J. Org. Chem. \\n\\n2013, 78, 3001.\\n\\n[22]  Absorption  bands  of  1–4  in  the  solid  neat  films  were  substantially \\nredshifted  compared  to  those  observed  in  solutions,  indicative  of \\nthe  presence  of  strong  intermolecular  electronic  interactions  in \\ntheir condensed states (Supporting Information).\\n\\n[23]  J. Lee, N. Aizawa, T. Yasuda, Chem. Mater. 2017, 29, 8012.\\n[24]  a)  H.  Sasabe,  D.  Tanaka,  D.  Yokoyama,  T.  Chiba,  Y.-J.  Pu, \\nK.  Nakayama,  M.  Yokoyama,  J.  Kido,  Adv.  Funct.  Mater.  2011,  21, \\n336; b) H. Sasabe, T. Chiba, S.-J. Su, Y.-J. Pu, K. Nakayama, J. Kido, \\nChem.  Commun.  2008,  5821;  c)  D.  Tanaka,  H.  Sasabe,  Y.-J.  Li, \\nS.-J. Su, T. Takeda, J. Kido, Jpn. J. Appl. Phys. 2007, 46, L10.\\n\\n[25]  Y. Kuwabara, H. Ogawa, H. Inada, N. Noma, Y. Shirota, Adv. Mater. \\n\\n[26]  C.  Murawski,  K.  Leo,  M.  C.  Gather,  Adv.  Mater.  2013,  25,  \\n\\n[27]  S.  Y.  Lee,  T.  Yasuda,  H.  Nomura,  C.  Adachi,  Appl.  Phys.  Lett.  2012, \\n\\n1994, 6, 677.\\n\\n6801.\\n\\n101, 093306.\\n\\nAdv. Optical Mater. 2018, 6, 1701147\\n\\n1701147  (9 of 9)\\n\\n© 2018 WILEY-VCH Verlag GmbH & Co. KGaA, Weinheim\\n\\n'"
      ]
     },
     "execution_count": 11,
     "metadata": {},
     "output_type": "execute_result"
    }
   ],
   "source": [
    "pdf.plaintext()"
   ]
  },
  {
   "cell_type": "markdown",
   "id": "0a891b36",
   "metadata": {},
   "source": [
    "### Get Section titles and corresponding text"
   ]
  },
  {
   "cell_type": "code",
   "execution_count": 32,
   "id": "f3fcc282",
   "metadata": {},
   "outputs": [
    {
     "data": {
      "text/plain": [
       "{'1. Introduction': ['Metal-free  purely  organic  luminophores  that display thermally activated delayed flu- orescence  (TADF)  have  recently  attracted  significant attention owing to their promi- sing applications in organic light-emitting  diodes  (OLEDs),[1,2]  light-emitting  elec- trochemical  cells,[3]  optical  upconversion  devices,[4]  and  time-resolved  fluorescence  imaging.[5]  In  particular  for  OLED  dis- plays  and  solid-state  lighting  applica- tions, TADF materials can be an attractive  to  phosphorescent  low-cost  alternative  organometallic  complexes  that  contain  expensive precious metals such as iridium  and platinum. With a small singlet–triplet  energy  splitting  (ΔEST,  typically  less  than  0.2 eV), these TADF materials enable effi- cient  upconversion  of  the  nonemissive  triplet (T1) excitons to the emissive singlet  (S1)  excitons  via  fast  reverse  intersystem  crossing (RISC), facilitating the utilization  of  the  electro-generated  excitons  for  elec- troluminescence  (EL)  emission.[1,2]  Over  the past few years, significant progress has  been  made  in  the  development  of  blue,[6]  sky-blue,[7] green,[8] yellow,[9] and orange[10] ',\n",
       "  'R. Furue, Dr. K. Matsuo, Prof. T. Yasuda INAMORI Frontier Research Center (IFRC) Kyushu University 744 Motooka, Nishi-ku, Fukuoka 819-0395, Japan E-mail: yasuda@ifrc.kyushu-u.ac.jp R. Furue, Prof. T. Yasuda Department of Applied Chemistry Graduate School of Engineering Kyushu University 744 Motooka, Nishi-ku, Fukuoka 819-0395, Japan',\n",
       "  'The ORCID identification number(s) for the author(s) of this article  can be found under https://doi.org/10.1002/adom.201701147.',\n",
       "  'DOI: 10.1002/adom.201701147',\n",
       "  'Y. Ashikari, H. Ooka Nippon Soda Co., Ltd. Odawara Research Center 345 Takada, Odawara, Kanagawa 250-0280, Japan Dr. N. Amanokura Nippon Soda Co., Ltd. 2-2-1 Ohtemachi, Chiyoda-ku, Tokyo 100-8165, Japan',\n",
       "  'Adv. Optical Mater. 2018, 6, 1701147',\n",
       "  '1701147  (1 of 9)',\n",
       "  '© 2018 WILEY-VCH Verlag GmbH & Co. KGaA, Weinheim',\n",
       "  'TADF-OLEDs,  and  considerably  high  external  EL  quantum  efficiencies  (ηext)  over  20%,  corresponding  to  the  internal  EL  quantum efficiencies (ηint) of ≈100%, have been achieved.[1,6–10]  However,  as  one  of  the  three  primary  colors  indispensable  in  full-color displays, developing efficient pure-red TADF materials  remains  an  unaddressed  issue.  To  date,  there  are  only  a  few  reports on red TADF materials that meet the criteria of the emis- sion maximum beyond 600 nm and the Commisssion Interna- tionale  de  l’Éclairage  (CIE)  chromaticity  coordinates  of  x  >  0.6  and  y  <  0.4.[11–18]  The  most  efficient  red  TADF-OLED  reported  to  date,  based  on  a  heptaazaphenalene  derivative,  has  a  state- of-the-art ηext of 17.5% with an EL emission maximum (λEL) at  ≈610 nm and CIE coordinates of (0.60, 0.40).[11] However, there  is  still  much  room  for  improving  the  overall  performance  due  to  its  poor  color  purity  and  significant  roll-off  at  high  current  density.  Thus,  further  developing  high-performance  pure-red  TADF materials and their devices with CIE coordinates close to  the National Television System Committee (NTSC) standard red  (0.67, 0.33) is a key challenge for future OLED technology.',\n",
       "  'In  principle,  ΔEST  is  proportional  to  the  electron-exchange  energy  and,  hence,  the  overlap  integral  between  the  highest  occupied  molecular  orbital  (HOMO)  and  the  lowest  unoc- cupied  molecular  orbital  (LUMO).  Thus,  the  most  common  design  strategy  for  TADF  materials  is  based  on  highly  twisted  (or  orthogonal)  electron  donor–acceptor  (D–A)  structures  with  intramolecular  charge-transfer  (ICT)  features  to  separate  the  spatial  distribution  of  these  frontier  orbitals.  However,  the  HOMO–LUMO  separation  in  a  pretwisted  D–A  system  gen- erally  tends  to  decrease  the  fluorescence  radiative  decay  rate  (kr)  and  oscillator  strength  (f)  between  the  S1  and  ground  (S0)  states,  which  can  be  detrimental  to  attaining  a  high  photolu- minescence quantum yield (ΦPL). Furthermore, because of the  coupling  (or  vibrational  overlap)  between  the  zero-vibrational  level  of  the  S1  state  and  the  higher  vibrational  levels  of  the  S0  state,  TADF  materials  with  long-wavelength  emissions  (λEL  >  600  nm)  suffer  from  the  accelerated  nonradiative  decay  rate  (knr)  governed  by  the  energy  gap  law.[19]  Therefore,  a  rational  design  of  the  D–A  motif  and  their  linking  tactics  are  of  vital  importance  for  producing  high-performance  pure-red  TADF  materials with both small ΔEST and high ΦPL.',\n",
       "  'Herein,  we  report  novel  high-efficiency  red  TADF  mate- rials  Da-CNBPz  (1)  and  Ac-CNBPz  (2)  based  on  an  asym- metric  D–π–A  configuration  (Figure  1),  consisting  of  11,12-dicyanodibenzo[a,c]phenazine[20] (CNBPz) as an extremely  strong  A  unit,  p-ditolylamine  (Da)  or  9,9-dimethylacridan  (Ac)  as a D unit, and a phenylene π-bridging unit. For comparison,  analogous D–π–A-type TADF materials Da-CNBQx (3) and Ac- CNBQx  (4),  containing  2,3-dicyanodibenzo[f,h]quinoxaline[13]  (CNBQx)  as  a  less  strong  A  unit,  are  also  discribed.  Owing  to  its  highly  expanded  π-conjugation  and  presence  of  multiple  electron-withdrawing cyano and imine groups, the CNBPz unit  possesses  much  stronger  electron-accepting  characteristics  (or  lower-lying LUMO energy level) than CNBQx and other A units  previously  reported  for  red  TADF  materials[11–18]  (Figure  2).  These characteristics are beneficial for producing efficient pure- red  TADF  materials  via  a  simple  molecular  design.  OLEDs  employing 1 and 2 as TADF emitters indeed displayed intense  red  EL  with  λEL  of  670  and  630  nm,  and  achieved  high  ηext  values, up to 15.0% and 16.2%, respectively.',\n",
       "  '',\n",
       "  '',\n",
       "  'Adv. Optical Mater. 2018, 6, 1701147',\n",
       "  '1701147  (2 of 9)',\n",
       "  '© 2018 WILEY-VCH Verlag GmbH & Co. KGaA, Weinheim'],\n",
       " '2. Results and Discussion': ['2.1. Computational Simulations',\n",
       "  'In  order  to  verify  the  geometric  structures  and  intrinsic  elec- tronic characteristics, time-dependent density functional theory  (TDDFT)  calculations  were  performed  for  the  newly  designed  D–π–A  molecules  1–4  prior  to  their  synthesis.  Their  ground- state (S0) geometries were optimized at the PBE0/6-31G(d) level  in  the  gas  phase.  The  excited  S1  and  T1  energies  and  associ- ated oscillator strengths (f) were calculated by using TDDFT at  the same level, using the optimized S0 structures as the initial  geometry. As shown in Figure 3, incorporating the π-expanded  CNBPz  unit  stabilized  the  LUMO  levels  by  0.2–0.3  eV  and  hence lowered the HOMO–LUMO energy gaps of the resulting  D–π–A  molecules,  in  comparison  with  the  corresponding  CNBQx  derivatives.  Notably,  the  relatively  small  steric  hin- drance  between  the  Da  unit  and  the  adjacent  phenylene  unit  endowed 1 and 3 with an overall more planar molecular confor- mation with the corresponding dihedral angles (θD–π and θA–π),  being ≈34° and ≈32°, respectively. This differs from the highly  twisted  2  and  4  with  nearly  orthogonal  geometries  between  the  Ac  and  phenylene  units  (θD–π  =  87°–89°).  As  a  result,  the  HOMOs  and  LUMOs  of  the  Da-attached  1  and  3  tend  to  per- meate  into  each  other,  increasing  f  to  0.2119  for  1  and  0.1970 ',\n",
       "  'for  3  by  enlarging  the  frontier  orbital  overlap.  In  contrast,  the  Ac-attached  2  and  4  have  well-separated  HOMO  and  LUMO  distributions  primarily  localized  on  the  electron-donating  Ac  unit  and  the  electron-accepting  CNBPz  (or  CNBQx)  unit,  respectively,  resulting  in  much  smaller  calculated  f  (0.0001  for  2  and  0.0024  for  4)  and  ΔEST  values.  The  TDDFT  simula- tions also revealed that the calculated ΔEST values are ranked in  the following order: 0.154 eV (3) > 0.111 eV (1) > 0.002 eV (4)  ≈ 0.001 eV (2). This result manifests in the higher efficiency of  the  RISC  (T1  →  S1  upconversion)  process  in  2  and  4  because  of  their  significantly  smaller  ΔEST  values,  while  the  radia- tive  transitions  (S1  →  S0  fluorescence)  can  be  accelerated  for  1 and 3 with larger f. Furthermore, unlike the common TADF  mole cules,  the  present  narrow-gap  D–π–A  molecules  1  and  3  no longer require large intramolecular distortion or steric hin- drance between the D and A units to lower the ΔEST and induce  the TADF capability.',\n",
       "  '2.2. Synthesis and Characterization',\n",
       "  'As  outlined  in  Scheme  1,  CNBPz-  and  CNBQx-based  com- pounds  1–4  were  synthesized  by  facile  three-step  reactions,  starting  from  phenanthrene-9,10-dione.  Free  radical  bromi- nation  of  phenanthrene-9,10-dione  with  Br2  (1  equiv.)  in  the ',\n",
       "  '',\n",
       "  'Adv. Optical Mater. 2018, 6, 1701147',\n",
       "  '1701147  (3 of 9)',\n",
       "  '© 2018 WILEY-VCH Verlag GmbH & Co. KGaA, Weinheim',\n",
       "  'Scheme 1.  Synthetic routes for CNBPz- and CNBQx-based TADF materials 1–4.',\n",
       "  'presence  of  benzoyl  peroxide  (BPO)  proceeded  regioselectively  to yield monobromide 5.[21] Under palladium-catalyzed Suzuki– Miyaura cross-coupling conditions, 5 was subsequently coupled  with  the  corresponding  donor-containing  boronic  acid  or  ester  (6  or  7),  affording  key  diketone  intermediates  8  and  9  in  high  yields  (85%  and  82%,  respectively).  These  diketone  interme- diates  were  highly  stable  and  could  be  handled  in  air.  Finally,  the  desired  compounds,  1–4,  were  prepared  by  the  dehydra- tive  cyclization  of  8  and  9  with  4,5-diaminophthalonitrile  (for  1  and  2)  or  diaminomaleonitrile  (for  3  and  4)  in  moderate  to  high  yields  (51–94%).  The  detailed  synthesis  procedures  and  characterization  data  for  1–4  are  described  in  the  Supporting  Information. The thermogravimetric analyses showed that 1–4  had  high  thermal  stabilities  with  5%  weight-loss  temperatures  (Td) of 551, 421, 542, and 395°C, respectively (Supporting Infor- mation), which are favorable for fabricating OLEDs via vacuum  thermal deposition.',\n",
       "  'As  presented  in  Figure  4,  X-ray  crystallographic  analyses  confirmed the molecular structures of 1–3 in the solid states  (see also Supporting Information). The Ac-attached 2 indeed ',\n",
       "  'adopts  a  highly  distorted  molecular  geometry  with  a  dihe- dral angle (θD–π) of ≈78° between the Ac unit and the nearby  phenylene  linker,  which  is  favorable  to  lower  the  electronic  coupling  between  the  HOMO  and  LUMO.  In  contrast,  for  the Da-attached 1 and 3, the dihedral angles between the Da  moiety  and  the  phenylene  linker  (θD–π)  are  ≈18°  and  ≈27°  and  those  between  the  CNBPz  or  CNBQx  unit  and  the  phe- nylene linker (θA–π) are ≈20° and ≈28°, respectively, revealing  their  overall  more  planar  conformations.  In  this  case,  the  lone  pair  of  the  sp3-hybridized  N  atom  in  the  Da  unit  can  substantially  participate  in  π-conjugation  with  the  nearby  phenylene linker.',\n",
       "  '2.3. Photophysical Properties',\n",
       "  'ICT  is  a  prominent  feature  of  the  TADF  materials,  which  can  be confirmed by electronic absorption spectra. Figure 5a shows  the  UV–vis  absorption  spectra  of  1–4  in  their  dilute  toluene  solutions.[22] The intense higher-energy absorption bands below ',\n",
       "  '',\n",
       "  'Adv. Optical Mater. 2018, 6, 1701147',\n",
       "  '1701147  (4 of 9)',\n",
       "  '© 2018 WILEY-VCH Verlag GmbH & Co. KGaA, Weinheim',\n",
       "  '',\n",
       "  '430  nm  can  be  attributed  to  the π–π*  and  n–π*  transitions  of  the  arylamines  and  CNBPz  or  CNBQx  moieties.  Compared  to  the  Ac-attached  2  and  4,  much  stronger  broad  ICT  absorp- tions  are  observed  for  the  Da-attached  1  and  3,  with  absorp- tion maxima (λabs) at 500 and 470 nm, respectively, originating  from the stronger HOMO → LUMO transitions. Weaker inten- sities  of  the  ICT  absorptions  of  2  and  4  are  explained  by  the  negligible  frontier  orbital  overlap  and  small  oscillator  strength  in  these  molecules,  as  predicted  by  the  TDDFT  calculations  (see  Figure  3).  Additionally,  the  lower-energy  absorption  edges  of 1 and 2 are redshifted by 0.10–0.15 eV relative to those of 3  and  4,  respectively,  as  a  result  of  the  stabilization  of  their  ICT  states  by  incorporating  the  strongly  electron-accepting  CNBPz  unit.  As  depicted  in  Figure  5b,  the  solution  PL  spectra  of  1–4  exhibit  structureless  orange-to-red  emissions,  with  peaks  (λPL)  ranging from 595 to 640 nm and Stokes shifts of 140–150 nm.  The  absolute  ΦPL  values  of  the  Da-attached  1  and  3  in  deoxy- genated toluene solutions are as high as 85% and 97%, respec- tively; whereas the Ac-attached 2 and 4 have a much lower ΦPL  value, 31% for both.',\n",
       "  'The solid-state photophysical properties of 1–4 were investi- gated  by  doping  them  in  a  4,4′-bis(carbazol-9-yl)-1,1′-biphenyl  (CBP) host matrix as the T1 energy of CBP (ET ≈ 2.7 eV) is high  enough  to  prevent  the  backward  excited-energy  transfer  from  the  T1  states  of  the  dopant  emitters  (1–4).  Moreover,  to  avoid  aggregation-induced quenching (i.e., concentration quenching),  the dopant concentration was controlled at a low level, typically ',\n",
       "  '6 wt%, in the co-deposited thin films. The detailed photophys- ical  data  obtained  for  1–4  are  compiled  in  Table  1.  As  shown  in Figure 5c, the PL emission colors of the doped films ranged  from yellow to pure-red with λPL lying between 561 and 688 nm  and  increasing  in  the  order  4  <  2  <  3  <  1,  and  their  corre- sponding  ΦPL  values  reaching  67–85%  under  N2  atmosphere.  As  for  the  Ac-attached  2  and  4,  the  ΦPL  values  of  the  doped  films  increased  more  than  twice  relative  to  those  measured  in  the  solutions,  similar  to  some  reported  Ac-containing  TADF  materials,[6f–h,15,23]  which  can  be  ascribed  to  the  suppression  of  the  nonradiative  deactivation  caused  by  intramolecular  tor- sional and vibrational excited-energy loss.',\n",
       "  'To  further  analyze  the  TADF  behavior,  the  transient  PL  characteristics  of  1–4  in  their  doped  films  were  examined.  As  shown  in  Figure  5d,  each  of  the  transient  PL  curves  clearly  demonstrates  two  components  of  a  nanosecond-order  prompt  decay and a microsecond-order delayed decay at room tempera- ture  (300  K),  which  are  assigned  to  conventional  fluorescence  (S1 → S0) and TADF involving intersystem crossing (ISC) and  RISC  processes  (S1  →  T1  →  S1  →  S0),  respectively.  The  PL  intensity  of  the  delayed  component  increased  as  the  tempera- ture  increased,  confirming  the  typical  TADF  feature.  All  the  measured transient PL curves could be fitted with a biexponen- tial model as: I(t) = A1·exp(−t/τp) + A2·exp(−t/τd), where A1 and  A2 are frequency factors, and τp and τd are the lifetimes of the  prompt  and  delayed  decay  components,  respectively.  In  addi- tion, the fractional quantum yields for the prompt and delayed ',\n",
       "  'Adv. Optical Mater. 2018, 6, 1701147',\n",
       "  '1701147  (5 of 9)',\n",
       "  '© 2018 WILEY-VCH Verlag GmbH & Co. KGaA, Weinheim',\n",
       "  '',\n",
       "  'Emitter',\n",
       "  'Da-CNBPz (1)',\n",
       "  'Ac-CNBPz (2)',\n",
       "  'Da-CNBQx (3)',\n",
       "  'Ac-CNBQx (4)',\n",
       "  'λPL [nm]   sola)/filmb)',\n",
       "  'c) [%]   ΦPL sola)/filmb)',\n",
       "  'd)  ',\n",
       "  'Φp [%]',\n",
       "  'd)  ',\n",
       "  'Φd [%]',\n",
       "  '640/688',\n",
       "  '624/615',\n",
       "  '613/633',\n",
       "  '595/561',\n",
       "  '85/72',\n",
       "  '31/67',\n",
       "  '97/85',\n",
       "  '31/75',\n",
       "  '',\n",
       "  '',\n",
       "  '',\n",
       "  '',\n",
       "  '',\n",
       "  '',\n",
       "  '',\n",
       "  '',\n",
       "  'e)   τp [ns]',\n",
       "  '',\n",
       "  '',\n",
       "  '7.7',\n",
       "  '',\n",
       "  'e)   τd [µs]',\n",
       "  '',\n",
       "  '6.9',\n",
       "  '',\n",
       "  '9.3',\n",
       "  'HOMOf)   [eV]',\n",
       "  'LUMOg)   [eV]',\n",
       "  '−5.5',\n",
       "  '−5.6',\n",
       "  '−5.5',\n",
       "  '−5.7',\n",
       "  '−3.7',\n",
       "  '−3.7',\n",
       "  '−3.6',\n",
       "  '−3.6',\n",
       "  'h)   ES [eV]',\n",
       "  '2.14',\n",
       "  '2.34',\n",
       "  '2.35',\n",
       "  '2.61',\n",
       "  'h)   ET [eV]',\n",
       "  '2.03',\n",
       "  '2.31',\n",
       "  '2.17',\n",
       "  '2.51',\n",
       "  'i)  ',\n",
       "  'ΔEST [eV]',\n",
       "  '0.11',\n",
       "  '0.03',\n",
       "  '0.18',\n",
       "  '0.10',\n",
       "  'a)Measured  in  an  oxygen-free  toluene  solution;  b)6  wt%-doped  thin  film  in  a  CBP  solid  host  matrix;  c)Absolute  PL  quantum  yield  evaluated  using  an  integrating  sphere  at 300 K under N2;  d)Fractional quantum yields for prompt fluorescence (Φp) and delayed fluorescence (Φd) for the 6 wt%-doped film, Φp + Φd = ΦPL;  e)PL lifetimes of  prompt fluorescence (τp) and delayed fluorescence (τd) for the 6 wt%-doped film at 300 K under N2; f)Determined by photoelectron yield spectroscopy in pure neat films;  g)Deduced from the HOMO and optical energy gap; h)Lowest excited singlet (ES) and triplet (ET) energies estimated from the onset wavelengths of the fluorescence and  phosphorescence spectra in the doped film, respectively; i)ΔEST = ES − ET.',\n",
       "  'fluorescence components (Φp and Φd, respectively) were derived  by  using  the  expression,  Φp  =  ΦPL  ×  {A1·τp/(A1·τp  +  A2·τd)}  and  Φd  =  ΦPL  ×  {A2·τd/(A1·τp  +  A2·τd)}.  The  extracted τp, τd,  Φp,  and  Φd  values  for  1–4  in  the  doped  films  are  included  in  Table 1. While the Da-attached 1 and 3 exhibit shorter τp within  10 ns, the τd values of the Ac-attached 2 and 4, with more pro- nounced TADF contribution in PL (Φd = 53% and 47%, respec- tively),  are  much  shorter  than  those  of  1  and  3,  which  agrees  with the variation in their ΔEST values obtained in both experi- ments and calculations (see Table 1 and Figure 3). These results  suggest that the reduced ΔEST can accelerate the RISC process,  and thus shorten the TADF lifetimes.',\n",
       "  'Considering  the  exciton  dynamic  processes  illustrated  in  Figure  6,  we  also  assessed  the  related  photophysical  rate  con- stants of fluorescence radiative decay (kr), nonradiative internal  conversion  (knr),  ISC  (kISC),  and  RISC  (kRISC)  for  these  doped  films, which are summarized in Table 2. The kr values obtained  for  1  and  3  (>107  s−1)  are  more  than  one  order  of  magnitude  larger than those for 2 and 4 (≈106 s−1), whereas the kISC values  for  1–4  are  at  the  same  order  of  magnitude  (≈107  s−1).  In  contrast, the kRISC values for 1 and 3 (≈104 s−1) are one order of  magnitude smaller than those for 2 and 4 (>105 s−1). Moreover,  it is found that the knr values for the CNBPz derivatives (1 and  2), with longer-wavelength PL emissions, are indeed larger than  those of the corresponding CNBQx derivatives (3 and 4), as pre- dicted by the energy gap law, ln(knr) ∝ ES',\n",
       "  '−1.',\n",
       "  '2.4. Electroluminescence Performance',\n",
       "  'The  achievement  of  intense  red  TADF  in  the  new  CNBPz  derivatives  inspired  us  to  further  explore  their  applicability  as  pure-red  emitters  in  actual  devices.  We  fabricated  multilayer  TADF-OLEDs  with  the  following  configuration  (Figure  7a):  indium  tin  oxide  (ITO,  100  nm)/HAT-CN  (5  nm)/TAPC  (45  nm)/6  wt%-emitter:CBP  (15  nm)/B3PYMPM  (60  nm)/ Liq  (1  nm)/Al  (80  nm).  In  this  device  architecture,  HAT-CN  (2,3,6,7,10,11-hexacyano-1,4,5,8,9,12-hexaazatriphenylene)  and  TAPC  (1,1-bis(4-di-p-tolylaminophenyl)cyclohexane)  were  used  as  the  hole-injection  layer  and  hole-transporting  layer  (HTL),  respectively.  B3PYMPM[24]  (4,6-bis(3,5-di-3-pyridylphenyl)- 2-methylpyrimidine)  and  Liq  (8-hydroxyquinoline  lithium)  served  as  layer  (ETL)  and  an  the  electron-transporting  electron-injection  material,  respectively.  To  reduce  the  hole- injection  barrier  between  TAPC  and  the  CBP-hosted  emis- sion  layer  (EML),  a  thin  layer  of  4,4′,4″-tris(carbazol-9-yl) triphenylamine  (TCTA)[25]  was  inserted  at  the  HTL/EML  interface.  The  HOMO  and  LUMO  energy  levels  of  1–4  as  dopant  emitters  are  above  and  below  those  of  the  CBP  host  (see  Figure  7a),  respectively,  implying  that  the  emitters  can  effectively  capture  the  injected  holes  and  electrons.  Moreover,  B3PYMPM as an ETL with a low-lying HOMO energy level can  prevent hole leakage and allow a better confinement of charge  carriers and excitons within the EML.',\n",
       "  '',\n",
       "  '',\n",
       "  'Emitter',\n",
       "  'Da-CNBPz (1)',\n",
       "  'Ac-CNBPz (2)',\n",
       "  'Da-CNBQx (3)',\n",
       "  'Ac-CNBQx (4)',\n",
       "  'a)   kr [107 s−1]',\n",
       "  'b)   knr [107 s−1]',\n",
       "  'c)   kISC [107 s−1]',\n",
       "  'd)   kRISC [105 s−1]',\n",
       "  '6.1',\n",
       "  '0.50',\n",
       "  '9.0',\n",
       "  '0.48',\n",
       "  '2.4',\n",
       "  '0.25',\n",
       "  '1.6',\n",
       "  '0.16',\n",
       "  '1.5',\n",
       "  '2.8',\n",
       "  '2.4',\n",
       "  '1.1',\n",
       "  '0.24',\n",
       "  '6.9',\n",
       "  '0.21',\n",
       "  '2.9',\n",
       "  '',\n",
       "  'a)Rate constant for fluorescence radiative decay (S1 → S0), kr ≈ Φp/τp;  b)Rate con- stant for nonradiative internal conversion (S1 → S0), knr ≈ kr·(1 − ΦPL)/ΦPL; c)Rate  constant  for  ISC  (S1  →  T1),  kISC  ≈  kr·(1/Φp  −  1/ΦPL);  d)Rate  constant  for  RISC  (T1  →  S1)  calculated  by  assuming  that  most  of  the  T1  excitons  can  upconvert  to  S1 excitons through RISC (knr(T) << kRISC) and nonradiative exciton losses primarily  occur in the S1 states, kRISC ≈ ΦPL/(kr·τp·τd).',\n",
       "  'Adv. Optical Mater. 2018, 6, 1701147',\n",
       "  '1701147  (6 of 9)',\n",
       "  '© 2018 WILEY-VCH Verlag GmbH & Co. KGaA, Weinheim',\n",
       "  '',\n",
       "  'CNBPz-based 1 and 2 emitted bright red light, with λEL at 670  and 630 nm and corresponding CIE color coordinates of (0.66,  0.34) and (0.61, 0.39), respectively. Meanwhile, the TADF-OLEDs   based  on  3  and  4  exhibited  orange  EL,  with  λEL  at  617  and   585  nm,  respectively.  Notably,  the  EL  chromaticity  of  the   1-based  device  was  quite  close  to  the  NTSC  standard  red  CIE  (0.67, 0.33).',\n",
       "  '',\n",
       "  'of the electro-generated T1 excitons for EL emission. Intrigu- ingly,  different  degrees  of  efficiency  roll-off  were  observed  in  the  high  current  density  region  (Figure  7d).  Among  these ',\n",
       "  '',\n",
       "  'λEL',\n",
       "  'a) [nm]',\n",
       "  'Von',\n",
       "  'b) [V]',\n",
       "  'ηext,max',\n",
       "  'c) [%]',\n",
       "  'ηext,100',\n",
       "  'd) [%]',\n",
       "  'ηc',\n",
       "  'e) [cd A−1]',\n",
       "  'ηp',\n",
       "  'f) [lm W−1]',\n",
       "  'CIEg) (x, y)',\n",
       "  '',\n",
       "  '',\n",
       "  '2.8',\n",
       "  '15.0',\n",
       "  '3.8',\n",
       "  '6.2',\n",
       "  '7.0',\n",
       "  '',\n",
       "  '',\n",
       "  '2.8',\n",
       "  '16.2',\n",
       "  '14.5',\n",
       "  '18.2',\n",
       "  '17.2',\n",
       "  '',\n",
       "  '',\n",
       "  '2.8',\n",
       "  '20.0',\n",
       "  '7.5',\n",
       "  '28.9',\n",
       "  '32.4',\n",
       "  '',\n",
       "  '',\n",
       "  '2.8',\n",
       "  '14.0',\n",
       "  '13.9',\n",
       "  '34.0',\n",
       "  '33.3',\n",
       "  '(0.66, 0.34)',\n",
       "  '(0.61, 0.39)',\n",
       "  '(0.59, 0.41)',\n",
       "  '(0.51, 0.48)',\n",
       "  'a)EL emission maximum at 1 mA cm−2; b)Turn-on voltage at a luminance over 1 cd m−2;  c)Maximum external EL quantum efficiency; d)External EL quantum efficiency driven at  100 cd m−2; e)Maximum current efficiency; f)Maximum power efficiency; g)Commission  Internationale de l’Éclairage (CIE) chromaticity coordinates recorded at 1 mA cm−2.',\n",
       "  'Adv. Optical Mater. 2018, 6, 1701147',\n",
       "  '1701147  (7 of 9)',\n",
       "  '© 2018 WILEY-VCH Verlag GmbH & Co. KGaA, Weinheim',\n",
       "  'four  TADF  emitters,  1  and  3  exhibit  longer τd  (see  Table  1).  The  population  density  of  the  barely  upconverted  T1  exci- tons  should  thus  increase  at  high  current  densities,  even  with  their  high  kr,  causing  a  large  efficiency  roll-off  through  exciton deactivation, such as triplet–triplet annihilation (TTA)  and  singlet–triplet  annihilation  (STA).[26]  In  contrast,  for  2  and 4, the enhanced RISC process (kRISC > 105 s−1) effectively  shortens the TADF lifetime, endowing reduced triplet exciton  density  for  suppressed  TTA  and  STA.[23]  Consequently,  the  TADF-OLEDs  based  on  2  and  4  could  retain  rather  high ηext  values of 14.5% and 13.9%, respectively, even when driven at  a  practical  luminance  of  100  cd  m−2  for  display  applications;  whereas  the  ηext  values  of  the  devices  using  1  and  3  were  reduced  to  3.8%  and  7.5%,  respectively,  at  the  same  lumi- nance. Hence, the efficiency roll-off was apparently mitigated  using the Ac-attached 2 and 4 with smaller ΔEST as the TADF  emitters.',\n",
       "  'To  confirm  their  excellent  EL  characteristics,  the  theoretical  ηext  maxima  were  estimated  for  1–4.  In  TADF-OLEDs,  the   T1 excitons are directly generated by the recombination of holes  and  electrons,  and  then  undergo  the  RISC  process  for  conver- sion  into  S1  excitons.  Accordingly,  by  assuming  spin-statistical  production  ratios  of  0.25  and  0.75  for  the  S1  and  T1  excitons,  respectively,  the  theoretical  maxima  of  ηext  and  ηint  can  be  expressed using Equations (1) and (2)[6g,15a,27]',\n",
       "  'η η η',\n",
       "  '=',\n",
       "  '×',\n",
       "  'ext',\n",
       "  'int',\n",
       "  'out',\n",
       "  'η γ ( = ×',\n",
       "  'int',\n",
       "  '0.25',\n",
       "  '× Φ + p',\n",
       "  '0.25',\n",
       "  '× Φ + d',\n",
       "  '0.75',\n",
       "  '× Φ Φ d',\n",
       "  '/',\n",
       "  'ISC',\n",
       "  ')',\n",
       "  '(1)',\n",
       "  '(2)',\n",
       "  'where  ηout  is  the  light  out-coupling  factor,  assuming  ηout  ≈  0.2;  γ  is  the  charge  balance  factor,  assuming  γ  ≈  1.0  for  fully  balanced  carrier  recombination;  and  ΦISC  is  the  intersystem- crossing quantum efficiency, ΦISC ≈ 1 − Φp/ΦPL. The theoretical  ηext  maxima  for  the  TADF-OLEDs  based  on  1–4  are  estimated  as  14%,  13%,  17%,  and  15%,  respectively.  These  theoretical  values  are  in  reasonable  agreement  with  the  experimentally  obtained  maximum ηext  values  (see  Table  3),  implying  that  an  appropriate  carrier  balance  and  effective  exciton  confinement  are  achieved  in  the  present  devices.  We  also  performed  pre- liminary  stability  tests  for  the  1-based  pure-red  TADF-OLEDs  (Supporting  Information).  The  devices  were  operated  at  an  initial luminance (L0) of 100 and 200 cd m−2 under a constant  current  density.  The  operational  lifetimes  until  a  10%  drop  in  luminance  (LT90)  were  106  h  (at  L0  =  100  cd  m−2)  and  24  h   (at  L0  =  200  cd  m−2).  Although  the  LT90  lifetimes  obtained  for  the  current  devices  are  unsatisfactory,  we  expect  further  improvement in device stability by exploring the best combina- tion of host and adjacent HTL and ETL materials, and possible  changes to the device architecture.',\n",
       "  'and  lesser  extent  of  π-conjugation  were  tested  concurrently.  The  underlying  ICT  characteristics  and  TADF  properties  of  these  materials  were  investigated  by  steady-state  and  time- resolved  photophysical  measurements,  together  with  TDDFT  computational  techniques.  Incorporating  such  strong  CNBPz  and  CNBQx  units  together  with  a  phenylene π-bridging  unit  into  D–π–A  molecular  frameworks  resulted  in  efficient  long- wavelength  TADF  materials  with  a  suitable  balance  between  a small ΔEST and a large kr. These CNBPz- and CNBQx-based  materials  successfully  achieved  red–orange  TADF  emis- sions  (λPL  =  561–688  nm)  with  simultaneous  rather  high  PL  quantum  yields  (ΦPL  =  67–85%)  in  doped  thin  films,  despite  the  vibrational  deactivation  due  to  the  energy  gap  law.  As  a  result,  the  red–orange  TADF-OLEDs  incorporating  1–4  as  the  emitters  achieved  high  maximum ηext  values  of  14–20%,  accompanied  by  low  turn-on  voltages  of  ≈2.8  V.  Notably,  the  1-based  device  demonstrated  promising  EL  performance  for  pure-red  OLEDs,  with  a  high  maximum  ηext  of  15.0%,  long-wavelength  λEL  at  670  nm,  and  excellent  pure-red  CIE  of  (0.66,  0.34).  This  pure-red  device  outperforms  other  red  TADF-OLEDs  reported  with  similar  emission  wavelengths.  These findings demonstrate that our design strategy for devel- oping high-efficiency red TADF emitters is indeed promising.  Importantly, it will broaden the horizon for CNBPz derivatives  and their possible analogs as emerging long-wavelength TADF  materials exhibiting high EL efficiencies. The further develop- ment  of  long-wavelength  TADF  emitters  fulfilling  both  high  ΦPL and short τd (i.e., large kr and kRISC) is urgent for pursuing  high-performance  red-to-NIR  OLEDs  with  suppressed  effi- ciency roll-off.'],\n",
       " 'Supporting Information': ['Supporting  Information  is  available  from  the  Wiley  Online  Library  or  from the author.'],\n",
       " 'Acknowledgements': ['This work was supported in part by Grant-in-Aid from the Hoso Bunka  Foundation  and  the  Canon  Foundation.  R.F.  is  grateful  for  financial  support  from  the  JSPS  Research  Fellow  (Grant  No.  JP17J11135).  The  authors  are  grateful  for  the  support  of  the  Cooperative  Research  Program “Network Joint Research Center for Materials and Devices.”  The  authors  also  acknowledge  Dr.  Naoya  Aizawa  for  helpful  discussion.'],\n",
       " 'Conflict of Interest': ['The authors declare no conflict of interest.'],\n",
       " '3. Conclusion': ['Red TADF materials 1 and 2 featuring CNBPz as an extremely  strong  electron-accepting  unit  were  designed  and  synthe- sized.  For  comparison,  analogous  TADF  materials  3  and  4  based  on  CNBQx  with  a  less  strong  electron-accepting  ability '],\n",
       " 'Keywords': ['donor–acceptor  systems,  luminescence,  organic  light  emitting  diodes,  organic semiconductors, thermally activated delayed fluorescence',\n",
       "  'Received: October 26, 2017 Revised: December 21, 2017 Published online: January 16, 2018',\n",
       "  'Adv. Optical Mater. 2018, 6, 1701147',\n",
       "  '1701147  (8 of 9)',\n",
       "  '© 2018 WILEY-VCH Verlag GmbH & Co. KGaA, Weinheim',\n",
       "  ' ',\n",
       "  ' ',\n",
       "  '[1]  H.  Uoyama,  K.  Goushi,  K.  Shizu,  H.  Nomura,  C.  Adachi,  Nature ',\n",
       "  '2012, 492, 234.',\n",
       "  '[2]  For reviews, see: a) Y. Tao, K. Yuan, T. Chen, P. Xu, H. Li, R. Chen,  C.  Zheng,  L.  Zhang,  W.  Huang,  Adv.  Mater.  2014,  26,  7931;   b) M. Y. Wong, E. Zysman-Colman, Adv. Mater. 2017, 29, 1605444;  c)  Y.  Im,  M.  Kim,  Y.  J.  Cho,  J.-A.  Seo,  K.  S.  Yook,  J.  Y.  Lee,  Chem.  Mater.  2017,  29,  1946;  d)  M.  Godumala,  S.  Choi,  M.  J.  Cho,   D.  H.  Choi,  J.  Mater.  Chem.  C  2016,  4,  11355;  e)  N.  Aizawa,   I. S. Park, T. Yasuda, AAPPS Bull. 2016, 26, 9.',\n",
       "  '[3]  a)  M.  Y.  Wong,  G.  J.  Hedley,  G.  Xie,  L.  S.  Kölln,  I.  D.  W.  Samuel,  A.  Pertegás,  H.  J.  Bolink,  E.  Zysman-Colman,  Chem.  Mater.  2015,  27, 6535; b) P. Lundberg, E. Mattias Lindh, S. Tang, L. Edman, ACS  Appl. Mater. Interfaces 2017, 9, 28810.',\n",
       "  '[4]  H. Tachibana, N. Aizawa, Y. Hidaka, T. Yasuda, ACS Photonics 2017, ',\n",
       "  '4, 223.',\n",
       "  '[5]  a)  X.  Xiong,  F.  Song,  J.  Wang,  Y.  Zhang,  Y.  Xue,  L.  Sun,  N.  Jiang,  P.  Gao,  L.  Tian,  X.  Peng,  J.  Am.  Chem.  Soc.  2014,  136,  9590;   b) T. Li, D. Yang, L. Zhai, S. Wang, B. Zhao, N. Fu, L. Wang, Y. Tao,  W. Huang, Adv. Sci. 2017, 4, 1600166.',\n",
       "  '[6]  a)  Q.  Zhang,  B.  Li,  S.  Huang,  H.  Nomura,  H.  Tanaka,  C.  Adachi,  Nat.  Photonics  2014,  8,  326;  b)  M.  Numata,  T.  Yasuda,  C.  Adachi,  Chem. Commun. 2015, 51, 9443; c) J. W. Sun, J. Y. Baek, K.-H. Kim,  C.-K.  Moon,  J.-H.  Lee,  S.-K.  Kwon,  Y.-H.  Kim,  J.-J.  Kim,  Chem.  Mater.  2015,  27,  6675;  d)  D.  Zhang,  M.  Cai,  Y.  Zhang,  D.  Zhang,  L.  Duan,  Mater.  Horiz.  2016,  3,  145;  e)  T.  Hatakeyama,  K.  Shiren,  K. Nakajima, S. Nomura, S. Nakatsuka, K. Kinoshita, J. Ni, Y. Ono,  T. Ikuta, Adv. Mater. 2016, 28, 2777; f) S. Y. Lee, C. Adachi, T. Yasuda,  Adv. Mater. 2016, 28, 4626; g) I. S. Park, J. Lee, T. Yasuda, J. Mater.  Chem.  C  2016,  4,  7911;  h)  I.  S.  Park,  H.  Komiyama,  T.  Yasuda,  Chem. Sci. 2017, 8, 953; i) L.-S. Cui, H. Nomura, Y. Geng, J. U. Kim,  H.  Nakanotani,  C.  Adachi,  Angew.  Chem.,  Int.  Ed.  2017,  56,  1571;   j)  P.  Rajamalli,  N.  Senthilkumar,  P.-Y.  Huang,  C.-C.  Ren-Wu,  H.-W. Lin, C.-H. Cheng, J. Am. Chem. Soc. 2017, 139, 10948.',\n",
       "  '[7]  a)  S.  Hirata,  Y.  Sakai,  K.  Masui,  H.  Tanaka,  S.  Y.  Lee,  H.  Nomura,  N.  Nakamura,  M.  Yasumatsu,  H.  Nakanotani,  Q.  Zhang,  K.  Shizu,  H.  Miyazaki,  C.  Adachi,  Nat.  Mater.  2015,  14,  330;  b)  K.  Suzuki,  S. Kubo, K. Shizu, T. Fukushima, A. Wakamiya, Y. Murata, C. Adachi,  H.  Kaji,  Angew.  Chem.,  Int.  Ed.  2015,  54,  15231;  c)  W.-L.  Tsai,  M.-H.  Huang,  W.-K.  Lee,  Y.-J.  Hsu,  K.-C.  Pan,  Y.-H.  Huang,  H.-C.  Ting,  M.  Sarma,  Y.-Y.  Ho,  H.-C.  Hu,  C.-C.  Chen,  M.-T.  Lee,  K.-T. Wong, C.-C. Wu, Chem. Commun. 2015, 51, 13662; d) T.-A. Lin,  T.  Chatterjee,  W.-L.  Tsai,  W.-K.  Lee,  M.-J.  Wu,  M.  Jiao,  K.-C.  Pan,  C.-L.  Yi,  C.-L.  Chung,  K.-T.  Wong,  C.-C.  Wu,  Adv.  Mater.  2016,  28,  6976;  e)  R.  Komatsu,  H.  Sasabe,  Y.  Seino,  K.  Nakao,  J.  Kido,  J.  Mater.  Chem.  C  2016,  4,  2274;  f)  J.  Lee,  N.  Aizawa,  M.  Numata,  C. Adachi, T. Yasuda, Adv. Mater. 2017, 29, 1604854.',\n",
       "  '[8]  a)  H.  Kaji,  H.  Suzuki,  T.  Fukushima,  K.  Shizu,  K.  Suzuki,  S.  Kubo,  T. Komino, H. Oiwa, F. Suzuki, A. Wakamiya, Y. Murata, C. Adachi,  Nat.  Commun.  2015,  6,  8476;  b)  D.  R.  Lee,  M.  Kim,  S.  K.  Jeon,  S.-H.  Hwang,  C.  W.  Lee,  J.  Y.  Lee,  Adv.  Mater.  2015,  27,  5861;   c) D. R. Lee, B. S. Kim, C. W. Lee, Y. Im, K. S. Yook, S.-H. Hwang,  J. Y. Lee, ACS Appl. Mater. Interfaces 2015, 7, 9625; d) P. Rajamalli,  N.  Senthilkumar,  P.  Gandeepan,  P.-Y.  Huang,  M.-J.  Huang,  C.-Z.  Ren-Wu,  C.-Y.  Yang,  M.-J.  Chiu,  L.-K.  Chu,  H.-W.  Lin,  C.-H. Cheng, J. Am. Chem. Soc. 2016, 138, 628; e) K. Wu, T. Zhang, ',\n",
       "  'L.  Zhan,  C.  Zhong,  S.  Gong,  N.  Jiang,  Z.-H.  Lu,  C.  Yang,  Chem.  -  Eur. J. 2016, 22, 10860.',\n",
       "  '[9]  H.  Wang,  L.  Xie,  Q.  Peng,  L.  Meng,  Y.  Wang,  Y.  Yi,  P.  Wang,  Adv. ',\n",
       "  'Mater. 2014, 30, 5198.',\n",
       "  '[10]  W. Zeng, H.-Y. Lai, W.-K. Lee, M. Jiao, Y.-J. Shiu, C. Zhong, S. Gong,  T.  Zhou,  G.  Xie,  M.  Sarma,  K.-T.  Wong,  C.-C.  Wu,  C.  Yang,  Adv.  Mater. 2018, 30, 1704961.',\n",
       "  '[11]  J.  Li,  T.  Nakagawa,  J.  MacDonald,  Q.  Zhang,  H.  Nomura, ',\n",
       "  'H. Miyazaki, C. Adachi, Adv. Mater. 2013, 25, 3319.',\n",
       "  '[12]  Q.  Zhang,  H.  Kuwabara,  W.  J.  Potscavage  Jr.,  S.  Huang,  Y.  Hatae, ',\n",
       "  'T. Shibata, C. Adachi, J. Am. Chem. Soc. 2014, 136, 18070.',\n",
       "  '[13]  a)  S.  Wang,  X.  Yan,  Z.  Cheng,  H.  Zhang,  Y.  Liu,  Y.  Wang,  Angew.  Chem.,  Int.  Ed.  2015,  54,  13068;  b)  S.  Wang,  Z.  Cheng,  X.  Song,  X.  Yan,  K.  Ye,  Y.  Liu,  G.  Yang,  Y.  Wang,  ACS  Appl.  Mater.  Interfaces  2017, 9, 9892.',\n",
       "  '[14]  C.  Li,  R.  Duan,  B.  Liang,  G.  Han,  S.  Wang,  K.  Ye,  Y.  Liu,  Y.  Yi, ',\n",
       "  'Y. Wang, Angew. Chem., Int. Ed. 2017, 56, 11525.',\n",
       "  '[15]  a) I. S. Park, S. Y. Lee, C. Adachi, T. Yasuda, Adv. Funct. Mater. 2016,  26,  1813;  b)  X.  Cai,  X.  Li,  G.  Xie,  Z.  He,  K.  Gao,  K.  Liu,  D.  Chen,  Y. Cao, S.-J. Su, Chem. Sci. 2016, 7, 4264.',\n",
       "  '[16]  C. Xie, X. Li, D. Chen, Z. Wang, X. Cai, D. Chen, Y. Li, K. Liu, Y. Cao, ',\n",
       "  'S.-J. Su, Adv. Mater. 2016, 28, 181.',\n",
       "  '[17]  a)  P.  Data,  P.  Pander,  M.  Okazaki,  Y.  Takeda,  S.  Minakata,   A.  P.  Monkman,  Angew.  Chem.,  Int.  Ed.  2016,  55,  5739;    b)  M.  Okazaki,  Y.  Takeda,  P.  Data,  P.  Pander,  H.  Higginbotham,   A. P. Monkman, S. Minakata, Chem. Sci. 2017, 8, 2677.',\n",
       "  '[18]  F.  Ni,  Z.  Wu,  Z.  Zhu,  T.  Chen,  K.  Wu,  C.  Zhong,  K.  An,  D.  Wei, ',\n",
       "  'D. Ma, C. Yang, J. Mater. Chem. C 2017, 5, 1363.',\n",
       "  '[19]  a)  R.  Englman,  J.  Jortner,  Mol.  Phys.  1970,  18,  145;  b)  J.  V.  Caspar,  E. M. Kober, B. P. Sullivan, T. J. Meyer, J. Am. Chem. Soc. 1982, 104,  630;  c)  S.  D.  Cummings,  R.  Eisenberg,  J.  Am.  Chem.  Soc.  1996,  118,  1949;  d)  J.  S.  Wilson,  N.  Chawdhury,  M.  R.  A.  Al-Mandhary,  M. Younus, M. S. Khan, P. R. Raithby, A. Köhler, R. H. Friend, J. Am.  Chem. Soc. 2001, 123, 9412.',\n",
       "  '[20]  The  synthesis  of  CNBPz  itself  was  reported:  A.  E.  Balakirev,   V.  E.  Maizlish,  G.  P.  Shaposhnikov,  Russ.  J.  Gen.  Chem.  2002,  72,  336.',\n",
       "  '[21]  J. Li, G. Hu, N. Wang, T. Hu, Q. Wen, P. Lu, Y. Wang, J. Org. Chem. ',\n",
       "  '2013, 78, 3001.',\n",
       "  '[22]  Absorption  bands  of  1–4  in  the  solid  neat  films  were  substantially  redshifted  compared  to  those  observed  in  solutions,  indicative  of  the  presence  of  strong  intermolecular  electronic  interactions  in  their condensed states (Supporting Information).',\n",
       "  '[23]  J. Lee, N. Aizawa, T. Yasuda, Chem. Mater. 2017, 29, 8012. [24]  a)  H.  Sasabe,  D.  Tanaka,  D.  Yokoyama,  T.  Chiba,  Y.-J.  Pu,  K.  Nakayama,  M.  Yokoyama,  J.  Kido,  Adv.  Funct.  Mater.  2011,  21,  336; b) H. Sasabe, T. Chiba, S.-J. Su, Y.-J. Pu, K. Nakayama, J. Kido,  Chem.  Commun.  2008,  5821;  c)  D.  Tanaka,  H.  Sasabe,  Y.-J.  Li,  S.-J. Su, T. Takeda, J. Kido, Jpn. J. Appl. Phys. 2007, 46, L10.',\n",
       "  '[25]  Y. Kuwabara, H. Ogawa, H. Inada, N. Noma, Y. Shirota, Adv. Mater. ',\n",
       "  '1994, 6, 677.',\n",
       "  '[26]  C.  Murawski,  K.  Leo,  M.  C.  Gather,  Adv.  Mater.  2013,  25,  ',\n",
       "  '6801.',\n",
       "  '[27]  S.  Y.  Lee,  T.  Yasuda,  H.  Nomura,  C.  Adachi,  Appl.  Phys.  Lett.  2012, ',\n",
       "  '101, 093306.',\n",
       "  'Adv. Optical Mater. 2018, 6, 1701147',\n",
       "  '1701147  (9 of 9)',\n",
       "  '© 2018 WILEY-VCH Verlag GmbH & Co. KGaA, Weinheim']}"
      ]
     },
     "execution_count": 32,
     "metadata": {},
     "output_type": "execute_result"
    }
   ],
   "source": [
    "pdf.section()"
   ]
  },
  {
   "cell_type": "markdown",
   "id": "da331573",
   "metadata": {},
   "source": [
    "### Get References"
   ]
  },
  {
   "cell_type": "code",
   "execution_count": 5,
   "id": "132b5bbf",
   "metadata": {},
   "outputs": [
    {
     "name": "stdout",
     "output_type": "stream",
     "text": [
      "0\n",
      "['National Science and Technology Council', ' Oﬃce of Science and Technology Policy. Materials Genome Initiative for Global Competitive- ness; 2011. ']\n",
      "1\n",
      "['Olivares-Amaya', ' R.; Amador-Bedolla', ' C.; Hachmann', ' J.; Atahan- Evrenk', ' S.; Sanchez-Carrera', ' R. S.; Vogt', ' L.; Aspuru-Guzik', ' A. Accelerated Computational Discovery of High-performance Materials for Organic Photovoltaics by Means of Cheminformatics. Energy Environ. Sci. 2011', ' 4', ' 4849−4861. ']\n",
      "2\n",
      "['Jain', ' A.; Ong', ' S. P.; Hautier', ' G.; Chen', ' W.; Richards', ' W. D.; Dacek', ' S.; Cholia', ' S.; Gunter', ' D.; Skinner', ' D.; Ceder', ' G.; Persson', ' K. A. Commentary: The Materials Project: A Materials Genome Approach to Accelerating Materials Innovation. APL Mater. 2013', ' 1', ' 011002. ']\n",
      "3\n",
      "['Tsuruoka', ' Y.; Tateishi', ' Y.; Kim', ' J.-D.; Ohta', ' T.; McNaught', ' J.; Ananiadou', ' S.; Tsujii', ' J. In Advances in Informatics; Bozanis', ' P.', ' Houstis', ' E. N.', ' Eds.; Springer Berlin Heidelberg: Berlin', ' Heidelberg', ' 2005; pp 382−392. ']\n",
      "4\n",
      "['Fundel', ' K.; Küffner', ' R.; Zimmer', ' R. Relex\\\\ue0d5Relation Extraction Using Dependency Parse Trees. Bioinformatics 2007', ' 23', ' 365−371. ']\n",
      "5\n",
      "['Zweigenbaum', ' P.; Demner-Fushman', ' D.; Yu', ' H.; Cohen', ' K. B. Frontiers of Biomedical Text Mining: Current Progress. Briefings Bioinf. 2007', ' 8', \" 358−375.'\", \" ''\", \" 'DOI: 10.1021/acs.jcim.6b00207 J. Chem. Inf. Model. 2016\", ' 56', \" 1894−1904'\", \" ''\", \" ''\", \" 'J. Challenges'\", \" '\"]\n",
      "6\n",
      "['Simpson', ' M. S.; Demner-Fushman', ' D. Mining Text Data; Springer US: Boston', ' MA', ' 2012; pp 465−517. ']\n",
      "7\n",
      "['Eltyeb', ' S.; Salim', ' N. Chemical Named Entities Recognition: A Review on Approaches and Applications. J. Cheminf. 2014', ' 6', ' 17. ']\n",
      "8\n",
      "['Vazquez', ' M.; Krallinger', ' M.; Leitner', ' F.; Valencia', ' A. Text Mining for Drugs and Chemical Compounds: Methods', ' Tools and Applications. Mol. Inf. 2011', ' 30', ' 506−519. ']\n",
      "9\n",
      "['Gurulingappa', ' H.; Mudi', ' A.; Toldo', ' L.; Hofmann-Apitius', ' M.; Bhate', ' in Mining the Literature for Chemical Information. RSC Adv. 2013', ' 3', ' 16194−16211. ']\n",
      "10\n",
      "['Hawizy', ' L.; Jessop', ' D.; Adams', ' N.; Murray-Rust', ' P. ChemicalTagger: A Tool for Semantic Text-mining in Chemistry. J. Cheminf. 2011', ' 3', ' 17. ']\n",
      "11\n",
      "['Parr', ' T. J.; Quong', ' R. W. ANTLR: A Predicated-LL(k) Parser Generator. Software: Practice and Experience 1995', ' 25', ' 789−810. ']\n",
      "12\n",
      "['Jessop', ' D. M.; Adams', ' S. E.; Willighagen', ' E. L.; Hawizy', ' L.; Murray-Rust', ' P. OSCAR4: A Flexible Architecture for Chemical Text- mining. J. Cheminf. 2011', ' 3', ' 41. ']\n",
      "13\n",
      "['Lowe', ' D. M.; Sayle', ' R. A. LeadMine: A Grammar and Dictionary Driven Approach to Entity Recognition. J. Cheminf. 2015', ' 7', ' S5. ']\n",
      "14\n",
      "['Tetko', ' I. V.; Lowe', ' D. M.; Williams', ' A. J. The Development of Models to Predict Melting and Pyrolysis Point Data Associated with Several Hundred Thousand Compounds Mined from PATENTS. J. Cheminf. 2016', ' 8', ' 1−18. ']\n",
      "15\n",
      "['Tharatipyakul', ' A.; Numnark', ' S.; Wichadakul', ' D.; Ingsriswang', ' S. ChemEx: Information Extraction System for Chemical Data Curation. BMC Bioinf. 2012', ' 13', ' S9. ']\n",
      "16\n",
      "['Filippov', ' I. V.; Nicklaus', ' M. C. Optical Structure Recognition Software To Recover Chemical Information: OSRA', ' An Open Source Solution. J. Chem. Inf. Model. 2009', ' 49', ' 740−743. ']\n",
      "17\n",
      "['Shinyama', ' Y. PDFMiner. https://euske.github.io/pdfminer/ (accessed October 3', ' 2016). ']\n",
      "18\n",
      "['Kiss', ' T.; Strunk', ' Boundary Detection. Comput. Linguist. 2006', ' 32', ' 485−525. ']\n",
      "19\n",
      "['Read', ' J.; Dridan', ' R.; Oepen', ' S.; Solberg', ' L. J. Sentence Boundary Detection: A Long Solved Problem? Proceedings of COLING 2012', ' Mumbia', ' India', ' December 2012; pp 985−994. ']\n",
      "20\n",
      "['Turian', ' J.; Ratinov', ' L.; Bengio', ' Y. Word representations: A Simple and General Method for Semi-supervised Learning. Proceedings of the Association for Computational Linguistics', ' Uppsala', ' Sweden', ' July 11−16', ' 2010; pp384−394. ']\n",
      "21\n",
      "['Brown', ' P. F.; deSouza', ' P. V.; Mercer', ' R. L.; Pietra', ' V. J. D.; Lai', ' J. C. Class-based N-gram Models of Natural Language. Comput. Linguist. 1992', ' 18', ' 467−479. ']\n",
      "22\n",
      "['Miller', ' S.; Guinness', ' J.; Zamanian', ' A. Name Tagging with Word Clusters and Discriminative Training. HLT/NAACL (Human Language Technology conference/North American chapter of the Association for Computational Linguistics annual meeting)', ' Boston', ' Massachusetts', ' May 2−7', ' 2004; pp 337−342. ']\n",
      "23\n",
      "['Ganchev', ' K.; Crammer', ' K.; Pereira', ' F.; Mann', ' G.; Bellare', ' K.; Carroll', ' S.; Jin', ' Y.; White', ' P. Penn/Umass/CHOP Biocreative II Systems; 2007; pp 119−124. ']\n",
      "24\n",
      "['Täckström', ' O.; McDonald', ' R.; Uszkoreit', ' J. Cross-lingual Word Clusters for Direct Transfer of Linguistic Structure. HLT/NAACL', ' 2012; pp 477−487. ']\n",
      "25\n",
      "['Owoputi', ' O.; O’Connor', ' B.; Dyer', ' C.; Gimpel', ' K.; Schneider', ' N.; Smith', ' N. A. Improved Part-of-Speech Tagging for Online Conversational Text with Word Clusters. NAACL HLT 2013 (Proceedings of the 2013 Conference of the North American Chapter of the Association for Computational Linguistics: Human Language Technologies)', ' Atlanta', ' Georgia', ' June 10−12', ' 2013; pp 380−390. ']\n",
      "26\n",
      "['Liang', ' P. Semi-Supervised Learning for Natural Language M.Sc. thesis', ' Massachusetts Institute of Technology', ' 2005. ']\n",
      "27\n",
      "['Bies', ' A.; Mott', ' J.; Warner', ' C. English News Text Treebank: Penn Treebank Revised LDC2015T13; Linguistic Data Consortium: Phila- delphia', ' 2015. ']\n",
      "28\n",
      "['Tateishi', ' Y.; Tsujii', \" J. Part-of-Speech Annotation of Biology Research Abstracts. LREC 2004 (Proceedings of the 4th International'\", \" 'J. Unsupervised Multilingual Sentence'\", \" 'the 48th Annual Meeting of'\", \" 'Conference on Language Resource and Evaluation)\", ' Lisbon', ' Portugal', ' May 26−28', ' 2004. ']\n",
      "29\n",
      "['Okazaki', ' N. CRFsuite: A Fast Implementation of Conditional Random Fields (CRFs). 2007; http://www.chokkan.org/software/ crfsuite/ (accessed October 3', ' 2016). ']\n",
      "30\n",
      "['Rocktaschel', ' T.; Weidlich', ' M.; Leser', ' U. ChemSpot: A Hybrid System for Chemical Named Entity Recognition. Bioinformatics 2012', ' 28', ' 1633−1640. ']\n",
      "31\n",
      "['Krallinger', ' M.; Leitner', ' F.; Rabal', ' O.; Vazquez', ' M.; Oyarzabal', ' J.; Valencia', ' A. CHEMDNER: The Drugs and Chemical Names Extraction Challenge. J. Cheminf. 2015', ' 7', ' S1. ']\n",
      "32\n",
      "['Krallinger', ' M.; Rabal', ' O.; Leitner', ' F.; Vazquez', ' M.; Salgado', ' D.; Lu', ' Z.; Leaman', ' R.; Lu', ' Y.; Ji', ' D.; Lowe', ' D. M.; Sayle', ' R. A.; Batista- Navarro', ' R. T.; Rak', ' R.; Huber', ' T.; Rocktäschel', ' T.; Matos', ' S.; Campos', ' D.; Tang', ' B.; Xu', ' H.; Munkhdalai', ' T.; Ryu', ' K. H.; Ramanan', ' S. V.; Nathan', ' S.; Žitnik', ' S.; Bajec', ' M.; Weber', ' L.; Irmer', ' M.; Akhondi', ' S. A.; Kors', ' J. A.; Xu', ' S.; An', ' X.; Sikdar', ' U. K.; Ekbal', ' A.; Yoshioka', ' M.; Dieb', ' T. M.; Choi', ' M.; Verspoor', ' K.; Khabsa', ' M.; Giles', ' C. L.; Liu', ' H.; Ravikumar', ' K. E.; Lamurias', ' A.; Couto', ' F. M.; Dai', ' H.-J.; Tsai', ' R. T.; Ata', ' C.; Can', ' T.; Usié', ' A.; Alves', ' R.; Segura-Bedmar', ' I.; Martínez', ' P.; Oyarzabal', ' J.; Valencia', ' A. The CHEMDNER Corpus of Chemicals and Drugs and Its Annotation Principles. J. Cheminf. 2015', ' 7', ' S2. ']\n",
      "33\n",
      "['Hettne', ' K. M.; Stierum', ' R. H.; Schuemie', ' M. J.; Hendriksen', ' P. J. M.; Schijvenaars', ' B. J. A.; Mulligen', ' E. M. v.; Kleinjans', ' J.; Kors', ' J. A. A Dictionary to Identify Small Molecules and Drugs in Free Text. Bioinformatics 2009', ' 25', ' 2983−2991. ']\n",
      "34\n",
      "['Schwartz', ' A. S.; Hearst', ' M. A. A Simple Algorithm for Identifying Abbreviation Definitions in Biomedical Text. Proc. Pacific Symp. 2003', ' 451. ']\n",
      "35\n",
      "['The manually-extracted gold standard output is available from http://chemdataextractor.org/evaluation along with the full text of the 50 source articles. ']\n",
      "36\n",
      "['Leaman', ' R.; Wei', ' C.-H.; Lu', ' Z. tmChem: A High Performance Approach for Chemical Named Entity Recognition and Normalization. J. Cheminf. 2015', ' 7', ' S3. ']\n",
      "37\n",
      "['(38) Lu', ' Y.; Ji', ' D.; Yao', ' X.; Wei', ' X.; Liang', ' X. CHEMDNER System with Mixed Conditional Random Fields and Multi-Scale Word Clustering. J. Cheminf. 2015', ' 7', \" S4.'\", \" ''\", \" 'DOI: 10.1021/acs.jcim.6b00207 J. Chem. Inf. Model. 2016\", ' 56', \" 1894−1904']\"]\n"
     ]
    }
   ],
   "source": [
    "for seq, ref in pdf.reference().items():\n",
    "    print(seq)\n",
    "    print(ref)"
   ]
  },
  {
   "cell_type": "markdown",
   "id": "6ec7a089",
   "metadata": {},
   "source": [
    "## Pass multiple files at one time"
   ]
  },
  {
   "cell_type": "code",
   "execution_count": 2,
   "id": "e70f73ef",
   "metadata": {},
   "outputs": [],
   "source": [
    "import glob"
   ]
  },
  {
   "cell_type": "code",
   "execution_count": 47,
   "id": "5069a482",
   "metadata": {},
   "outputs": [],
   "source": [
    "def read_single(file):\n",
    "    reader = Reader()\n",
    "    pdf = reader.read_file(file)\n",
    "    print(pdf.abstract())\n",
    "\n",
    "    \n",
    "def read_multiple(path):\n",
    "    for i in path:\n",
    "        read_single(i)\n",
    "        print('-------------------', '\\n')\n"
   ]
  },
  {
   "cell_type": "code",
   "execution_count": 48,
   "id": "2217ecc4",
   "metadata": {},
   "outputs": [
    {
     "name": "stdout",
     "output_type": "stream",
     "text": [
      "Reading:  /Users/miao/Desktop/test/els/6.pdf\n",
      "*** Elsevier detected ***\n",
      "For policymakers, planners, urban design practitioners and city service decision-makers who endeavour to create policies and take decisions to improve the function of cities, developing an understanding of cities, and the particular city in question, is important. However, in the ever-increasing ﬁeld of urban measurement and analysis, the challenges cities face are frequently presumed: crime and fear of crime, social inequality, environmental degradation, economic deterioration and disjointed governance. Although it may be that many cities share similar problems, it is unwise to assume that cities share the same challenges, to the same degree or in the same combination. And yet, diagnosing the challenges a city faces is often overlooked in preference for improving the understanding of known challenges. To address this oversight, this study evidences the need to diagnose urban challenges, introduces a novel mixed-methods approach for doing so, applies (and critiques) the approach to the city of Birmingham, UK, and proposes a set of principles for the transferability of this new urban diagnostic methodology to other cities. The paper argues that applying a rigorous, explorative, diagnostic approach to ‘reading cities’ provides conﬁdence that all critical challenges have been identiﬁed and, crucially, identiﬁes how they are interdependent, both of which have implications for how policymakers and decision-makers address a particular city's combination of interlinked challenges.\n",
      "------------------- \n",
      "\n",
      "Reading:  /Users/miao/Desktop/test/els/7.pdf\n",
      "*** Elsevier detected ***\n",
      "City bus drivers are facing increasingly stressful work situations. In urban areas, bus drivers are competing for limited road space with various vehicles in mixed trafﬁc conditions. This mixed trafﬁc ﬂow condition may not only cause trafﬁc congestion problems but also increase the driving fatigue of a city bus driver. In addition, the average number of elderly passengers are increasing. Constrained by their physical conditions, elderly passengers usually take more time to get on or off a bus and require a city bus driver’s special attention or help. An increase in elderly passengers using city buses may increase the bus driver’s stress and/or fatigue levels. This study developed a structural equation model to investi- gate the causal relationships between a vector of stress factors and city bus drivers’ fatigue levels from a risk management perspective. The empirical study results based on a ques- tionnaire survey indicated that mixed trafﬁc ﬂow conditions and the characteristics of elderly passengers are positively correlated with the levels of driving fatigue in city bus dri- vers. An increase in the number of motor scooters in a trafﬁc stream and/or elderly passen- gers on a bus will lead to higher levels of mental fatigue for a city bus driver. This study discussed the effects of several stressors on a city bus driver’s fatigue and provided sugges- tions for changes in policies to ensure the fatigue mitigation of city bus drivers.\n",
      "------------------- \n",
      "\n",
      "Reading:  /Users/miao/Desktop/test/els/5.pdf\n",
      "*** Elsevier detected ***\n",
      "During  the  heating  season  in  the  “Three  North”  area  of  China,  the  wind  curtailment  has  become  a  serious  problem due to the lack of space for grid-connected wind power. Firstly, from the perspective of improving the  acceptance capacity of wind power curtailment, this paper establishes a model of hybrid energy storage. Then  considering the influence of the frequently changing electrodes of the regenerative electric boiler on its working  life, this paper introduces the optimization coefficient of electrodes, and the optimal operation strategy of hybrid  energy  storage  system  is  put  forward.  Finally,  based  on  the  actual  data  of  200  MW  wind  farm,  this  paper  compares and analyzes the advantages and disadvantages of different control methods. The results show that the  proposed method can further improve the power system’s ability to accept wind power, under the requirements  of meeting the heating demand and reducing the number of electrode adjustment of electric boilers.   \n",
      "------------------- \n",
      "\n",
      "Reading:  /Users/miao/Desktop/test/els/4.pdf\n",
      "*** Elsevier detected ***\n",
      "In this paper we aim to analyze the status of investment and ﬁnancing of photovoltaic power generation in Cameroon, ﬁnd out the challenges it faces, and put forward solutions. Through in-depth analyses of the investment and ﬁnancing data of photovoltaic power generation from Cameroon, reference countries and the world during 2008e2019 and by drawing lessons from international experiences, we ﬁnd that Cameroon’s investment and ﬁnancing is far from meeting the needs of its photovoltaic power generation development. The causal analyses show that the root causes leading to insufﬁcient investment and ﬁnancing of photovoltaic power generation in Cameroon are the government behavior defects. On this basis, using the appropriate problem-oriented analysis method, we put forward policy recommendations to improve the investment and ﬁnancing situation of photovoltaic power generation in Cameroon. The basic conclusion of this paper is that the low investment scale, single ﬁnancing structure, violent in- vestment ﬂuctuation and ﬁnancing gap are the surface causes of slowing photovoltaic power generation in Cameroon, while the lack of consciousness about attracting international investment, the ambiguity of the application process for photovoltaic power generation projects, the lack of speciﬁc measures to stimulate photovoltaic power generation, and the backward national planning of photovoltaic power generation are the internal reasons delaying Cameroon’s photovoltaic power generation. This study not only beneﬁts Cameroon by being a guide for optimizing and promoting the development of photovoltaic power generation, but also has universal reference value for other similar research.\n",
      "------------------- \n",
      "\n",
      "Reading:  /Users/miao/Desktop/test/els/1.pdf\n",
      "*** Elsevier detected ***\n",
      "Cities across the world are starting to recover space, previously devoted to cars, for other uses. The main purpose of this paper is to better understand the removal of space in urban settings and to provide some analytical results showing that it is possible to remove streets from a city without worsening trafﬁc excessively.\n",
      "------------------- \n",
      "\n",
      "Reading:  /Users/miao/Desktop/test/els/3.pdf\n",
      "*** Elsevier detected ***\n",
      "Porcine pancreatic stem cells (pPSCs) can be induced to insulin-secreting cells and therefore considered the most promising seeding cells for curing human diabetes in future. However, insuﬃcient pPSCs number is one of the bottleneck problems before its clinical application. SerpinB1 is a serine protease inhibitor in neutrophils and can directly promote the proliferation of β cells. Whether SerpinB1 is involved in pPSC proliferation and diﬀer- entiation remains unknown. The eﬀects of SerpinB1 on pPSCs proliferation were measured by Cell Counting Kit- 8, 5-ethynyl-2′-deoxyuridine, qRT-PCR, western blot, and ﬂow cytometry assays. We found that pPSCs did not eﬃciently reach the S phase when SerpinB1 expression was knocked down with short hairpin RNA (sh- SerpinB1), the expression of Cyclin D1, CDK-2, and PCNA also decreased. Meanwhile, cell viability and pro- liferation ability were both declined. Further analyses showed that the expression level of phosphorylated STAT3/STAT3was downregulated, along with an upregulation of p53 and p21. We used a two-step induction method to induce pPSCs to insulin-secreting cells and found that SerpinB1 expression in insulin-secreting cells was higher than in pPSCs. Meanwhile, the protein expression level of phosphorylated STAT3/STAT3 was in- creased while p53 and p21 was decreased in induced insulin-secreting cells in comparison with control cells. The insulin-secreting cells derived from the sh-SerpinB1 cells secreted less insulin and showed poor sensitivity to high glucose than control group. However, the insulin-secreting cells derived from the ov-SerpinB1 cells has a quite contrary tendency. In conclusion, this study demonstrates that SerpinB1 promotes the proliferation of pPSCs through the STAT3 signaling pathway, and SerpinB1 is a key factor for maintaining the viability of pPSCs during the transition to insulin-secreting cells.\n",
      "------------------- \n",
      "\n",
      "Reading:  /Users/miao/Desktop/test/els/2.pdf\n"
     ]
    },
    {
     "name": "stdout",
     "output_type": "stream",
     "text": [
      "*** Elsevier detected ***\n",
      "Cities are increasingly challenged to improve their competitiveness. Performance indicators stand as an important element to interpret the success of the policy regime adopted by the municipality. Cities with a set of superior economic, social and environmental indicators have the potential to present better living conditions for their inhabitants. In this context, the aim of this research is to analyze whether the in- dicators published by Brazilian cities are aligned with the approach of a smart or sustainable city. The research used a set of 3150 data points regarding the performance of these cities. It analyzed the per- formance of the 150 best cities, divided into three groups of interest identiﬁed as small cities, medium- sized cities and big cities, on a set of 21 indicators. The set of identiﬁed indicators shows the attention of the cities to socioeconomic and information and communication technologies issues, thus revealing that Brazilian city managers are more interested in positioning their cities as smart than sustainable. Analysis of the general indicators of the cities, supported by the number of inhabitants, indicated that big cities present superior performance in relation to medium-sized cities, and that the latter perform better in relation to the small cities. However, small cities in the individualized analysis of social indicators present a better-performing set.\n",
      "------------------- \n",
      "\n"
     ]
    }
   ],
   "source": [
    "read_multiple(glob.glob(r'/Users/miao/Desktop/test/els/*.pdf'))"
   ]
  },
  {
   "cell_type": "markdown",
   "id": "a3c36e84",
   "metadata": {},
   "source": [
    "## Use PDFDataExtractor to perform chemistry related extraction"
   ]
  },
  {
   "cell_type": "markdown",
   "id": "02dcccb4",
   "metadata": {},
   "source": [
    "### You can use the flag \"chem=Ture\" to instruct the function to carry out chemistry related information extraction at the same time when extracting metadata, using ChemDataExtractor"
   ]
  },
  {
   "cell_type": "code",
   "execution_count": 3,
   "id": "0fecca4e",
   "metadata": {},
   "outputs": [],
   "source": [
    "file_test = r'/Volumes/Backup/PDE_papers/articles/Elesvier/dssc/The-effect-of-molecular-structure-on-the-properties-of-quinox_2020_Dyes-and-.pdf'"
   ]
  },
  {
   "cell_type": "code",
   "execution_count": 4,
   "id": "4783bdf5",
   "metadata": {},
   "outputs": [],
   "source": [
    "reader = Reader()"
   ]
  },
  {
   "cell_type": "code",
   "execution_count": 5,
   "id": "02248767",
   "metadata": {},
   "outputs": [
    {
     "name": "stdout",
     "output_type": "stream",
     "text": [
      "Reading:  /Volumes/Backup/PDE_papers/articles/Elesvier/dssc/The-effect-of-molecular-structure-on-the-properties-of-quinox_2020_Dyes-and-.pdf\n",
      "*** Elsevier detected ***\n"
     ]
    }
   ],
   "source": [
    "pdf = reader.read_file(file_test)"
   ]
  },
  {
   "cell_type": "markdown",
   "id": "41df0c38",
   "metadata": {},
   "source": [
    "### Pass True to 'chem'"
   ]
  },
  {
   "cell_type": "code",
   "execution_count": 6,
   "id": "a84263e7",
   "metadata": {},
   "outputs": [],
   "source": [
    "r = pdf.abstract(chem=True)"
   ]
  },
  {
   "cell_type": "markdown",
   "id": "77b4aa85",
   "metadata": {},
   "source": [
    "### Show records"
   ]
  },
  {
   "cell_type": "code",
   "execution_count": 7,
   "id": "1941ed13",
   "metadata": {},
   "outputs": [
    {
     "data": {
      "text/plain": [
       "[{'names': ['donor-π-bridge-acceptor-π']},\n",
       " {'names': ['quinoxaline']},\n",
       " {'names': ['deep red']}]"
      ]
     },
     "execution_count": 7,
     "metadata": {},
     "output_type": "execute_result"
    }
   ],
   "source": [
    "r.records.serialize()"
   ]
  },
  {
   "cell_type": "markdown",
   "id": "0f22f396",
   "metadata": {},
   "source": [
    "## Things to notice"
   ]
  },
  {
   "cell_type": "markdown",
   "id": "158d1e36",
   "metadata": {},
   "source": [
    "### PDFDataExtractor uses ChemDataExtrator to perform all chemistry related extraction, for more detailed use cases, please refer to http://chemdataextractor.org"
   ]
  },
  {
   "cell_type": "markdown",
   "id": "931d6b09",
   "metadata": {},
   "source": [
    "## Known Issues"
   ]
  },
  {
   "cell_type": "markdown",
   "id": "4456656f",
   "metadata": {},
   "source": [
    "In ACS\n",
    "* In ACS, a few journals have two section title styles existing at the same time, namely: numbered one and ■ one. This could confuse the title filtration function because two styles have largely different font sizes. But this won’t affect reference extraction\n",
    "* Reference extracted might not be in order\n",
    "* Parts of extracted reference could be missing\n",
    "\n",
    "In Elesvier\n",
    "* Potentially weak journal extraction leads to missing journal information\n",
    "* Unnumbered references can be messy\n",
    "\n",
    "In RSC\n",
    "* Title can be missing\n",
    "* Journal year, volume and page numbers can be missing in certain articles\n",
    "* Some section titles can be missed but reference section remains solid\n",
    "\n",
    "\n",
    "In Advanced Family\n",
    "* Reference entries can be mixed\n",
    "* Keywords can be found inside reference entries, roughly 1 in 20\n",
    "* Some authors place their bio at the very end, such words are not excluded from reference at the moment\n",
    "\n",
    "In CAEJ\n",
    "* Keywords can be incomplete\n",
    "\n",
    "In Angewandte\n",
    "* Keywords might not be in order"
   ]
  }
 ],
 "metadata": {
  "kernelspec": {
   "display_name": "Python 3 (ipykernel)",
   "language": "python",
   "name": "python3"
  },
  "language_info": {
   "codemirror_mode": {
    "name": "ipython",
    "version": 3
   },
   "file_extension": ".py",
   "mimetype": "text/x-python",
   "name": "python",
   "nbconvert_exporter": "python",
   "pygments_lexer": "ipython3",
   "version": "3.7.11"
  }
 },
 "nbformat": 4,
 "nbformat_minor": 5
}
