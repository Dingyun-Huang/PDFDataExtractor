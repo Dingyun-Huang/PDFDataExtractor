{
 "cells": [
  {
   "cell_type": "markdown",
   "id": "eced1c2d",
   "metadata": {},
   "source": [
    "# PDFDataExtractor Demo"
   ]
  },
  {
   "cell_type": "markdown",
   "id": "46ebc98f",
   "metadata": {},
   "source": [
    "PDFDataExtractor is a toolkit for automatically extracting semantic information from PDF files of scientific articles, which features a template-based architecture with abilities to extract information from the following various publishers: \n",
    "* |  Elsevier\n",
    "* | Royal Society of Chemistry\n",
    "* | Advanced Material Families (Wiley)\n",
    "* | Angewandte\n",
    "* | Chemistry A European Journal\n",
    "* | American Chemistry Society\n",
    "* | Springer (Temporarily unavailable)"
   ]
  },
  {
   "cell_type": "markdown",
   "id": "048485ba",
   "metadata": {},
   "source": [
    "### Add PDFDataExtractor to your Conda path"
   ]
  },
  {
   "cell_type": "markdown",
   "id": "671030b8",
   "metadata": {},
   "source": [
    "Use the following command to add PDFDataExtractor to your current conda environment\n",
    "\n",
    "\"directory\" will be where the path to the root folder"
   ]
  },
  {
   "cell_type": "code",
   "execution_count": 1,
   "id": "c6a1ac8a",
   "metadata": {},
   "outputs": [
    {
     "name": "stdout",
     "output_type": "stream",
     "text": [
      "added /Users/miao/Desktop/PDFDataExtractor/directory\n",
      "completed operation for: /Users/miao/Desktop/PDFDataExtractor/directory\n",
      "\n",
      "Note: you may need to restart the kernel to use updated packages.\n"
     ]
    }
   ],
   "source": [
    "conda develop \"directory\""
   ]
  },
  {
   "cell_type": "markdown",
   "id": "b8db3a07",
   "metadata": {},
   "source": [
    "### Import necessary module"
   ]
  },
  {
   "cell_type": "code",
   "execution_count": 28,
   "id": "a636447e",
   "metadata": {},
   "outputs": [],
   "source": [
    "from pdfdataextractor import Reader"
   ]
  },
  {
   "cell_type": "markdown",
   "id": "1c9b5039",
   "metadata": {},
   "source": [
    " "
   ]
  },
  {
   "cell_type": "markdown",
   "id": "cf90c1ac",
   "metadata": {},
   "source": [
    "## Pass in a single file"
   ]
  },
  {
   "cell_type": "code",
   "execution_count": 29,
   "id": "5beed496",
   "metadata": {},
   "outputs": [],
   "source": [
    "path = r'/Users/miao/Desktop/test/els/1.pdf'"
   ]
  },
  {
   "cell_type": "code",
   "execution_count": 30,
   "id": "2d1b8407",
   "metadata": {},
   "outputs": [],
   "source": [
    "file = Reader()"
   ]
  },
  {
   "cell_type": "code",
   "execution_count": 31,
   "id": "89095cdd",
   "metadata": {},
   "outputs": [
    {
     "name": "stdout",
     "output_type": "stream",
     "text": [
      "Reading:  /Users/miao/Desktop/test/els/1.pdf\n",
      "*** Elsevier detected ***\n"
     ]
    }
   ],
   "source": [
    "pdf = file.read_file(path)"
   ]
  },
  {
   "cell_type": "markdown",
   "id": "423d2bed",
   "metadata": {},
   "source": [
    " "
   ]
  },
  {
   "cell_type": "markdown",
   "id": "6526f55c",
   "metadata": {},
   "source": [
    "### Test if PDF is returned successful"
   ]
  },
  {
   "cell_type": "code",
   "execution_count": 32,
   "id": "ae45c0b6",
   "metadata": {},
   "outputs": [
    {
     "name": "stdout",
     "output_type": "stream",
     "text": [
      "PDF returned successfully\n"
     ]
    }
   ],
   "source": [
    "pdf.test()"
   ]
  },
  {
   "cell_type": "markdown",
   "id": "52fb8b9c",
   "metadata": {},
   "source": [
    "### Get Caption"
   ]
  },
  {
   "cell_type": "code",
   "execution_count": 33,
   "id": "2aece6b3",
   "metadata": {},
   "outputs": [
    {
     "data": {
      "text/plain": [
       "{'figure 1': 'Fig. 1. The network model.',\n",
       " 'figure 3': 'Fig. 3. Total travel time indexed for: (a) random, (b) central, (c) peripheral removals, and (d) all the strategies (average values).',\n",
       " 'figure 2': 'Fig. 2. Example of ﬂow distribution in different network conﬁgurations (thicker lines mean higher ﬂows): (a) full grid, (b) 30% random removal, (c) 30% central removal, and (d) 30% peripheral removal.',\n",
       " 'figure 4': 'Fig. 4. Average values of: (a) indexed distance travelled, (b) average speed, for the three removal strategies.',\n",
       " 'figure 5': 'Fig. 5. Average values of: (a) percentage of total travel time spent on intersections, and (b) maximum V/C ratios on intersections, for the three removal strategies.',\n",
       " 'figure 6': 'Fig. 6. Number and type of maneuvers at intersections (average values) for: (a) random removal, (b) central removal, and (c) peripheral removal, and (d) percentage of movements taking place at 4 leg intersections.',\n",
       " 'figure 7': 'Fig. 7. Total travel times for random removal to evaluate the effects of the gain in capacity at intersections: (a) 0–10% link removal, and (b) 0–30% link removal.',\n",
       " 'figure 8': 'Fig. 8. Total travel time for different demand loads (s = 1.12; 1.62; and 2.12).'}"
      ]
     },
     "execution_count": 33,
     "metadata": {},
     "output_type": "execute_result"
    }
   ],
   "source": [
    "pdf.caption()"
   ]
  },
  {
   "cell_type": "markdown",
   "id": "c2040fc4",
   "metadata": {},
   "source": [
    "### Get Keywords"
   ]
  },
  {
   "cell_type": "code",
   "execution_count": 34,
   "id": "8b33d4ec",
   "metadata": {},
   "outputs": [
    {
     "data": {
      "text/plain": [
       "'Keywords: Link removal Urban pattern Trafﬁc performance Grid'"
      ]
     },
     "execution_count": 34,
     "metadata": {},
     "output_type": "execute_result"
    }
   ],
   "source": [
    "pdf.keywords()"
   ]
  },
  {
   "cell_type": "markdown",
   "id": "804e1ab0",
   "metadata": {},
   "source": [
    "### Get Title"
   ]
  },
  {
   "cell_type": "code",
   "execution_count": 35,
   "id": "a66f3899",
   "metadata": {},
   "outputs": [
    {
     "data": {
      "text/plain": [
       "'Trafﬁc performance on quasi-grid urban structures'"
      ]
     },
     "execution_count": 35,
     "metadata": {},
     "output_type": "execute_result"
    }
   ],
   "source": [
    "pdf.title()"
   ]
  },
  {
   "cell_type": "markdown",
   "id": "79b42a22",
   "metadata": {},
   "source": [
    "### Get DOI"
   ]
  },
  {
   "cell_type": "code",
   "execution_count": 36,
   "id": "d560ebe8",
   "metadata": {},
   "outputs": [
    {
     "data": {
      "text/plain": [
       "'10.1016/j.cities.2013.08.006'"
      ]
     },
     "execution_count": 36,
     "metadata": {},
     "output_type": "execute_result"
    }
   ],
   "source": [
    "pdf.doi()"
   ]
  },
  {
   "cell_type": "markdown",
   "id": "72a45de5",
   "metadata": {},
   "source": [
    "### Get Abstract"
   ]
  },
  {
   "cell_type": "code",
   "execution_count": 37,
   "id": "79f95f44",
   "metadata": {},
   "outputs": [
    {
     "data": {
      "text/plain": [
       "'Cities across the world are starting to recover space, previously devoted to cars, for other uses. The main purpose of this paper is to better understand the removal of space in urban settings and to provide some analytical results showing that it is possible to remove streets from a city without worsening trafﬁc excessively.'"
      ]
     },
     "execution_count": 37,
     "metadata": {},
     "output_type": "execute_result"
    }
   ],
   "source": [
    "pdf.abstract()"
   ]
  },
  {
   "cell_type": "markdown",
   "id": "c38c4e5f",
   "metadata": {},
   "source": [
    "### Get Journal"
   ]
  },
  {
   "cell_type": "code",
   "execution_count": 38,
   "id": "82b5d4a0",
   "metadata": {},
   "outputs": [
    {
     "data": {
      "text/plain": [
       "{'name': 'Cities 36 (2014) 18–27',\n",
       " 'year': '2014',\n",
       " 'volume': '36',\n",
       " 'page': '18-27'}"
      ]
     },
     "execution_count": 38,
     "metadata": {},
     "output_type": "execute_result"
    }
   ],
   "source": [
    "pdf.journal()"
   ]
  },
  {
   "cell_type": "markdown",
   "id": "698dbdb1",
   "metadata": {},
   "source": [
    "### Get Journal name"
   ]
  },
  {
   "cell_type": "code",
   "execution_count": 39,
   "id": "e367a992",
   "metadata": {},
   "outputs": [
    {
     "data": {
      "text/plain": [
       "'Cities 36 (2014) 18–27'"
      ]
     },
     "execution_count": 39,
     "metadata": {},
     "output_type": "execute_result"
    }
   ],
   "source": [
    "pdf.journal('name')"
   ]
  },
  {
   "cell_type": "markdown",
   "id": "ebe0bd54",
   "metadata": {},
   "source": [
    "### Get Journal Year"
   ]
  },
  {
   "cell_type": "code",
   "execution_count": 40,
   "id": "8843ea2b",
   "metadata": {},
   "outputs": [
    {
     "data": {
      "text/plain": [
       "'2014'"
      ]
     },
     "execution_count": 40,
     "metadata": {},
     "output_type": "execute_result"
    }
   ],
   "source": [
    "pdf.journal('year')"
   ]
  },
  {
   "cell_type": "markdown",
   "id": "08318496",
   "metadata": {},
   "source": [
    "### Get Journal Volume"
   ]
  },
  {
   "cell_type": "code",
   "execution_count": 41,
   "id": "a8f11940",
   "metadata": {},
   "outputs": [
    {
     "data": {
      "text/plain": [
       "'36'"
      ]
     },
     "execution_count": 41,
     "metadata": {},
     "output_type": "execute_result"
    }
   ],
   "source": [
    "pdf.journal('volume')"
   ]
  },
  {
   "cell_type": "markdown",
   "id": "70d8fdf9",
   "metadata": {},
   "source": [
    "### Get Journal Page"
   ]
  },
  {
   "cell_type": "code",
   "execution_count": 42,
   "id": "4a55d26c",
   "metadata": {},
   "outputs": [
    {
     "data": {
      "text/plain": [
       "'18-27'"
      ]
     },
     "execution_count": 42,
     "metadata": {},
     "output_type": "execute_result"
    }
   ],
   "source": [
    "pdf.journal('page')"
   ]
  },
  {
   "cell_type": "markdown",
   "id": "fd3e3289",
   "metadata": {},
   "source": [
    "### Get Plain Text"
   ]
  },
  {
   "cell_type": "code",
   "execution_count": 43,
   "id": "e8ce1538",
   "metadata": {},
   "outputs": [
    {
     "data": {
      "text/plain": [
       "'Cities 36 (2014) 18–27\\n\\nContents lists available at ScienceDirect\\n\\nCities\\n\\nj o u r n a l h o m e p a g e : w w w . e l s e v i e r . c o m / l o c a t e / c i t i e s\\n\\nTrafﬁc performance on quasi-grid urban structures\\nJavier Ortigosa a,⇑\\n\\n, Monica Menendez b\\n\\na Institute for Transport Planning and Systems, ETH Zurich, HIL F 37.3 Wolfgang-Pauli-Strasse 15, 8093 Zurich, Switzerland\\nb Institute for Transport Planning and Systems, ETH Zurich, HIL F 37.2 Wolfgang-Pauli-Strasse 15, 8093 Zurich, Switzerland\\n\\na r t i c l e\\n\\ni n f o\\n\\na b s t r a c t\\n\\nArticle history:\\nReceived 25 December 2012\\nReceived in revised form 19 August 2013\\nAccepted 30 August 2013\\nAvailable online 26 September 2013\\n\\nKeywords:\\nLink removal\\nUrban pattern\\nTrafﬁc performance\\nGrid\\n\\nCities across the world are starting to recover space, previously devoted to cars, for other uses. The main\\npurpose of this paper is to better understand the removal of space in urban settings and to provide some\\nanalytical results showing that it is possible to remove streets from a city without worsening trafﬁc\\nexcessively.\\n\\nWe have created an abstract grid network composed of 100 nodes and bidirectional streets. A simple\\ndemand model is applied to load the network effectively, emulating a dense urban environment. We have\\ndeveloped a static trafﬁc assignment model using the Frank–Wolfe algorithm. The link removal strategies\\nseek to represent city planning policies aiming at recovering space for other activities. Links are removed\\nfollowing three different strategies: in a total random manner, focusing on the center of the grid, and\\nfocusing on the perimeter of the grid. Up to 30% of the total links of the full grid are removed.\\n\\nThe results indicate that a certain number of links can be removed without affecting trafﬁc consider-\\nably. As it will be seen, this magnitude is very dependent on the link removal strategy. Our case covers\\na homogeneous grid with uniform demand where the central links carry higher ﬂow. For that, the periph-\\neral removal allows the highest rate of link removal, whereas the central removal is the most restrictive\\nstrategy. The restriction of capacity at intersections is the main bottleneck of the system when links are\\nremoved, driving most of the increase in delays. Under these conditions, the peripheral removal retains a\\nhigher connectivity in the center, allowing a better distribution of ﬂows.\\n\\n(cid:2) 2013 Elsevier Ltd. All rights reserved.\\n\\nIntroduction\\n\\nSince the 1950s, with the advent of the automobile, many cities\\nhave experienced urban changes to devote more space and infra-\\nstructure to cars. This, in turn, has modiﬁed the travel behavior\\nand the activities carried out in cities. This cycle has then become\\nunsustainable: increasing capacity for cars, increases induced de-\\nmand, and negative externalities. Fortunately, in the last decades,\\ncities are trying to revert this cycle and shift toward more sustain-\\nable urban environments. They are aiming at recovering space\\nfrom cars to ﬁnd a more balanced mode share and higher living\\nstandards.\\n\\nThe European Commission (2004) presented the positive expe-\\nrience of many European cities that have restricted car usage in\\ntheir city centers. The result is that cities not only gain in sustain-\\nability and livability, but trafﬁc is reduced overall. This phenome-\\nnon, called trafﬁc evaporation and based on empirical evidence,\\ndescribes the reduction of car usage when infrastructure capacity\\nis restricted. In the U.S., these urban planning policies are also\\n\\n⇑ Corresponding author. Tel.: +41 44 633 94 15.\\n\\nE-mail address: javier.ortigosa@ivt.baug.ethz.ch (J. Ortigosa).\\n\\n0264-2751/$ - see front matter (cid:2) 2013 Elsevier Ltd. All rights reserved.\\nhttp://dx.doi.org/10.1016/j.cities.2013.08.006\\n\\ngaining popularity after several cities have started removing\\nfreeway links (Billings, 2011).\\n\\nThe city structure (i.e., urban pattern) has a prime role in the\\nperformance of trafﬁc. In the complex environments that cities\\npresent, we believe that it is very relevant to study the effects of\\nthe urban pattern on trafﬁc, in order to design more efﬁcient struc-\\ntures, taking better advantage of the space. By the same token, this\\nwould also allow us to recover space for other activities while\\nkeeping the same level of service for cars. Unfortunately, trafﬁc\\nmodeling tools have not always been fully employed for that pur-\\npose. This paper aims at ﬁlling that gap.\\n\\nThe positive effects of space removal in cities (e.g., trafﬁc reduc-\\ntion) are typically observed in the medium-long term, due to the\\nrearrangement of trafﬁc demand. In the short term, the trafﬁc\\ntends to worsen since demand has not yet changed and the supply\\nis reduced (European Commission, 2004). However, this has not\\nbeen clearly evaluated yet. In any case, the removal of space in ur-\\nban settings requires a strong political will and involves a signiﬁ-\\ncant amount of risk. According to Cairns, Atkins, and Goodwin\\n(2002), different cases of space removal, the trafﬁc predictions\\nare often too alarmist (i.e., the trafﬁc situation predicted is much\\nworse than it really is). They presented some short term evalua-\\ntions (less than one year after) of the trafﬁc impacts of link/capac-\\nity removal. For many of the cases presented, the trafﬁc volumes in\\n\\nJ. Ortigosa, M. Menendez / Cities 36 (2014) 18–27\\n\\n19\\n\\nthe alternative routes increased after the removal, but the total\\nnumber of cars decreased. Unfortunately, it is unclear how these\\nalternative routes were chosen, and if the whole surrounding traf-\\nﬁc was included. The evaluation also lacked details on trafﬁc im-\\npacts on drivers (e.g., how much did the travel time worsen?)\\nand on the city (e.g., was there a reduction on the veh-km travelled\\nin the overall area?). Our research seeks to address that type of\\nquestions by understanding and quantifying how the removal of\\nlinks affects trafﬁc on an urban area (both drivers and the city)\\nin the short term (before demand rearranges). Moreover, it evalu-\\nates the impacts of link removal as a function of the general loca-\\ntion where it is performed.\\n\\nThe study focuses on one of the most common urban structures,\\nthe grid. It explores the behavior and the properties of trafﬁc based\\non an abstract grid and different sub-patterns created by removing\\nlinks from this initial structure. The purpose of this removal is to\\nsee how vulnerable the grid pattern is to these changes, and to\\nunderstand where the removal is more feasible (i.e., produces less\\nimpact to the system). Summarizing, the objectives of this paper\\nare the following:\\n\\n– To better understand the behavior of grid-like patterns\\nwhen dealing with trafﬁc. This could allow us to identify the\\nweaknesses and strengths of the system.\\n\\n– To evaluate the effects that the removal of links have in the\\noverall trafﬁc performance of the system. We want to see\\nhow much space (in link units) could be recovered for other\\nactivities (e.g., public transport, public spaces, pedestrian\\nstreets) while keeping acceptable trafﬁc conditions.\\n\\nTo do so, we consider a regular grid abstract street network of\\n100 intersections. Employing simple trip demand assumptions,\\nwe assign trips using a static macroscopic trafﬁc assignment which\\nmoves the system close to the user’s equilibrium (when drivers\\ncannot individually improve their situation by changing routes).\\nThe accuracy of this model has been increased with a more de-\\ntailed intersection modeling scheme. Later, we carry out the link\\nremoval and trafﬁc is assigned again. This link removal process is\\nperformed in three different ways. First, different sets of links are\\nremoved in a random manner. Second and third, the removal oper-\\nation is repeated assigning a higher weight depending on the dis-\\ntance to the center (central and peripheral removal, respectively).\\nFor each case, we have analyzed certain trafﬁc indicators in order\\nto assess the effect of the link removal on the performance of\\ntrafﬁc.\\n\\nThe paper is structured in the following way. Section ‘‘State of\\nthe art’’ presents a summary of the literature review. Sec-\\ntion ‘‘Methodology’’ describes the characteristics of the grid and\\nthe methodology employed (demand, trafﬁc assignment, link re-\\nmoval, indicators). Section ‘‘Analysis of results’’ shows and dis-\\ncusses\\nthe model. Section ‘‘Conclusions’’\\nsummarizes the main ﬁndings of this paper.\\n\\nthe outcomes of\\n\\nState of the art\\n\\nThe existing literature on the study of urban patterns is very\\nextensive and the perspectives very diverse. In this section, we\\ntry to summarize these different research views in order to justify\\nthe need for our work.\\n\\nUrban form and travel behavior\\n\\nThere is an important ﬁeld of research that studies how the ur-\\nban form (location, land use, size and shape of settlements, popu-\\nlation density, road network, and urban layout (Stead & Marshall,\\n\\n2001)) affects the travel behavior. Many of the existing research\\nworks study real cities and the relation between urban form factors\\nand travel characteristics such as mode choice, vehicle miles trav-\\nelled, or travel time (e.g., Cervero & Gorham, 1995; Crane & Cre-\\npeau, 1998; Frank & Pivo, 1994; Levinson & Kumar, 1997).\\nHowever, the connection to trafﬁc presented in these studies is still\\nweak, as they mostly cover the interaction between urban pattern\\nand demand, not trafﬁc operations.\\n\\nSpatial analysis of cities\\n\\nThe way cities are built and organized has motivated a lot of re-\\nsearch in the spatial study of urban patterns. Graph theory has\\nbeen used to ﬁnd properties of urban networks such as connectiv-\\nity (e.g., Garrison & Marble, 1961; Kansky, 1963) or centrality mea-\\nsures (e.g., Freeman, 1979; Sheikh Mohammad Zadeh & Rajabi,\\n2013). Other studies have focused in comparing urban networks\\nwith other network types and recognizing common patterns using\\ngraph theory (e.g., Chan, Donner, & Lämmer, 2011; Jiang, 2007;\\nJiang & Claramunt, 2004; Lämmer, Gehlsen, & Helbing, 2006).\\nUrban planners and designers have also proposed design\\nguidelines based on the spatial analysis of cities (see Marshall,\\n2004), e.g., following shape grammar rules (e.g., Alexander et al.,\\n1977; Vitins, Garcia-Dorado, Vanegas, Aliaga, & Axhausen, 2013).\\nAmong the spatial analysis studies, only some works take into\\naccount trafﬁc modeling, either implementing some trafﬁc assign-\\nment (e.g., Scott, Novak, Aultman-Hall, & Guo, 2006; Sheikh\\nMohammad Zadeh & Rajabi, 2013; Vitins et al., 2013; Xie & Levin-\\nson, 2009) or collecting real trafﬁc data (e.g., Hackney, Bernard,\\nBindra, & Axhausen, 2007; Parthasarathi, 2011).\\n\\nReliability and resilience of transport networks\\n\\nNetworks are composed of many elements, and often, it is hard\\nto evaluate how they individually affect the performance of the\\nwhole system. Much research has been devoted to analyze the im-\\npacts of the failure of one or several elements in a network. The\\nstudies of network reliability started with computer and biological\\nnetworks (Von Neumann, 1956). Concepts were later extended to\\ntransportation networks in order to evaluate the potential impact\\nof different types of disruption (e.g., construction works, conges-\\ntion, accidents) and to better plan evacuations and the response\\nto other critical situations, e.g., natural disasters (e.g., Bell, 2000;\\nErath, Birdsall, Axhausen, & Hajdin, 2009; Jenelius, 2009; Jenelius,\\nPetersen, & Mattsson, 2006; Knoop, van Zuylen, & Hoogendoorn,\\n2008; Qiang & Nagurney, 2008; Sakakibara, Kajitani, & Okada,\\n2004; Tampere, Stada, Immers, Peetermans, & Organe, 2007). The\\nbasic reliability indicators are borrowed from graph theory and\\nanalyze the connectivity of the network (Aymerich & Robuste,\\n1990; Du & Nicholson, 1997). The idea is, typically, to elaborate\\nsome topological indexes to identify the most vulnerable links in\\nthe networks, or as Scott et al. (2006) do, the links that have the\\ngreatest impact on travel times. There are some studies that partic-\\nularly focus on how the demand rearranges in the network once an\\nelement fails (Parthasarathi, Levinson, & Karamalaputi, 2003; Xie &\\nLevinson, 2011; Zhu, Levinson, Liu, & Harder, 2010).\\n\\nNotice that some of these papers, although highly related to our\\ntopic, still lack elements regarding the spatial organization of traf-\\nﬁc (characteristics of the streets and intersections). Moreover, in\\nour research, we consider the impact of removing several links\\nand not only the impact of speciﬁc links. The reason for that is\\nthe belief that urban strategies are typically not focused on a par-\\nticular link but are conceived in a more general way (removing\\nmore links). Also, from a mathematical point of view, ﬁnding a crit-\\nical combination of links might be unfeasible. If we remove the\\ncritical link each time in a consecutive manner, the resulting\\n\\n20\\n\\nJ. Ortigosa, M. Menendez / Cities 36 (2014) 18–27\\n\\ncombination is not necessarily the most critical one (i.e., removing\\nother links which individually are not that critical can be worse for\\nthe system). The problem then becomes a combinatorial search\\nthat can be very costly and does not necessarily represent an urban\\npolicy.\\n\\nFig. 1c and d) or in some particular cases, cars that want to turn\\nright (3 leg intersections, Fig. 1d). In any case, if the links have a\\nwidth of two lanes, when approaching the intersection, the width\\nwill be of 3 lanes to allow the different turning maneuvers.\\n\\nTrafﬁc analysis in networks\\n\\nTrafﬁc modeling techniques have been widely researched; how-\\never, applications for achieving more efﬁcient networks are not\\nthat extensive. One particular research ﬁeld very linked to our\\npresent research is the analysis of one-way versus two-way street\\nnetworks (e.g., Gayah & Daganzo, 2012; Walker, Kulash, &\\nMcHugh, 2000). These studies try to ﬁnd more efﬁcient network\\nconﬁgurations (given the current pattern) for better trafﬁc. Gayah\\nand Daganzo (2012) calculated the maximum capacity of intersec-\\ntions depending on the network conﬁguration, considering the\\ntrade-off between the ﬂexibility in routes (more movements al-\\nlowed) and the intersection capacity. Their analytical formulations\\nwere simple and insightful, but only valid under idealized\\nconditions.\\n\\nAnother approach for the improvement of trafﬁc in urban net-\\nworks is safety (e.g., Marshall & Garrick, 2010). Urban networks\\nhave many conﬂicting points, especially in intersections. Eichler,\\nBar-Gera, and Blachman (2012) created a network with low con-\\nﬂict intersections. This innovative design can obviously improve\\nsafety but as well reduce delays at intersections making trafﬁc\\nmore ﬂuid. Our research can beneﬁt from the ﬁndings in this ﬁeld.\\n\\nMethodology\\n\\nNetwork design\\n\\nThe abstract network used in this paper is a grid, representing a\\ndense city environment. Our analysis starts with a regular grid\\n(square blocks) where every node has four street connections\\nand represents a four-way signalized intersection (except in the\\nperimeter). Every link represents a two-way street with saturation\\nﬂow of 1800 veh/h for each direction, and they are all 111 m long.\\nThe total area of analysis considered is 1 km2 (100 nodes, Fig. 1a).\\nThe idea is to emulate reality (in this case a dense urban network)\\nas accurately as possible but without the loss of generalization.\\n\\nThe intersections play a determinant role in the trafﬁc assign-\\nment model, and speciﬁc links have to be created to represent their\\ndelay (Fig. 1b). Although streets only have one lane per direction, in\\nintersections, for every incoming direction an extra lane is added to\\nseparate cars that want to turn left (4 leg and 3 leg intersections,\\n\\nDemand on the network\\n\\nIn order to load the grid with trafﬁc ﬂows, we need to assume a\\ndemand model (trip generation and distribution). For the sake of\\nsimplicity, we consider a uniform demand model where every\\nnode exchanges the same amount of trips with all the other nodes.\\nThe number of trips between nodes i and j, Tij, is:\\n\\nT ij ¼ s; if i–j or T ij ¼ 0; if i ¼ j\\n\\nð1Þ\\n\\nDifferent levels of s (the number of trips exchanged between\\ntwo nodes) provide different levels of demand in the network. A\\nrough estimation with macroscopic data, population and trafﬁc\\ndistribution assumptions from (Barcelona, 2010), yields an average\\nof 10,000 trips/h-km2 in the central and grid-like neighborhood of\\nBarcelona, Eixample. That magnitude would account for a value of\\ns = 1.12 trips (11,088 trips in the 1 km2 grid). As we will see,\\nalthough this value does not overload the system when the grid\\nis complete, as soon as links are removed, some intersections start\\nto show really high volume to capacity ratios. Notice that the\\nstreets of Eixample have higher capacity than those in our grid.\\n\\nTrafﬁc assignment model\\n\\nThe trafﬁc assignment model allocates ﬂows according to the\\nuser’s equilibrium (Wardrop, 1952). The model we employ follows\\nthe approach used by LeBlanc, Morlok, and Pierskalla (1975)\\nwith the Frank-Wolfe (FW) algorithm (Frank & Wolfe, 1956). It is\\nan iterative process where in every iteration the solution is im-\\nproved. This algorithm presents many advantages (e.g., small stor-\\nage requirements), but it also has some drawbacks (e.g., slow\\nconvergence, tailing). Nowadays, there are more accurate trafﬁc\\nassignment methods (Bar-Gera, 2010; Dial, 2006); however, we\\nuse the FW algorithm here since, for our purposes, it presents rea-\\nsonable levels of accuracy and relatively short computational times\\n(given the amount of nodes and links in our networks).\\n\\nTo overcome the asymmetry of the problem, while keeping the\\nsimplicity of our trafﬁc assignment technique, we have created 16\\ndummy links to represent intersection movements. These links\\nhave a ﬁctitious capacity and distance; 8 of them have a zero cost\\nand 8 have a non-zero cost. Delay at intersections is emulated\\nusing a travel time function as in the other links. There are as well\\n8 dummy links with zero cost that are used for sending and\\n\\nFig. 1. The network model.\\n\\nJ. Ortigosa, M. Menendez / Cities 36 (2014) 18–27\\n\\n21\\n\\nreceiving the trips to and from the network (Fig. 1b). Similar\\nsolutions are suggested in (e.g., Branston, 1976; Koutsopoulos &\\nHabbal, 1994).\\n\\nTravel time function on links\\n\\nThe travel time function provides the total travel time given the\\nvolume in the link and its capacity (for a theoretical background\\nsee Koutsopoulos & Habbal, 1994). Here, we use the BPR function\\n(Bureau of Public Roads, 1964) that is widely employed across\\nthe world:\\n\\nTT ij ¼ TT 0\\n\\n(cid:2)\\nij 1 þ aðV ij=CijÞb\\n\\n(cid:3)\\n\\nð2Þ\\n\\nwhere TTij is the travel time on the link ij, TT 0\\nij is the free ﬂow travel\\ntime on that link, Vij is the volume in the link, Cij is the capacity, and\\na and b are parameters that come from experimental observations.\\nWe will employ the original parameters of the BPR function:\\na = 0.15 and b = 4.\\n\\nDelay at intersections\\n\\nWe use a delay formulation for the ﬁctitious links (see Fig. 1b)\\nto overcome the asymmetry of the problem (so delays on links de-\\npend uniquely on the ﬂows on them). This approach emulates the\\ndelay at signalized intersections. Unfortunately, most of the travel\\ntime functions for intersections, e.g., HCM-2010 (Highway Capacity\\nManual, 2010), do not fulﬁll the requirements to be applied in the\\ntrafﬁc assignment model (they are not differentiable). To solve\\nthat, we have adjusted to the HCM-2010 formulation a 3 piece-\\nwise function that is continuous and differentiable. The ﬁrst and\\nlast parts are linear, and the intermediate one is a 3rd degree poly-\\nnomial function.\\n\\nFor each 4 leg intersection (without link removal), we have\\nconsidered 17 s of effective green for the straight and right turn\\nmovements, and 8 s for the left turn movement, out of a total\\ncycle of 60 s including 10 s of lost time. Considering a saturation\\nﬂow of 1800 veh/h, the total capacity for the straight and right\\nturn movements combined is 510 veh/h, and for the left turn\\nmovement 240 veh/h. Since the straight and right turn move-\\nments share the capacity, the delay is allocated jointly. This is\\nthe function of the dummy link situated before the straight\\nand right movements. When a link is removed, the intersection\\nbecomes a 3 leg node. In that setting, we consider three phases\\nof 15 s each and a total of 15 s lost time. All the movements\\nhave equal capacity of 450 veh/h. Notice that the lost time is\\nlarger than for 4 leg nodes. Although not very realistic, this is\\na consequence of averaging capacities given the large number\\nof possible combinations in 3 leg nodes. The analysis time for\\ncalculating the delay with the HCM-2010 expression is 1 h, and\\nthe incremental delay factor (k) (see HCM-2010 formulation)\\nis 0.5.\\n\\nValidation, convergence, and stability of the algorithm\\n\\nTo validate our algorithm, the known problem of Sioux Falls\\nwas employed. There are 24 zones, 24 nodes, and 76 links. Travel\\ntime in links is estimated with Eq. (2) (a = 0.15 and b = 4). In\\n(Bar-Gera, 2001), both the input data and the best known solution\\nare provided. For that problem, our algorithm achieves a relative\\ngap in travel times of 1E-4 in 1.3 h. Our grid has 100 origin/desti-\\nnation nodes, and the design of the more complex intersections\\ncreates a network of 1300 nodes and 2404 links. In addition, for\\nevery removal strategy, we perform 1080 different trafﬁc assign-\\nments, 60 repetitions every time we remove 3 links (see Section 4).\\n\\nAchieving the same level of accuracy as in the validation problem\\nbecomes unfeasible.\\n\\nHence, we have relaxed our convergence criterion by employing\\nthe relative variation of ﬂows between two consecutive iterations.\\nTo do that, we add the difference in ﬂows (in absolute values) from\\nall the links between two consecutive iterations and divide it by\\nthe total amount of ﬂows in the previous iteration. When this value\\nis smaller than 1%, we stop the trafﬁc assignment. That usually\\nhappens after approximately 30–60 iterations. Although this num-\\nber of iterations might seem very low, for our purposes the ob-\\ntained level of accuracy is reasonable. We demonstrate so by\\ncomparing the outputs of a trafﬁc assignment performed in the full\\ngrid problem with 50 and 10,000 iterations. As a matter of exam-\\nple, the relative error of the total travel time between the two cases\\nis 0.2%. These differences do not affect our more general and mac-\\nroscopic analysis, and this convergence criterion saves consider-\\nable computational efforts. However, it is true that very similar\\nsolutions in total travel time might still provide signiﬁcant differ-\\nences on particular indicators related to the ﬂow distribution\\n(e.g., maximum volume to capacity ratios) when having stricter\\nconvergence criterion or employing more efﬁcient methods (as\\nthose in e.g., Bar-Gera, Nie, Boyce, Hu, & Liu, 2010). Nonetheless,\\nwe believe that averaging 60 cases can smooth these inconsisten-\\ncies and provide the general trend we are pursuing with this\\nresearch.\\n\\nWe have detected some cases, for smaller networks and lower\\ndemands, where our trafﬁc assignment was unstable (in certain\\niterations, the trafﬁc assignment did not ﬁnd a feasible step\\nlength). This might be caused by the fact that straight and right\\ndummy links at intersections have a ﬁxed cost. Notice, however,\\nthat these instabilities have not been detected in any of the exper-\\niments here presented. Moreover, we believe that the possible\\nerrors created by such instabilities are negligible given the\\nmacroscopic nature of our algorithm.\\n\\nLink removal\\n\\nThe idea is to remove links from the grid following an iterative\\nprocess. For a valid removal, all nodes must remain connected.\\nThree strategies are used. With the ﬁrst strategy, every combina-\\ntion of links removed is selected randomly. With the second and\\nthird strategy, we implement a random process inﬂuenced by the\\ndistance to the geometric center of the square that the grid occu-\\npies. For every link, the Euclidian distance from its middle point\\nto the center is calculated. We use the Euclidian distance instead\\nof the shortest path in the graph because the earlier one does not\\ndepend on the link removal process or other properties of the grid\\n(e.g., scale of the blocks) and yet provides a good measure of geo-\\nmetrical centrality. With the central removal strategy, links are\\nmore likely to be removed in the center, whereas with the periph-\\neral removal strategy, links are more likely to be removed in the\\nperimeter of the grid.\\n\\nAs soon as we remove links, the intersections might change.\\nMany 4 leg intersections (12 possible movements) become 3 leg\\nintersections (6 possible movements); and in the case of only\\ntwo links meeting on a node, since there are not any conﬂicting\\nmovements, full capacity is assigned to the two possible directions.\\n\\nTrafﬁc indicators\\n\\nSince the trafﬁc assignment model is static, not all of the trafﬁc\\nindicators can be extracted. The analysis possibilities are limited,\\nas the time dimension and the spatial spread of queues are not\\nconsidered (a dynamic trafﬁc assignment method is needed for\\nthat). The indicators employed to represent the trafﬁc and travel\\nbehavior in this paper are the following:\\n\\n22\\n\\nJ. Ortigosa, M. Menendez / Cities 36 (2014) 18–27\\n\\n– Total travel time: the main indicator of the cost for the system.\\n– Total distance travelled: an indicator on the sustainability of\\nthe network (i.e., how efﬁciently the system is able to connect\\nthe demand nodes).\\n\\n– Average speed: an indicator of the level of congestion in the\\n\\nnetwork.\\n\\n– Volume to capacity ratio (V/C): same as the speed, a proxy for\\ncongestion. In addition, an indicator of the level of demand (and\\nimportance) of an speciﬁc link or node within the network. The\\naverage and maximum V/C ratios across the network will be\\ncalculated.\\n\\n– Delay at intersections: a quantiﬁcation, in travel time terms, of\\n\\nthe impact of intersections.\\n\\n– Maneuvers at intersections: an indicator of how the intersec-\\ntions are used. The percentage of right turn, left turn, and\\nstraight movements are studied.\\n\\nAnalysis of results\\n\\nMethodology of the experiments\\n\\nThis section presents the results obtained after running our traf-\\nﬁc assignment model. Starting from the full grid network (Fig. 2a),\\nwe follow an iterative process removing 3 links on every iteration\\nuntil 30% of the links are removed. Since the process is random, dif-\\nferent network structures are obtained every time. For that reason,\\nwe repeat this process 60 times (obtaining 60 network cases at\\nevery iteration). The same procedure is repeated for all the removal\\nstrategies: random (Fig. 2b), central (Fig. 2c), and peripheral\\n(Fig. 2d). The demand employed (s = 1.12) corresponds to a magni-\\ntude of 11,088 trips/h-km2 (see Section \"Methodology\").\\n\\nTravel time\\n\\nFig. 3 depicts the evolution of the total travel time (in indexed\\nvalues) when we remove links following the different strategies.\\nFig. 3a–c show the results for the individual strategies when up\\nto 20% of the links are removed. Fig. 3d presents the whole trend\\n(only with the average values) for all 3 strategies.\\n\\nWe observe that the total travel time increases drastically when\\n30% of the links are removed. There are many measures of central-\\nity in a network, e.g., betweenness (Freeman, 1979; Sheikh\\nMohammad Zadeh & Rajabi, 2013). But for simplicity, let us look\\nat the ﬂow that a link carries. We could say that the higher the ﬂow\\nis, the more routes that pass through that link and hence the more\\nrelevance that this link has within the system. Given the character-\\nistics of our network, central links concentrate more ﬂow because\\nthe network is homogeneous and demand uniform (Fig. 2a). Notice\\nthat in more heterogeneous networks (e.g., with different street\\n\\nhierarchies), these conditions might not hold. As depicted in\\nFig. 2, the effect of link removal is signiﬁcantly worse for central re-\\nmoval (Fig. 3b) than for peripheral removal (Fig. 3c). Logically, ran-\\ndom removal values are between these two strategies (Fig. 3a) and\\nthe results present more variability (i.e., more differences in values\\nfor a given removal percentage).\\n\\nEvidently, especially for the random removal, tak as a reference,\\nthe average value does not guarantee that certain removal conﬁg-\\nurations do not make the system worse.\\n\\nDistance travelled and speed\\n\\nA complete grid structure (every node has 4 connections) allows\\nto take many different routes with the same length. When certain\\nroutes are more congested, cars can take faster alternatives with-\\nout being penalized with additional travel distance. However, the\\nlink removal not only makes certain routes more congested, but\\nit also reduces connectivity and then the availability of alternative\\nroutes. Fig. 4a depicts a similar relationship as in Fig. 3d for the dif-\\nferent removal strategies, but as a function of total distance trav-\\nelled. The less harmful strategy is the peripheral removal,\\nwhereas the central removal increases distance considerably. Since\\nwith this strategy the center loses connectivity but not the perim-\\neter, trips must take the surrounding roads to reach the central\\nnodes. This triggers the rapid increase in total distance travelled.\\nHowever, it can be observed how the distance reaches a point\\n(around 1.8) where it does not increase anymore. As mentioned\\nearlier, the total distance travelled cannot increase indeﬁnitely be-\\ncause the space is limited. Moreover, when links from the outskirts\\nstart to be removed, vehicles cannot take longer (but faster) routes\\nanymore. Recall that certain level of connectivity must be pre-\\nserved as all nodes remain always connected.\\n\\nThe average speed calculated here is the relationship between\\nthe total travel time and the total distance travelled. The starting\\naverage speed is approximately 16 km/h. As Fig. 4b shows, during\\nthe ﬁrst stages of link removal, this speed is maintained (except for\\nthe central removal where the value drops quickly from the begin-\\nning). After 15% of links are removed, the system worsens rapidly\\nand the averages drop to values close to 4 km/h. Although that\\ncan seem unrealistic, some empirical works (Menendez & Ge,\\n2012) have shown that speeds on cities can be very low in peak\\nhours (e.g., 4.5 km/h for certain routes in Zurich, Switzerland).\\n\\nIntersections\\n\\nIntersections are the bottleneck of the system triggering most\\nof the increases in travel time. In the full grid, time spent on an\\nintersection accounts for approximately 70% of the total travel\\ntime. However, when 30% of the links are removed, intersections\\n\\nFig. 2. Example of ﬂow distribution in different network conﬁgurations (thicker lines mean higher ﬂows): (a) full grid, (b) 30% random removal, (c) 30% central removal, and\\n(d) 30% peripheral removal.\\n\\nJ. Ortigosa, M. Menendez / Cities 36 (2014) 18–27\\n\\n23\\n\\nFig. 4. Average values of: (a) indexed distance travelled, (b) average speed, for the\\nthree removal strategies.\\n\\nloaded (e.g., a network divided into two parts only connected\\nby one link), on average the central removal still performs the\\nworst. The delay at intersections is related to the load on the\\nintersections (Fig. 5b). The maximum values of the V/C ratio at\\nintersections follow the same evolution as the other indicators:\\nremoval presents the worst values and peripheral\\ncentral\\nremoval the best ones. Moreover, although not shown here for\\nthe sake of space, the difference between average and maximum\\nV/C ratios increases as a function of the removal rate. This is not\\nsurprising as the system is used less homogeneously when we\\nremove links.\\n\\nWe have looked as well at the number of maneuvers at the\\nintersections (Fig. 6). Not surprisingly, for central removal, not only\\nthe delay on intersections is bigger, but the number of movements\\non intersections is almost twice as that from the peripheral re-\\nmoval. This makes sense as routes are longer now, and cars must\\nnavigate through more intersections on every trip. Fig. 6d shows\\nhow many movements (on average) were performed on each inter-\\nsection. The peripheral removal, which has the best results for each\\nindicator, presents a signiﬁcantly higher share of ﬂows in 4 leg\\nintersections in comparison with the other strategies. Retaining\\nthe largest number of 4 leg intersections (keeping the central area\\nfairly well connected) allows the system to better absorb the link\\nremoval and to reroute trips homogeneously on the grid (Fig. 2).\\nIn other words, the high connectivity in the center offers shorter\\nroutes (less overall ﬂows), but most importantly offers more alter-\\nnatives to allocate ﬂows. This property of the full grid that the\\nperipheral removal is able to keep better than the other strategies\\nis the key to not having excessive loads at intersections and limit-\\ning the increase in total travel time.\\n\\nWhen links are removed, the number of alternatives for any\\ngiven route decreases. This creates very loaded paths that impact\\n\\nFig. 3. Total travel time indexed for: (a) random, (b) central, (c) peripheral\\nremovals, and (d) all the strategies (average values).\\n\\naccount for approximately 84% of the total travel time for periph-\\neral removal and 97% for central removal (Fig. 5a). Although with\\nthe random removal strategy, some conﬁgurations are very\\n\\n24\\n\\nJ. Ortigosa, M. Menendez / Cities 36 (2014) 18–27\\n\\nFig. 5. Average values of: (a) percentage of total travel time spent on intersections,\\nand (b) maximum V/C ratios on intersections, for the three removal strategies.\\n\\ngreatly some intersections. On the other hand, when links are\\nremoved, a higher capacity is given to the intersections involved\\nin the removal because conﬂicting movements on them is re-\\nduced. Fig. 7 shows the difference in total travel time between\\nthe link removal process carried out in this paper (Fig. 3) and a\\nlink removal process without giving more capacity to the\\nintersections (i.e., each movement on each intersection has the\\nsame capacity as in the initial grid independently of the links re-\\nmoved). It can be observed how for low removal rates, giving\\nmore capacity to intersections creates some cases where the total\\ntravel time is inferior to the full grid case (Fig. 7a). In those cases,\\nthe removal of links makes the system better in terms of travel\\ntimes due solely to the gain in capacity at the intersections.\\nPeripheral removal presents more cases of lower total travel time\\nfor low removal rates, as it can be observed in Fig. 3c. We also see\\nhow for low link removal rates, the difference between the two\\ncurves is small in comparison with high removal rates, where\\nthe extra intersection capacity represents signiﬁcant savings in\\ntotal travel time (Fig. 7b). This makes sense, as the main cause\\nof increase in travel times is the extreme load that some intersec-\\ntions must cope with. If we restrict the extra capacity gained at\\nintersections due to link removal, the V/C ratio becomes even big-\\nger and generates even more delay. The gains in travel time are\\nseen better\\nin congested cases (e.g., high removal cases).\\nHowever, this gain is somehow ﬁctitious because removing links\\nintersections, only\\nwith the purpose of gaining capacity at\\nimproves the system in the ﬁrst stages and only for some cases\\n(Fig. 7a). After that, with more link removal, the system will\\nalways get worse.\\n\\nFig. 6. Number and type of maneuvers at intersections (average values) for: (a)\\nrandom removal, (b) central removal, and (c) peripheral removal, and (d)\\npercentage of movements taking place at 4 leg intersections.\\n\\nJ. Ortigosa, M. Menendez / Cities 36 (2014) 18–27\\n\\n25\\n\\n(e.g., s = 2.12 trips) where small amounts of removal could create\\nsigniﬁcant increases in travel time.\\n\\nConclusions\\n\\nCities across the world are starting to recover space, previously\\ndevoted to cars, for other uses. This initiative, however, often\\nbrings a lot of controversy because, in the short term, without rear-\\nrangement of demand, the removal of space most likely will make\\nthe trafﬁc situation worse. That fear often hinders urban policies\\nthat aim at space recovery. The goals of this paper are precisely\\nto better understand the removal of space in urban settings, and\\nto evaluate how this removal affects drivers and the overall\\nsystem. For that purpose, we have studied an abstract grid network\\nthat represents an urban environment where we have removed\\nlinks in three different ways: randomly, focusing on the center\\nof the grid, and focusing on the perimeter. We have analyzed\\n60 removal sequences for each strategy, from the full grid to 30%\\nof the links removed. In each iteration, we remove 3 links and\\nwe assign trafﬁc following a static macroscopic scheme based\\non the FW algorithm, so the system tends toward the user’s\\nequilibrium.\\n\\nThe results of this paper help us understand how grid urban\\nsystems behave. In our case, where all streets have the same char-\\nacteristics and demand is uniform, central streets concentrate\\nmore ﬂow. Notice that despite the fact that our analysis focuses\\non a very particular case, we believe that the behavior can be\\nextrapolated to other networks. That being said, caution must be\\nexercised with any generalization, as in very heterogeneous net-\\nworks these ﬁndings might not hold.\\n\\nSummarizing, in light of the results obtained, we can say that:\\n\\n– The full grid is a robust trafﬁc system that allows a certain\\ndegree of link removal without affecting trafﬁc conditions con-\\nsiderably. It is possible for a high connected city with an urban\\nstructure similar to a grid pattern, to recover space from cars\\nwithout penalizing drivers signiﬁcantly.\\n\\n– The link removal strategy clearly inﬂuences the number of\\nlinks that can be removed. In our case, the peripheral removal\\nprovides the best results and the central removal the worst\\nones.\\n\\n– The intersections are the critical points in our network. Oversat-\\nurated intersections create delays that affect signiﬁcantly the\\nwhole system. In addition, since the signal control is ﬁxed, there\\nis more capacity that is wasted because although some move-\\nments might be very loaded, others might not.\\n\\n– The availability of many different routes is the key to achieve\\nmore homogeneous ﬂow distributions and hence, not extreme\\ntrafﬁc loads in particular intersections. The high connectivity\\nin the center of the grid is what guarantees the redundancy of\\nroutes making the network more efﬁcient and resilient. It also\\noffers shorter routes to drivers. This leads to less overall dis-\\ntance travelled, which in turn, is directly related to the total\\nﬂows in the network.\\n\\n– The gain in capacity at intersections by limiting movements\\nwhen links are removed reduces the overall travel time only\\nfor certain cases at low removal rates (this is more likely to hap-\\npen for peripheral removal). However, removing links might\\nalso create less connected intersections. That limits the spread\\nof trafﬁc and the availability of routes, worsening the system.\\nThis is the case of the central removal.\\n\\nThese conclusions do not necessarily advocate for prohibiting re-\\nmoval in the center, which might also be the most important place to\\nactually recover space for other activities. In fact, the same argument\\nof the central connectivity could be employed to increase the\\n\\nFig. 7. Total travel times for random removal to evaluate the effects of the gain in\\ncapacity at intersections: (a) 0–10% link removal, and (b) 0–30% link removal.\\n\\nFig. 8. Total travel time for different demand loads (s = 1.12; 1.62; and 2.12).\\n\\nDemand\\n\\nThe results presented above are restricted to this particular\\nmodel and to the demand pattern and values considered. Our de-\\nmand model is uniform, as explained earlier. The number of trips\\ninterchanged between nodes (in our case s = 1.12 trips) determines\\nthe demand load (11,088 trips in the 1 km2 grid). We considered\\nthat this number of trips loads the system effectively and repre-\\nsents a dense urban setting. However, for the sake of completeness,\\nwe ran our model considering higher demand loads (s = 1.62 trips\\nproducing 15,878 trips in total; and s = 2.12 trips producing 20,778\\ntrips in total). The overall patterns remain the same, and the rest of\\nthe ﬁndings still hold, although evidently, the more loaded the sys-\\ntem is, the less capacity it has to absorb the effects of the link re-\\nmoval (see Fig. 8) This is especially relevant for high demands\\n\\n26\\n\\nJ. Ortigosa, M. Menendez / Cities 36 (2014) 18–27\\n\\npresence of public transport lines. Although central removal is the\\nmost restrictive strategy, the system allows certain degree of removal\\nwithout signiﬁcantly increasing total travel time. On the other hand,\\nperipheral removal is the least restrictive strategy. The random\\nremoval lies in between the two extreme strategies and could\\nemulate an urban planning policy as a combination of central and\\nperipheral strategies. One interesting exercise would be to reproduce\\ndifferent removal patterns representing real world experiences and\\nsee under in which type of category they fall.\\n\\nThe present research can be extended in many different direc-\\ntions. We have chosen three main areas to focus on the future.\\nWe believe it is worth to investigate other strategies to remove\\ncapacity from the network (e.g., removing lanes, removing full cor-\\nridors). Similarly, there might be beneﬁts from exploring other net-\\nwork conﬁgurations that provide a different trade-off between\\nﬂexibility in routes and capacity at intersections (e.g., unidirec-\\ntional streets).\\n\\nThe static trafﬁc assignment model is a compromise between\\nthe accuracy and the complexity of the algorithm. However, it does\\nnot explain how the congestion spreads spatially and how the de-\\nmand rearranges in response to the new conditions. In the future,\\nemploying a dynamic trafﬁc assignment model could be conve-\\nnient to evaluate these effects.\\n\\nFinally, all the experiments were carried out considering a uni-\\nform demand. Keeping the simplicity on demand assumptions, in\\nthe future we could ﬁnd different variations both spatially and\\ntemporally that allow us to see the behavior of the grid pattern un-\\nder other conditions. In addition to this, being able to represent the\\ndemand rearrangement phenomenon is a challenging task for the\\nfuture research.\\n\\nReferences\\n\\nAlexander, C., Ishikawa, S., Silverstein, M., Jakobson, M., Fiksdahl-King, I., & Angel, S.\\n(1977). A pattern language: Towns, buildings, constructions. Oxford University\\nPress.\\n\\nAymerich, O., & Robuste, F. (1990). Fiabilidad de redes de transporte bajo\\ncondiciones excepcionales. Revista del Ministerio de Transportes, Turismo y\\nComunicaciones, 42, 25–37.\\n\\nportal/site/Mobilitat>.\\n\\n~bargera/tntp/>.\\n\\nBar-Gera, H. (2001). Transportation network test problems. <http://www.bgu.ac.il/\\n\\nBar-Gera, H.\\n\\n(2010). Trafﬁc assignment by paired alternative segments.\\n\\nTransportation Research Part B: Methodological, 44(8), 1022–1046.\\n\\nBar-Gera, H., Nie, Y., Boyce, D., Hu, Y., & Liu, Y. (2010). Consistent route ﬂows and the\\nIn Transportation research board 89th annual\\n\\ncondition of proportionality.\\nmeeting (pp. 10–1526).\\n\\nBell, M. G. (2000). A game theory approach to measuring the performance reliability\\nof transport networks. Transportation Research Part B: Methodological, 34(6),\\n533–545.\\n\\nBillings, J. (2011). The impacts of road capacity removal. Master’s thesis, University of\\n\\nBranston, D. (1976). Link capacity functions: A review. Transportation Research,\\n\\nConnecticut.\\n\\n10(4), 223–236.\\n\\nBureau of Public Roads (1964). Trafﬁc assignment manual. Washington DC: US\\n\\nDepartment of Commerce, Urban Planning Division.\\n\\nCairns, S., Atkins, S., & Goodwin, P. (2002). Disappearing trafﬁc? The story so far.\\nProceedings of the Institution of Civil Engineers Municipal Engineer, 151(1), 13–22.\\nCervero, R., & Gorham, R. (1995). Commuting in transit versus automobile\\nneighborhoods. Journal of the American planning Association, 61(2), 210–225.\\nChan, S., Donner, R., & Lämmer, S. (2011). Urban road networks spatial networks\\nwith universal geometric features? The European Physical Journal B – Condensed\\nMatter and Complex Systems, 84(4), 563–577.\\n\\nCrane, R., & Crepeau, R. (1998). Does neighborhood design inﬂuence travel? A\\nbehavioral analysis of travel diary and GIS data. Transportation Research Part D:\\nTransport and Environment, 3(4), 225–238.\\n\\nDial, R. (2006). A path-based user-equilibrium trafﬁc assignment algorithm that\\nobviates path storage and enumeration. Transportation Research Part B:\\nMethodological, 40(10), 917–936.\\n\\nDu, Z. P., & Nicholson, A. (1997). Degradable transportation systems: Sensitivity and\\nreliability analysis. Transportation Research Part B: Methodological, 31(3),\\n225–237.\\n\\nEichler, D., Bar-Gera, H., & Blachman, M. (2012). Vortex-based zero-conﬂict design\\n\\nErath, A., Birdsall, J., Axhausen, K. W., & Hajdin, R. (2009). Vulnerability assessment\\nmethodology for Swiss road network. Transportation Research Record: Journal of\\nthe Transportation Research Board, 2137, 118–126.\\n\\nEuropean Commission (2004). Reclaiming city streets for people: Chaos or quality of\\n\\nlife? Directorate-General for the Environment.\\n\\nFrank, L., & Pivo, G. (1994). Impacts of mixed use and density on utilization of\\nthree modes of\\ntransit, and walking.\\ntravel: Single-occupant vehicle,\\nTransportation Research Record: Journal of the Transportation Research Board,\\n1466, 44–52.\\n\\nFrank, M., & Wolfe, P. (1956). An algorithm for quadratic programming. Naval\\n\\nResearch Logistics Quarterly, 3(1–2), 95–110.\\n\\nFreeman, L. (1979). Centrality in social networks conceptual clariﬁcation. Social\\n\\nNetworks, 1(3), 215–239.\\n\\nGarrison, W. L., & Marble, D. F. (1961). The structure of transportation networks. Draft\\nof a report submitted October 31, 1961 to US Army Transportation Research\\nCommand, Fort Eustis, Virginia, by the Transportation Center at Northwestern\\nUniversity under contract DA-44-177-TC-685. Transportation geography study.\\nEvanston, IL: Transportation Center at Northwestern University.\\n\\nGayah, V., & Daganzo, C. (2012). Analytical capacity comparison of one-way and\\ntwo-way signalized street networks. Transportation Research Record: Journal of\\nthe Transportation Research Board, 2301, 76–85.\\n\\nHackney, J., Bernard, M., Bindra, S., & Axhausen, K. (2007). Predicting road system\\nspeeds using spatial structure variables and network characteristics. Journal of\\nGeographical Systems, 9(4), 397–417.\\n\\nHighway Capacity Manual (2010). Transportation Research Board (5th ed.).\\nJenelius, E.\\n\\n(2009). Network structure and travel patterns: Explaining the\\ngeographical disparities of road network vulnerability. Journal of Transport\\nGeography, 17(3), 234–244.\\n\\nJenelius, E., Petersen, T., & Mattsson, L. (2006). Importance and exposure in road\\nnetwork vulnerability analysis. Transportation Research Part A: Policy and\\nPractice, 40(7), 537–560.\\n\\nJiang, B. (2007). A topological pattern of urban street networks: Universality and\\npeculiarity. Physica A: Statistical Mechanics and its Applications, 384(2), 647–655.\\nJiang, B., & Claramunt, C. (2004). Topological analysis of urban street networks.\\n\\nEnvironment and Planning B, 31(1), 151–162.\\n\\nKansky, K. (1963). Structure of transportation networks: Relationships between\\nnetwork geometry and regional characteristics. PhD thesis, University of Chicago.\\nKnoop, V., van Zuylen, H., & Hoogendoorn, S. (2008). The inﬂuence of spillback\\nmodeling when assessing consequences of blockings in a road network. EJTIR,\\n4(8), 287–300.\\n\\nKoutsopoulos, H., & Habbal, M. (1994). Effect of intersection delay modeling on the\\nperformance of trafﬁc equilibrium models. Transportation Research Part A: Policy\\nand Practice, 28(2), 133–149.\\n\\nLämmer, S., Gehlsen, B., & Helbing, D. (2006). Scaling laws in the spatial structure of\\nurban road networks. Physica A: Statistical Mechanics and its Applications, 363(1),\\n89–95.\\n\\nLeBlanc, L., Morlok, E., & Pierskalla, W. (1975). An efﬁcient approach to solving the\\nroad network equilibrium trafﬁc assignment problem. Transportation Research,\\n9(5), 309–318.\\n\\nLevinson, D., & Kumar, A. (1997). Density and the journey to work. Growth and\\n\\nMarshall, S. (2004). Streets and patterns: The structure of urban geometry. Routledge.\\nMarshall, W., & Garrick, N. (2010). Street network types and road safety: A study of\\n\\n24 California cities. Urban Design International, 15(3), 133–147.\\n\\nMenendez, M., & Ge, Q. (2012). Final report on the calibration study for VISSIM (CSV).\\nTechnical report for Stadt Zürich, Dienstabteilung Verkehr, by the Institute for\\nTransport Planning and Systems, ETH Zurich.\\n\\nParthasarathi, P. (2011). Network structure and travel. PhD thesis, University of\\n\\nMinnesota.\\n\\nParthasarathi, P., Levinson, D., & Karamalaputi, R. (2003). Induced demand: A\\n\\nmicroscopic perspective. Urban Studies, 40(7), 1335–1351.\\n\\nQiang, Q., & Nagurney, A. (2008). A uniﬁed network performance measure with\\nimportance identiﬁcation and the ranking of network components. Optimization\\nLetters, 2(1), 127–142.\\n\\nSakakibara, H., Kajitani, Y., & Okada, N. (2004). Road network robustness for\\navoiding functional isolation in disasters. Journal of Transportation Engineering,\\n130(5), 560–567.\\n\\nScott, D., Novak, D., Aultman-Hall, L., & Guo, F. (2006). Network robustness\\nlinks and evaluating the\\nJournal of Transport Geography,\\n\\nindex: A new method for identifying critical\\nperformance of\\n14(3), 215–227.\\n\\ntransportation networks.\\n\\nSheikh Mohammad Zadeh, A., & Rajabi, M. A. (2013). Analyzing the effect of the\\nstreet network conﬁguration on the efﬁciency of an urban transportation\\nsystem. Cities, 31, 285–297.\\n\\nStead, D., & Marshall, S. (2001). The relationships between urban form and travel\\npatterns. An international review and evaluation. European Journal of Transport\\nand Infrastructure Research, 1(2), 113–141.\\n\\nTampere, C. M., Stada,\\n\\nImmers, B., Peetermans, E., & Organe, K. (2007).\\nMethodology for identifying vulnerable sections in a national road network.\\nTransportation Research Record: Journal of the Transportation Research Board,\\n2012, 1–10.\\n\\nJ.,\\n\\nVitins, B., Garcia-Dorado,\\n\\nI., Vanegas, C., Aliaga, D., & Axhausen, K. (2013).\\nEvaluation of shape grammar rules for urban transport network design. In\\nTransportation research board 92th annual meeting (pp. 13–3834).\\n\\nVon Neumann, J. (1956). Probabilistic logics and the synthesis of reliable organisms\\n\\nBarcelona, Ajuntament (2010). Dades bàsiques de mobilitat. <http://w110.bcn.cat/\\n\\nChange, 28(2), 147–172.\\n\\nof urban road networks. Networks and Spatial Economics, 1–26.\\n\\nfrom unreliable components. Automata Studies, 34, 43–98.\\n\\nJ. Ortigosa, M. Menendez / Cities 36 (2014) 18–27\\n\\n27\\n\\nWalker, G., Kulash, W., & McHugh, B. (2000). Downtown streets: Are we strangling\\nourselves in one-way networks? In TRB circular E-C019: Urban street, symposium,\\nF-2.\\n\\nXie, F., & Levinson, D. (2011). Evaluating the effects of the I-35W bridge collapse on\\nroad-users in the twin cities metropolitan region. Transportation Planning and\\nTechnology, 34(7), 691–703.\\n\\nWardrop,\\n\\nJ. G. (1952). Some theoretical aspects of road trafﬁc research.\\n\\nIn\\nProceedings – Institution of civil engineers – Part 2: Research and theory (Vol. 1,\\npp. 325–378).\\n\\nZhu, S., Levinson, D., Liu, H., & Harder, K. (2010). The trafﬁc and behavioral effects of\\nthe I-35W Mississippi river bridge collapse. Transportation Research Part A:\\nPolicy and Practice, 44(10), 771–784.\\n\\nXie, F., & Levinson, D. (2009). Topological evolution of surface transportation\\n\\nnetworks. Computers, Environment and Urban Systems, 33(3), 211–223.\\n\\n'"
      ]
     },
     "execution_count": 43,
     "metadata": {},
     "output_type": "execute_result"
    }
   ],
   "source": [
    "pdf.plaintext()"
   ]
  },
  {
   "cell_type": "markdown",
   "id": "0a891b36",
   "metadata": {},
   "source": [
    "### Get Section titles and corresponding text"
   ]
  },
  {
   "cell_type": "code",
   "execution_count": 44,
   "id": "f3fcc282",
   "metadata": {},
   "outputs": [
    {
     "name": "stdout",
     "output_type": "stream",
     "text": [
      "['Introduction', 'Methodology', 'Conclusions', 'References']\n"
     ]
    },
    {
     "data": {
      "text/plain": [
       "{'Introduction': ['Since the 1950s, with the advent of the automobile, many cities have experienced urban changes to devote more space and infra- structure to cars. This, in turn, has modiﬁed the travel behavior and the activities carried out in cities. This cycle has then become unsustainable: increasing capacity for cars, increases induced de- mand, and negative externalities. Fortunately, in the last decades, cities are trying to revert this cycle and shift toward more sustain- able urban environments. They are aiming at recovering space from cars to ﬁnd a more balanced mode share and higher living standards.',\n",
       "  'The European Commission (2004) presented the positive expe- rience of many European cities that have restricted car usage in their city centers. The result is that cities not only gain in sustain- ability and livability, but trafﬁc is reduced overall. This phenome- non, called trafﬁc evaporation and based on empirical evidence, describes the reduction of car usage when infrastructure capacity is restricted. In the U.S., these urban planning policies are also',\n",
       "  '⇑ Corresponding author. Tel.: +41 44 633 94 15.',\n",
       "  'E-mail address: javier.ortigosa@ivt.baug.ethz.ch (J. Ortigosa).',\n",
       "  '0264-2751/$ - see front matter (cid:2) 2013 Elsevier Ltd. All rights reserved. http://dx.doi.org/10.1016/j.cities.2013.08.006',\n",
       "  'gaining popularity after several cities have started removing freeway links (Billings, 2011).',\n",
       "  'The city structure (i.e., urban pattern) has a prime role in the performance of trafﬁc. In the complex environments that cities present, we believe that it is very relevant to study the effects of the urban pattern on trafﬁc, in order to design more efﬁcient struc- tures, taking better advantage of the space. By the same token, this would also allow us to recover space for other activities while keeping the same level of service for cars. Unfortunately, trafﬁc modeling tools have not always been fully employed for that pur- pose. This paper aims at ﬁlling that gap.',\n",
       "  'The positive effects of space removal in cities (e.g., trafﬁc reduc- tion) are typically observed in the medium-long term, due to the rearrangement of trafﬁc demand. In the short term, the trafﬁc tends to worsen since demand has not yet changed and the supply is reduced (European Commission, 2004). However, this has not been clearly evaluated yet. In any case, the removal of space in ur- ban settings requires a strong political will and involves a signiﬁ- cant amount of risk. According to Cairns, Atkins, and Goodwin (2002), different cases of space removal, the trafﬁc predictions are often too alarmist (i.e., the trafﬁc situation predicted is much worse than it really is). They presented some short term evalua- tions (less than one year after) of the trafﬁc impacts of link/capac- ity removal. For many of the cases presented, the trafﬁc volumes in',\n",
       "  '',\n",
       "  '',\n",
       "  'the alternative routes increased after the removal, but the total number of cars decreased. Unfortunately, it is unclear how these alternative routes were chosen, and if the whole surrounding traf- ﬁc was included. The evaluation also lacked details on trafﬁc im- pacts on drivers (e.g., how much did the travel time worsen?) and on the city (e.g., was there a reduction on the veh-km travelled in the overall area?). Our research seeks to address that type of questions by understanding and quantifying how the removal of links affects trafﬁc on an urban area (both drivers and the city) in the short term (before demand rearranges). Moreover, it evalu- ates the impacts of link removal as a function of the general loca- tion where it is performed.',\n",
       "  'The study focuses on one of the most common urban structures, the grid. It explores the behavior and the properties of trafﬁc based on an abstract grid and different sub-patterns created by removing links from this initial structure. The purpose of this removal is to see how vulnerable the grid pattern is to these changes, and to understand where the removal is more feasible (i.e., produces less impact to the system). Summarizing, the objectives of this paper are the following:',\n",
       "  '– To better understand the behavior of grid-like patterns when dealing with trafﬁc. This could allow us to identify the weaknesses and strengths of the system.',\n",
       "  '– To evaluate the effects that the removal of links have in the overall trafﬁc performance of the system. We want to see how much space (in link units) could be recovered for other activities (e.g., public transport, public spaces, pedestrian streets) while keeping acceptable trafﬁc conditions.',\n",
       "  'To do so, we consider a regular grid abstract street network of 100 intersections. Employing simple trip demand assumptions, we assign trips using a static macroscopic trafﬁc assignment which moves the system close to the user’s equilibrium (when drivers cannot individually improve their situation by changing routes). The accuracy of this model has been increased with a more de- tailed intersection modeling scheme. Later, we carry out the link removal and trafﬁc is assigned again. This link removal process is performed in three different ways. First, different sets of links are removed in a random manner. Second and third, the removal oper- ation is repeated assigning a higher weight depending on the dis- tance to the center (central and peripheral removal, respectively). For each case, we have analyzed certain trafﬁc indicators in order to assess the effect of the link removal on the performance of trafﬁc.',\n",
       "  'The paper is structured in the following way. Section ‘‘State of the art’’ presents a summary of the literature review. Sec- tion ‘‘Methodology’’ describes the characteristics of the grid and the methodology employed (demand, trafﬁc assignment, link re- moval, indicators). Section ‘‘Analysis of results’’ shows and dis- cusses the model. Section ‘‘Conclusions’’ summarizes the main ﬁndings of this paper.',\n",
       "  'the outcomes of',\n",
       "  'State of the art',\n",
       "  'The existing literature on the study of urban patterns is very extensive and the perspectives very diverse. In this section, we try to summarize these different research views in order to justify the need for our work.',\n",
       "  'Urban form and travel behavior',\n",
       "  'There is an important ﬁeld of research that studies how the ur- ban form (location, land use, size and shape of settlements, popu- lation density, road network, and urban layout (Stead & Marshall,',\n",
       "  '2001)) affects the travel behavior. Many of the existing research works study real cities and the relation between urban form factors and travel characteristics such as mode choice, vehicle miles trav- elled, or travel time (e.g., Cervero & Gorham, 1995; Crane & Cre- peau, 1998; Frank & Pivo, 1994; Levinson & Kumar, 1997). However, the connection to trafﬁc presented in these studies is still weak, as they mostly cover the interaction between urban pattern and demand, not trafﬁc operations.',\n",
       "  'Spatial analysis of cities',\n",
       "  'The way cities are built and organized has motivated a lot of re- search in the spatial study of urban patterns. Graph theory has been used to ﬁnd properties of urban networks such as connectiv- ity (e.g., Garrison & Marble, 1961; Kansky, 1963) or centrality mea- sures (e.g., Freeman, 1979; Sheikh Mohammad Zadeh & Rajabi, 2013). Other studies have focused in comparing urban networks with other network types and recognizing common patterns using graph theory (e.g., Chan, Donner, & Lämmer, 2011; Jiang, 2007; Jiang & Claramunt, 2004; Lämmer, Gehlsen, & Helbing, 2006). Urban planners and designers have also proposed design guidelines based on the spatial analysis of cities (see Marshall, 2004), e.g., following shape grammar rules (e.g., Alexander et al., 1977; Vitins, Garcia-Dorado, Vanegas, Aliaga, & Axhausen, 2013). Among the spatial analysis studies, only some works take into account trafﬁc modeling, either implementing some trafﬁc assign- ment (e.g., Scott, Novak, Aultman-Hall, & Guo, 2006; Sheikh Mohammad Zadeh & Rajabi, 2013; Vitins et al., 2013; Xie & Levin- son, 2009) or collecting real trafﬁc data (e.g., Hackney, Bernard, Bindra, & Axhausen, 2007; Parthasarathi, 2011).',\n",
       "  'Reliability and resilience of transport networks',\n",
       "  'Networks are composed of many elements, and often, it is hard to evaluate how they individually affect the performance of the whole system. Much research has been devoted to analyze the im- pacts of the failure of one or several elements in a network. The studies of network reliability started with computer and biological networks (Von Neumann, 1956). Concepts were later extended to transportation networks in order to evaluate the potential impact of different types of disruption (e.g., construction works, conges- tion, accidents) and to better plan evacuations and the response to other critical situations, e.g., natural disasters (e.g., Bell, 2000; Erath, Birdsall, Axhausen, & Hajdin, 2009; Jenelius, 2009; Jenelius, Petersen, & Mattsson, 2006; Knoop, van Zuylen, & Hoogendoorn, 2008; Qiang & Nagurney, 2008; Sakakibara, Kajitani, & Okada, 2004; Tampere, Stada, Immers, Peetermans, & Organe, 2007). The basic reliability indicators are borrowed from graph theory and analyze the connectivity of the network (Aymerich & Robuste, 1990; Du & Nicholson, 1997). The idea is, typically, to elaborate some topological indexes to identify the most vulnerable links in the networks, or as Scott et al. (2006) do, the links that have the greatest impact on travel times. There are some studies that partic- ularly focus on how the demand rearranges in the network once an element fails (Parthasarathi, Levinson, & Karamalaputi, 2003; Xie & Levinson, 2011; Zhu, Levinson, Liu, & Harder, 2010).',\n",
       "  'Notice that some of these papers, although highly related to our topic, still lack elements regarding the spatial organization of traf- ﬁc (characteristics of the streets and intersections). Moreover, in our research, we consider the impact of removing several links and not only the impact of speciﬁc links. The reason for that is the belief that urban strategies are typically not focused on a par- ticular link but are conceived in a more general way (removing more links). Also, from a mathematical point of view, ﬁnding a crit- ical combination of links might be unfeasible. If we remove the critical link each time in a consecutive manner, the resulting',\n",
       "  '',\n",
       "  '',\n",
       "  'combination is not necessarily the most critical one (i.e., removing other links which individually are not that critical can be worse for the system). The problem then becomes a combinatorial search that can be very costly and does not necessarily represent an urban policy.',\n",
       "  '',\n",
       "  'Trafﬁc analysis in networks',\n",
       "  'Trafﬁc modeling techniques have been widely researched; how- ever, applications for achieving more efﬁcient networks are not that extensive. One particular research ﬁeld very linked to our present research is the analysis of one-way versus two-way street networks (e.g., Gayah & Daganzo, 2012; Walker, Kulash, & McHugh, 2000). These studies try to ﬁnd more efﬁcient network conﬁgurations (given the current pattern) for better trafﬁc. Gayah and Daganzo (2012) calculated the maximum capacity of intersec- tions depending on the network conﬁguration, considering the trade-off between the ﬂexibility in routes (more movements al- lowed) and the intersection capacity. Their analytical formulations were simple and insightful, but only valid under idealized conditions.',\n",
       "  'Another approach for the improvement of trafﬁc in urban net- works is safety (e.g., Marshall & Garrick, 2010). Urban networks have many conﬂicting points, especially in intersections. Eichler, Bar-Gera, and Blachman (2012) created a network with low con- ﬂict intersections. This innovative design can obviously improve safety but as well reduce delays at intersections making trafﬁc more ﬂuid. Our research can beneﬁt from the ﬁndings in this ﬁeld.'],\n",
       " 'Methodology': ['Network design',\n",
       "  'The abstract network used in this paper is a grid, representing a dense city environment. Our analysis starts with a regular grid (square blocks) where every node has four street connections and represents a four-way signalized intersection (except in the perimeter). Every link represents a two-way street with saturation ﬂow of 1800 veh/h for each direction, and they are all 111 m long. The total area of analysis considered is 1 km2 (100 nodes, Fig. 1a). The idea is to emulate reality (in this case a dense urban network) as accurately as possible but without the loss of generalization.',\n",
       "  'The intersections play a determinant role in the trafﬁc assign- ment model, and speciﬁc links have to be created to represent their delay (Fig. 1b). Although streets only have one lane per direction, in intersections, for every incoming direction an extra lane is added to separate cars that want to turn left (4 leg and 3 leg intersections,',\n",
       "  'Demand on the network',\n",
       "  'In order to load the grid with trafﬁc ﬂows, we need to assume a demand model (trip generation and distribution). For the sake of simplicity, we consider a uniform demand model where every node exchanges the same amount of trips with all the other nodes. The number of trips between nodes i and j, Tij, is:',\n",
       "  'T ij ¼ s; if i–j or T ij ¼ 0; if i ¼ j',\n",
       "  'ð1Þ',\n",
       "  'Different levels of s (the number of trips exchanged between two nodes) provide different levels of demand in the network. A rough estimation with macroscopic data, population and trafﬁc distribution assumptions from (Barcelona, 2010), yields an average of 10,000 trips/h-km2 in the central and grid-like neighborhood of Barcelona, Eixample. That magnitude would account for a value of s = 1.12 trips (11,088 trips in the 1 km2 grid). As we will see, although this value does not overload the system when the grid is complete, as soon as links are removed, some intersections start to show really high volume to capacity ratios. Notice that the streets of Eixample have higher capacity than those in our grid.',\n",
       "  'Trafﬁc assignment model',\n",
       "  'The trafﬁc assignment model allocates ﬂows according to the user’s equilibrium (Wardrop, 1952). The model we employ follows the approach used by LeBlanc, Morlok, and Pierskalla (1975) with the Frank-Wolfe (FW) algorithm (Frank & Wolfe, 1956). It is an iterative process where in every iteration the solution is im- proved. This algorithm presents many advantages (e.g., small stor- age requirements), but it also has some drawbacks (e.g., slow convergence, tailing). Nowadays, there are more accurate trafﬁc assignment methods (Bar-Gera, 2010; Dial, 2006); however, we use the FW algorithm here since, for our purposes, it presents rea- sonable levels of accuracy and relatively short computational times (given the amount of nodes and links in our networks).',\n",
       "  'To overcome the asymmetry of the problem, while keeping the simplicity of our trafﬁc assignment technique, we have created 16 dummy links to represent intersection movements. These links have a ﬁctitious capacity and distance; 8 of them have a zero cost and 8 have a non-zero cost. Delay at intersections is emulated using a travel time function as in the other links. There are as well 8 dummy links with zero cost that are used for sending and',\n",
       "  '',\n",
       "  '',\n",
       "  '',\n",
       "  'receiving the trips to and from the network (Fig. 1b). Similar solutions are suggested in (e.g., Branston, 1976; Koutsopoulos & Habbal, 1994).',\n",
       "  'Travel time function on links',\n",
       "  'The travel time function provides the total travel time given the volume in the link and its capacity (for a theoretical background see Koutsopoulos & Habbal, 1994). Here, we use the BPR function (Bureau of Public Roads, 1964) that is widely employed across the world:',\n",
       "  'TT ij ¼ TT 0',\n",
       "  '(cid:2) ij 1 þ aðV ij=CijÞb',\n",
       "  '(cid:3)',\n",
       "  'ð2Þ',\n",
       "  'where TTij is the travel time on the link ij, TT 0 ij is the free ﬂow travel time on that link, Vij is the volume in the link, Cij is the capacity, and a and b are parameters that come from experimental observations. We will employ the original parameters of the BPR function: a = 0.15 and b = 4.',\n",
       "  'Delay at intersections',\n",
       "  'We use a delay formulation for the ﬁctitious links (see Fig. 1b) to overcome the asymmetry of the problem (so delays on links de- pend uniquely on the ﬂows on them). This approach emulates the delay at signalized intersections. Unfortunately, most of the travel time functions for intersections, e.g., HCM-2010 (Highway Capacity Manual, 2010), do not fulﬁll the requirements to be applied in the trafﬁc assignment model (they are not differentiable). To solve that, we have adjusted to the HCM-2010 formulation a 3 piece- wise function that is continuous and differentiable. The ﬁrst and last parts are linear, and the intermediate one is a 3rd degree poly- nomial function.',\n",
       "  'For each 4 leg intersection (without link removal), we have considered 17 s of effective green for the straight and right turn movements, and 8 s for the left turn movement, out of a total cycle of 60 s including 10 s of lost time. Considering a saturation ﬂow of 1800 veh/h, the total capacity for the straight and right turn movements combined is 510 veh/h, and for the left turn movement 240 veh/h. Since the straight and right turn move- ments share the capacity, the delay is allocated jointly. This is the function of the dummy link situated before the straight and right movements. When a link is removed, the intersection becomes a 3 leg node. In that setting, we consider three phases of 15 s each and a total of 15 s lost time. All the movements have equal capacity of 450 veh/h. Notice that the lost time is larger than for 4 leg nodes. Although not very realistic, this is a consequence of averaging capacities given the large number of possible combinations in 3 leg nodes. The analysis time for calculating the delay with the HCM-2010 expression is 1 h, and the incremental delay factor (k) (see HCM-2010 formulation) is 0.5.',\n",
       "  'Validation, convergence, and stability of the algorithm',\n",
       "  'To validate our algorithm, the known problem of Sioux Falls was employed. There are 24 zones, 24 nodes, and 76 links. Travel time in links is estimated with Eq. (2) (a = 0.15 and b = 4). In (Bar-Gera, 2001), both the input data and the best known solution are provided. For that problem, our algorithm achieves a relative gap in travel times of 1E-4 in 1.3 h. Our grid has 100 origin/desti- nation nodes, and the design of the more complex intersections creates a network of 1300 nodes and 2404 links. In addition, for every removal strategy, we perform 1080 different trafﬁc assign- ments, 60 repetitions every time we remove 3 links (see Section 4).',\n",
       "  'Achieving the same level of accuracy as in the validation problem becomes unfeasible.',\n",
       "  'Hence, we have relaxed our convergence criterion by employing the relative variation of ﬂows between two consecutive iterations. To do that, we add the difference in ﬂows (in absolute values) from all the links between two consecutive iterations and divide it by the total amount of ﬂows in the previous iteration. When this value is smaller than 1%, we stop the trafﬁc assignment. That usually happens after approximately 30–60 iterations. Although this num- ber of iterations might seem very low, for our purposes the ob- tained level of accuracy is reasonable. We demonstrate so by comparing the outputs of a trafﬁc assignment performed in the full grid problem with 50 and 10,000 iterations. As a matter of exam- ple, the relative error of the total travel time between the two cases is 0.2%. These differences do not affect our more general and mac- roscopic analysis, and this convergence criterion saves consider- able computational efforts. However, it is true that very similar solutions in total travel time might still provide signiﬁcant differ- ences on particular indicators related to the ﬂow distribution (e.g., maximum volume to capacity ratios) when having stricter convergence criterion or employing more efﬁcient methods (as those in e.g., Bar-Gera, Nie, Boyce, Hu, & Liu, 2010). Nonetheless, we believe that averaging 60 cases can smooth these inconsisten- cies and provide the general trend we are pursuing with this research.',\n",
       "  'We have detected some cases, for smaller networks and lower demands, where our trafﬁc assignment was unstable (in certain iterations, the trafﬁc assignment did not ﬁnd a feasible step length). This might be caused by the fact that straight and right dummy links at intersections have a ﬁxed cost. Notice, however, that these instabilities have not been detected in any of the exper- iments here presented. Moreover, we believe that the possible errors created by such instabilities are negligible given the macroscopic nature of our algorithm.',\n",
       "  'Link removal',\n",
       "  'The idea is to remove links from the grid following an iterative process. For a valid removal, all nodes must remain connected. Three strategies are used. With the ﬁrst strategy, every combina- tion of links removed is selected randomly. With the second and third strategy, we implement a random process inﬂuenced by the distance to the geometric center of the square that the grid occu- pies. For every link, the Euclidian distance from its middle point to the center is calculated. We use the Euclidian distance instead of the shortest path in the graph because the earlier one does not depend on the link removal process or other properties of the grid (e.g., scale of the blocks) and yet provides a good measure of geo- metrical centrality. With the central removal strategy, links are more likely to be removed in the center, whereas with the periph- eral removal strategy, links are more likely to be removed in the perimeter of the grid.',\n",
       "  'As soon as we remove links, the intersections might change. Many 4 leg intersections (12 possible movements) become 3 leg intersections (6 possible movements); and in the case of only two links meeting on a node, since there are not any conﬂicting movements, full capacity is assigned to the two possible directions.',\n",
       "  'Trafﬁc indicators',\n",
       "  'Since the trafﬁc assignment model is static, not all of the trafﬁc indicators can be extracted. The analysis possibilities are limited, as the time dimension and the spatial spread of queues are not considered (a dynamic trafﬁc assignment method is needed for that). The indicators employed to represent the trafﬁc and travel behavior in this paper are the following:',\n",
       "  '',\n",
       "  '',\n",
       "  '– Total travel time: the main indicator of the cost for the system. – Total distance travelled: an indicator on the sustainability of the network (i.e., how efﬁciently the system is able to connect the demand nodes).',\n",
       "  '– Average speed: an indicator of the level of congestion in the',\n",
       "  'network.',\n",
       "  '– Volume to capacity ratio (V/C): same as the speed, a proxy for congestion. In addition, an indicator of the level of demand (and importance) of an speciﬁc link or node within the network. The average and maximum V/C ratios across the network will be calculated.',\n",
       "  '– Delay at intersections: a quantiﬁcation, in travel time terms, of',\n",
       "  'the impact of intersections.',\n",
       "  '– Maneuvers at intersections: an indicator of how the intersec- tions are used. The percentage of right turn, left turn, and straight movements are studied.',\n",
       "  'Analysis of results',\n",
       "  'Methodology of the experiments',\n",
       "  'This section presents the results obtained after running our traf- ﬁc assignment model. Starting from the full grid network (Fig. 2a), we follow an iterative process removing 3 links on every iteration until 30% of the links are removed. Since the process is random, dif- ferent network structures are obtained every time. For that reason, we repeat this process 60 times (obtaining 60 network cases at every iteration). The same procedure is repeated for all the removal strategies: random (Fig. 2b), central (Fig. 2c), and peripheral (Fig. 2d). The demand employed (s = 1.12) corresponds to a magni- tude of 11,088 trips/h-km2 (see Section \"Methodology\").',\n",
       "  'Travel time',\n",
       "  '',\n",
       "  'We observe that the total travel time increases drastically when 30% of the links are removed. There are many measures of central- ity in a network, e.g., betweenness (Freeman, 1979; Sheikh Mohammad Zadeh & Rajabi, 2013). But for simplicity, let us look at the ﬂow that a link carries. We could say that the higher the ﬂow is, the more routes that pass through that link and hence the more relevance that this link has within the system. Given the character- istics of our network, central links concentrate more ﬂow because the network is homogeneous and demand uniform (Fig. 2a). Notice that in more heterogeneous networks (e.g., with different street',\n",
       "  'hierarchies), these conditions might not hold. As depicted in Fig. 2, the effect of link removal is signiﬁcantly worse for central re- moval (Fig. 3b) than for peripheral removal (Fig. 3c). Logically, ran- dom removal values are between these two strategies (Fig. 3a) and the results present more variability (i.e., more differences in values for a given removal percentage).',\n",
       "  'Evidently, especially for the random removal, tak as a reference, the average value does not guarantee that certain removal conﬁg- urations do not make the system worse.',\n",
       "  'Distance travelled and speed',\n",
       "  'A complete grid structure (every node has 4 connections) allows to take many different routes with the same length. When certain routes are more congested, cars can take faster alternatives with- out being penalized with additional travel distance. However, the link removal not only makes certain routes more congested, but it also reduces connectivity and then the availability of alternative routes. Fig. 4a depicts a similar relationship as in Fig. 3d for the dif- ferent removal strategies, but as a function of total distance trav- elled. The less harmful strategy is the peripheral removal, whereas the central removal increases distance considerably. Since with this strategy the center loses connectivity but not the perim- eter, trips must take the surrounding roads to reach the central nodes. This triggers the rapid increase in total distance travelled. However, it can be observed how the distance reaches a point (around 1.8) where it does not increase anymore. As mentioned earlier, the total distance travelled cannot increase indeﬁnitely be- cause the space is limited. Moreover, when links from the outskirts start to be removed, vehicles cannot take longer (but faster) routes anymore. Recall that certain level of connectivity must be pre- served as all nodes remain always connected.',\n",
       "  'The average speed calculated here is the relationship between the total travel time and the total distance travelled. The starting average speed is approximately 16 km/h. As Fig. 4b shows, during the ﬁrst stages of link removal, this speed is maintained (except for the central removal where the value drops quickly from the begin- ning). After 15% of links are removed, the system worsens rapidly and the averages drop to values close to 4 km/h. Although that can seem unrealistic, some empirical works (Menendez & Ge, 2012) have shown that speeds on cities can be very low in peak hours (e.g., 4.5 km/h for certain routes in Zurich, Switzerland).',\n",
       "  'Intersections',\n",
       "  'Intersections are the bottleneck of the system triggering most of the increases in travel time. In the full grid, time spent on an intersection accounts for approximately 70% of the total travel time. However, when 30% of the links are removed, intersections',\n",
       "  '',\n",
       "  '',\n",
       "  '',\n",
       "  '',\n",
       "  'loaded (e.g., a network divided into two parts only connected by one link), on average the central removal still performs the worst. The delay at intersections is related to the load on the intersections (Fig. 5b). The maximum values of the V/C ratio at intersections follow the same evolution as the other indicators: removal presents the worst values and peripheral central removal the best ones. Moreover, although not shown here for the sake of space, the difference between average and maximum V/C ratios increases as a function of the removal rate. This is not surprising as the system is used less homogeneously when we remove links.',\n",
       "  'We have looked as well at the number of maneuvers at the intersections (Fig. 6). Not surprisingly, for central removal, not only the delay on intersections is bigger, but the number of movements on intersections is almost twice as that from the peripheral re- moval. This makes sense as routes are longer now, and cars must navigate through more intersections on every trip. Fig. 6d shows how many movements (on average) were performed on each inter- section. The peripheral removal, which has the best results for each indicator, presents a signiﬁcantly higher share of ﬂows in 4 leg intersections in comparison with the other strategies. Retaining the largest number of 4 leg intersections (keeping the central area fairly well connected) allows the system to better absorb the link removal and to reroute trips homogeneously on the grid (Fig. 2). In other words, the high connectivity in the center offers shorter routes (less overall ﬂows), but most importantly offers more alter- natives to allocate ﬂows. This property of the full grid that the peripheral removal is able to keep better than the other strategies is the key to not having excessive loads at intersections and limit- ing the increase in total travel time.',\n",
       "  'When links are removed, the number of alternatives for any given route decreases. This creates very loaded paths that impact',\n",
       "  '',\n",
       "  'account for approximately 84% of the total travel time for periph- eral removal and 97% for central removal (Fig. 5a). Although with the random removal strategy, some conﬁgurations are very',\n",
       "  '',\n",
       "  '',\n",
       "  '',\n",
       "  'greatly some intersections. On the other hand, when links are removed, a higher capacity is given to the intersections involved in the removal because conﬂicting movements on them is re- duced. Fig. 7 shows the difference in total travel time between the link removal process carried out in this paper (Fig. 3) and a link removal process without giving more capacity to the intersections (i.e., each movement on each intersection has the same capacity as in the initial grid independently of the links re- moved). It can be observed how for low removal rates, giving more capacity to intersections creates some cases where the total travel time is inferior to the full grid case (Fig. 7a). In those cases, the removal of links makes the system better in terms of travel times due solely to the gain in capacity at the intersections. Peripheral removal presents more cases of lower total travel time for low removal rates, as it can be observed in Fig. 3c. We also see how for low link removal rates, the difference between the two curves is small in comparison with high removal rates, where the extra intersection capacity represents signiﬁcant savings in total travel time (Fig. 7b). This makes sense, as the main cause of increase in travel times is the extreme load that some intersec- tions must cope with. If we restrict the extra capacity gained at intersections due to link removal, the V/C ratio becomes even big- ger and generates even more delay. The gains in travel time are seen better in congested cases (e.g., high removal cases). However, this gain is somehow ﬁctitious because removing links intersections, only with the purpose of gaining capacity at improves the system in the ﬁrst stages and only for some cases (Fig. 7a). After that, with more link removal, the system will always get worse.',\n",
       "  '',\n",
       "  '',\n",
       "  '',\n",
       "  '(e.g., s = 2.12 trips) where small amounts of removal could create signiﬁcant increases in travel time.'],\n",
       " 'Conclusions': ['Cities across the world are starting to recover space, previously devoted to cars, for other uses. This initiative, however, often brings a lot of controversy because, in the short term, without rear- rangement of demand, the removal of space most likely will make the trafﬁc situation worse. That fear often hinders urban policies that aim at space recovery. The goals of this paper are precisely to better understand the removal of space in urban settings, and to evaluate how this removal affects drivers and the overall system. For that purpose, we have studied an abstract grid network that represents an urban environment where we have removed links in three different ways: randomly, focusing on the center of the grid, and focusing on the perimeter. We have analyzed 60 removal sequences for each strategy, from the full grid to 30% of the links removed. In each iteration, we remove 3 links and we assign trafﬁc following a static macroscopic scheme based on the FW algorithm, so the system tends toward the user’s equilibrium.',\n",
       "  'The results of this paper help us understand how grid urban systems behave. In our case, where all streets have the same char- acteristics and demand is uniform, central streets concentrate more ﬂow. Notice that despite the fact that our analysis focuses on a very particular case, we believe that the behavior can be extrapolated to other networks. That being said, caution must be exercised with any generalization, as in very heterogeneous net- works these ﬁndings might not hold.',\n",
       "  'Summarizing, in light of the results obtained, we can say that:',\n",
       "  '– The full grid is a robust trafﬁc system that allows a certain degree of link removal without affecting trafﬁc conditions con- siderably. It is possible for a high connected city with an urban structure similar to a grid pattern, to recover space from cars without penalizing drivers signiﬁcantly.',\n",
       "  '– The link removal strategy clearly inﬂuences the number of links that can be removed. In our case, the peripheral removal provides the best results and the central removal the worst ones.',\n",
       "  '– The intersections are the critical points in our network. Oversat- urated intersections create delays that affect signiﬁcantly the whole system. In addition, since the signal control is ﬁxed, there is more capacity that is wasted because although some move- ments might be very loaded, others might not.',\n",
       "  '– The availability of many different routes is the key to achieve more homogeneous ﬂow distributions and hence, not extreme trafﬁc loads in particular intersections. The high connectivity in the center of the grid is what guarantees the redundancy of routes making the network more efﬁcient and resilient. It also offers shorter routes to drivers. This leads to less overall dis- tance travelled, which in turn, is directly related to the total ﬂows in the network.',\n",
       "  '– The gain in capacity at intersections by limiting movements when links are removed reduces the overall travel time only for certain cases at low removal rates (this is more likely to hap- pen for peripheral removal). However, removing links might also create less connected intersections. That limits the spread of trafﬁc and the availability of routes, worsening the system. This is the case of the central removal.',\n",
       "  'These conclusions do not necessarily advocate for prohibiting re- moval in the center, which might also be the most important place to actually recover space for other activities. In fact, the same argument of the central connectivity could be employed to increase the',\n",
       "  '',\n",
       "  '',\n",
       "  'Demand',\n",
       "  'The results presented above are restricted to this particular model and to the demand pattern and values considered. Our de- mand model is uniform, as explained earlier. The number of trips interchanged between nodes (in our case s = 1.12 trips) determines the demand load (11,088 trips in the 1 km2 grid). We considered that this number of trips loads the system effectively and repre- sents a dense urban setting. However, for the sake of completeness, we ran our model considering higher demand loads (s = 1.62 trips producing 15,878 trips in total; and s = 2.12 trips producing 20,778 trips in total). The overall patterns remain the same, and the rest of the ﬁndings still hold, although evidently, the more loaded the sys- tem is, the less capacity it has to absorb the effects of the link re- moval (see Fig. 8) This is especially relevant for high demands',\n",
       "  '',\n",
       "  '',\n",
       "  'presence of public transport lines. Although central removal is the most restrictive strategy, the system allows certain degree of removal without signiﬁcantly increasing total travel time. On the other hand, peripheral removal is the least restrictive strategy. The random removal lies in between the two extreme strategies and could emulate an urban planning policy as a combination of central and peripheral strategies. One interesting exercise would be to reproduce different removal patterns representing real world experiences and see under in which type of category they fall.',\n",
       "  'The present research can be extended in many different direc- tions. We have chosen three main areas to focus on the future. We believe it is worth to investigate other strategies to remove capacity from the network (e.g., removing lanes, removing full cor- ridors). Similarly, there might be beneﬁts from exploring other net- work conﬁgurations that provide a different trade-off between ﬂexibility in routes and capacity at intersections (e.g., unidirec- tional streets).',\n",
       "  'The static trafﬁc assignment model is a compromise between the accuracy and the complexity of the algorithm. However, it does not explain how the congestion spreads spatially and how the de- mand rearranges in response to the new conditions. In the future, employing a dynamic trafﬁc assignment model could be conve- nient to evaluate these effects.',\n",
       "  'Finally, all the experiments were carried out considering a uni- form demand. Keeping the simplicity on demand assumptions, in the future we could ﬁnd different variations both spatially and temporally that allow us to see the behavior of the grid pattern un- der other conditions. In addition to this, being able to represent the demand rearrangement phenomenon is a challenging task for the future research.'],\n",
       " 'References': ['Alexander, C., Ishikawa, S., Silverstein, M., Jakobson, M., Fiksdahl-King, I., & Angel, S. (1977). A pattern language: Towns, buildings, constructions. Oxford University Press.',\n",
       "  'Aymerich, O., & Robuste, F. (1990). Fiabilidad de redes de transporte bajo condiciones excepcionales. Revista del Ministerio de Transportes, Turismo y Comunicaciones, 42, 25–37.',\n",
       "  'portal/site/Mobilitat>.',\n",
       "  '~bargera/tntp/>.',\n",
       "  'Bar-Gera, H. (2001). Transportation network test problems. <http://www.bgu.ac.il/',\n",
       "  'Bar-Gera, H.',\n",
       "  '(2010). Trafﬁc assignment by paired alternative segments.',\n",
       "  'Transportation Research Part B: Methodological, 44(8), 1022–1046.',\n",
       "  'Bar-Gera, H., Nie, Y., Boyce, D., Hu, Y., & Liu, Y. (2010). Consistent route ﬂows and the In Transportation research board 89th annual',\n",
       "  'condition of proportionality. meeting (pp. 10–1526).',\n",
       "  'Bell, M. G. (2000). A game theory approach to measuring the performance reliability of transport networks. Transportation Research Part B: Methodological, 34(6), 533–545.',\n",
       "  'Billings, J. (2011). The impacts of road capacity removal. Master’s thesis, University of',\n",
       "  'Branston, D. (1976). Link capacity functions: A review. Transportation Research,',\n",
       "  'Connecticut.',\n",
       "  '10(4), 223–236.',\n",
       "  'Bureau of Public Roads (1964). Trafﬁc assignment manual. Washington DC: US',\n",
       "  'Department of Commerce, Urban Planning Division.',\n",
       "  'Cairns, S., Atkins, S., & Goodwin, P. (2002). Disappearing trafﬁc? The story so far. Proceedings of the Institution of Civil Engineers Municipal Engineer, 151(1), 13–22. Cervero, R., & Gorham, R. (1995). Commuting in transit versus automobile neighborhoods. Journal of the American planning Association, 61(2), 210–225. Chan, S., Donner, R., & Lämmer, S. (2011). Urban road networks spatial networks with universal geometric features? The European Physical Journal B – Condensed Matter and Complex Systems, 84(4), 563–577.',\n",
       "  'Crane, R., & Crepeau, R. (1998). Does neighborhood design inﬂuence travel? A behavioral analysis of travel diary and GIS data. Transportation Research Part D: Transport and Environment, 3(4), 225–238.',\n",
       "  'Dial, R. (2006). A path-based user-equilibrium trafﬁc assignment algorithm that obviates path storage and enumeration. Transportation Research Part B: Methodological, 40(10), 917–936.',\n",
       "  'Du, Z. P., & Nicholson, A. (1997). Degradable transportation systems: Sensitivity and reliability analysis. Transportation Research Part B: Methodological, 31(3), 225–237.',\n",
       "  'Eichler, D., Bar-Gera, H., & Blachman, M. (2012). Vortex-based zero-conﬂict design',\n",
       "  'Erath, A., Birdsall, J., Axhausen, K. W., & Hajdin, R. (2009). Vulnerability assessment methodology for Swiss road network. Transportation Research Record: Journal of the Transportation Research Board, 2137, 118–126.',\n",
       "  'European Commission (2004). Reclaiming city streets for people: Chaos or quality of',\n",
       "  'life? Directorate-General for the Environment.',\n",
       "  'Frank, L., & Pivo, G. (1994). Impacts of mixed use and density on utilization of three modes of transit, and walking. travel: Single-occupant vehicle, Transportation Research Record: Journal of the Transportation Research Board, 1466, 44–52.',\n",
       "  'Frank, M., & Wolfe, P. (1956). An algorithm for quadratic programming. Naval',\n",
       "  'Research Logistics Quarterly, 3(1–2), 95–110.',\n",
       "  'Freeman, L. (1979). Centrality in social networks conceptual clariﬁcation. Social',\n",
       "  'Networks, 1(3), 215–239.',\n",
       "  'Garrison, W. L., & Marble, D. F. (1961). The structure of transportation networks. Draft of a report submitted October 31, 1961 to US Army Transportation Research Command, Fort Eustis, Virginia, by the Transportation Center at Northwestern University under contract DA-44-177-TC-685. Transportation geography study. Evanston, IL: Transportation Center at Northwestern University.',\n",
       "  'Gayah, V., & Daganzo, C. (2012). Analytical capacity comparison of one-way and two-way signalized street networks. Transportation Research Record: Journal of the Transportation Research Board, 2301, 76–85.',\n",
       "  'Hackney, J., Bernard, M., Bindra, S., & Axhausen, K. (2007). Predicting road system speeds using spatial structure variables and network characteristics. Journal of Geographical Systems, 9(4), 397–417.',\n",
       "  'Highway Capacity Manual (2010). Transportation Research Board (5th ed.). Jenelius, E.',\n",
       "  '(2009). Network structure and travel patterns: Explaining the geographical disparities of road network vulnerability. Journal of Transport Geography, 17(3), 234–244.',\n",
       "  'Jenelius, E., Petersen, T., & Mattsson, L. (2006). Importance and exposure in road network vulnerability analysis. Transportation Research Part A: Policy and Practice, 40(7), 537–560.',\n",
       "  'Jiang, B. (2007). A topological pattern of urban street networks: Universality and peculiarity. Physica A: Statistical Mechanics and its Applications, 384(2), 647–655. Jiang, B., & Claramunt, C. (2004). Topological analysis of urban street networks.',\n",
       "  'Environment and Planning B, 31(1), 151–162.',\n",
       "  'Kansky, K. (1963). Structure of transportation networks: Relationships between network geometry and regional characteristics. PhD thesis, University of Chicago. Knoop, V., van Zuylen, H., & Hoogendoorn, S. (2008). The inﬂuence of spillback modeling when assessing consequences of blockings in a road network. EJTIR, 4(8), 287–300.',\n",
       "  'Koutsopoulos, H., & Habbal, M. (1994). Effect of intersection delay modeling on the performance of trafﬁc equilibrium models. Transportation Research Part A: Policy and Practice, 28(2), 133–149.',\n",
       "  'Lämmer, S., Gehlsen, B., & Helbing, D. (2006). Scaling laws in the spatial structure of urban road networks. Physica A: Statistical Mechanics and its Applications, 363(1), 89–95.',\n",
       "  'LeBlanc, L., Morlok, E., & Pierskalla, W. (1975). An efﬁcient approach to solving the road network equilibrium trafﬁc assignment problem. Transportation Research, 9(5), 309–318.',\n",
       "  'Levinson, D., & Kumar, A. (1997). Density and the journey to work. Growth and',\n",
       "  'Marshall, S. (2004). Streets and patterns: The structure of urban geometry. Routledge. Marshall, W., & Garrick, N. (2010). Street network types and road safety: A study of',\n",
       "  '24 California cities. Urban Design International, 15(3), 133–147.',\n",
       "  'Menendez, M., & Ge, Q. (2012). Final report on the calibration study for VISSIM (CSV). Technical report for Stadt Zürich, Dienstabteilung Verkehr, by the Institute for Transport Planning and Systems, ETH Zurich.',\n",
       "  'Parthasarathi, P. (2011). Network structure and travel. PhD thesis, University of',\n",
       "  'Minnesota.',\n",
       "  'Parthasarathi, P., Levinson, D., & Karamalaputi, R. (2003). Induced demand: A',\n",
       "  'microscopic perspective. Urban Studies, 40(7), 1335–1351.',\n",
       "  'Qiang, Q., & Nagurney, A. (2008). A uniﬁed network performance measure with importance identiﬁcation and the ranking of network components. Optimization Letters, 2(1), 127–142.',\n",
       "  'Sakakibara, H., Kajitani, Y., & Okada, N. (2004). Road network robustness for avoiding functional isolation in disasters. Journal of Transportation Engineering, 130(5), 560–567.',\n",
       "  'Scott, D., Novak, D., Aultman-Hall, L., & Guo, F. (2006). Network robustness links and evaluating the Journal of Transport Geography,',\n",
       "  'index: A new method for identifying critical performance of 14(3), 215–227.',\n",
       "  'transportation networks.',\n",
       "  'Sheikh Mohammad Zadeh, A., & Rajabi, M. A. (2013). Analyzing the effect of the street network conﬁguration on the efﬁciency of an urban transportation system. Cities, 31, 285–297.',\n",
       "  'Stead, D., & Marshall, S. (2001). The relationships between urban form and travel patterns. An international review and evaluation. European Journal of Transport and Infrastructure Research, 1(2), 113–141.',\n",
       "  'Tampere, C. M., Stada,',\n",
       "  'Immers, B., Peetermans, E., & Organe, K. (2007). Methodology for identifying vulnerable sections in a national road network. Transportation Research Record: Journal of the Transportation Research Board, 2012, 1–10.',\n",
       "  'J.,',\n",
       "  'Vitins, B., Garcia-Dorado,',\n",
       "  'I., Vanegas, C., Aliaga, D., & Axhausen, K. (2013). Evaluation of shape grammar rules for urban transport network design. In Transportation research board 92th annual meeting (pp. 13–3834).',\n",
       "  'Von Neumann, J. (1956). Probabilistic logics and the synthesis of reliable organisms',\n",
       "  'Barcelona, Ajuntament (2010). Dades bàsiques de mobilitat. <http://w110.bcn.cat/',\n",
       "  'Change, 28(2), 147–172.',\n",
       "  'of urban road networks. Networks and Spatial Economics, 1–26.',\n",
       "  'from unreliable components. Automata Studies, 34, 43–98.',\n",
       "  '',\n",
       "  '',\n",
       "  'Walker, G., Kulash, W., & McHugh, B. (2000). Downtown streets: Are we strangling ourselves in one-way networks? In TRB circular E-C019: Urban street, symposium, F-2.',\n",
       "  'Xie, F., & Levinson, D. (2011). Evaluating the effects of the I-35W bridge collapse on road-users in the twin cities metropolitan region. Transportation Planning and Technology, 34(7), 691–703.',\n",
       "  'Wardrop,',\n",
       "  'J. G. (1952). Some theoretical aspects of road trafﬁc research.',\n",
       "  'In Proceedings – Institution of civil engineers – Part 2: Research and theory (Vol. 1, pp. 325–378).',\n",
       "  'Zhu, S., Levinson, D., Liu, H., & Harder, K. (2010). The trafﬁc and behavioral effects of the I-35W Mississippi river bridge collapse. Transportation Research Part A: Policy and Practice, 44(10), 771–784.',\n",
       "  'Xie, F., & Levinson, D. (2009). Topological evolution of surface transportation',\n",
       "  'networks. Computers, Environment and Urban Systems, 33(3), 211–223.']}"
      ]
     },
     "execution_count": 44,
     "metadata": {},
     "output_type": "execute_result"
    }
   ],
   "source": [
    "pdf.section()"
   ]
  },
  {
   "cell_type": "markdown",
   "id": "da331573",
   "metadata": {},
   "source": [
    "### Get References"
   ]
  },
  {
   "cell_type": "code",
   "execution_count": 45,
   "id": "132b5bbf",
   "metadata": {},
   "outputs": [
    {
     "name": "stdout",
     "output_type": "stream",
     "text": [
      "['Introduction', 'Methodology', 'Conclusions', 'References']\n"
     ]
    },
    {
     "data": {
      "text/plain": [
       "{'0': 'Alexander, C., Ishikawa, S., Silverstein, M., Jakobson, M., Fiksdahl-King, I., & Angel, S. (1977). A pattern language: Towns, buildings, constructions. Oxford University Press.Aymerich, O., & Robuste, F. (1990). Fiabilidad de redes de transporte bajo condiciones excepcionales. Revista del Ministerio de Transportes, Turismo y Comunicaciones, 42, 25–37.portal/site/Mobilitat>.~bargera/tntp/>.Bar-Gera, H. (2001). Transportation network test problems. <http://www.bgu.ac.il/Bar-Gera, H.',\n",
       " '1': '(2010). Trafﬁc assignment by paired alternative segments.Transportation Research Part B: Methodological, 44(8), 1022–1046.',\n",
       " '2': 'Bar-Gera, H., Nie, Y., Boyce, D., Hu, Y., & Liu, Y. (2010). Consistent route ﬂows and the In Transportation research board 89th annual',\n",
       " '3': 'condition of proportionality. meeting (pp. 10–1526).Bell, M. G. (2000). A game theory approach to measuring the performance reliability of transport networks. Transportation Research Part B: Methodological, 34(6), 533–545.Billings, J. (2011). The impacts of road capacity removal. Master’s thesis, University ofBranston, D. (1976). Link capacity functions: A review. Transportation Research,',\n",
       " '4': 'Connecticut.10(4), 223–236.Bureau of Public Roads (1964). Trafﬁc assignment manual. Washington DC: US',\n",
       " '5': 'Department of Commerce, Urban Planning Division.',\n",
       " '6': 'Cairns, S., Atkins, S., & Goodwin, P. (2002). Disappearing trafﬁc? The story so far. Proceedings of the Institution of Civil Engineers Municipal Engineer, 151(1), 13–22. Cervero, R., & Gorham, R. (1995). Commuting in transit versus automobile neighborhoods. Journal of the American planning Association, 61(2), 210–225. Chan, S., Donner, R., & Lämmer, S. (2011). Urban road networks spatial networks with universal geometric features? The European Physical Journal B – Condensed Matter and Complex Systems, 84(4), 563–577.',\n",
       " '7': 'Crane, R., & Crepeau, R. (1998). Does neighborhood design inﬂuence travel? A behavioral analysis of travel diary and GIS data. Transportation Research Part D: Transport and Environment, 3(4), 225–238.',\n",
       " '8': 'Dial, R. (2006). A path-based user-equilibrium trafﬁc assignment algorithm that obviates path storage and enumeration. Transportation Research Part B: Methodological, 40(10), 917–936.Du, Z. P., & Nicholson, A. (1997). Degradable transportation systems: Sensitivity and reliability analysis. Transportation Research Part B: Methodological, 31(3), 225–237.',\n",
       " '9': 'Eichler, D., Bar-Gera, H., & Blachman, M. (2012). Vortex-based zero-conﬂict designErath, A., Birdsall, J., Axhausen, K. W., & Hajdin, R. (2009). Vulnerability assessment methodology for Swiss road network. Transportation Research Record: Journal of the Transportation Research Board, 2137, 118–126.European Commission (2004). Reclaiming city streets for people: Chaos or quality of',\n",
       " '10': 'life? Directorate-General for the Environment.Frank, L., & Pivo, G. (1994). Impacts of mixed use and density on utilization of three modes of transit, and walking. travel: Single-occupant vehicle, Transportation Research Record: Journal of the Transportation Research Board, 1466, 44–52.',\n",
       " '11': 'Frank, M., & Wolfe, P. (1956). An algorithm for quadratic programming. NavalResearch Logistics Quarterly, 3(1–2), 95–110.',\n",
       " '12': 'Freeman, L. (1979). Centrality in social networks conceptual clariﬁcation. SocialNetworks, 1(3), 215–239.',\n",
       " '13': 'Garrison, W. L., & Marble, D. F. (1961). The structure of transportation networks. Draft of a report submitted October 31, 1961 to US Army Transportation Research Command, Fort Eustis, Virginia, by the Transportation Center at Northwestern University under contract DA-44-177-TC-685. Transportation geography study. Evanston, IL: Transportation Center at Northwestern University.',\n",
       " '14': 'Gayah, V., & Daganzo, C. (2012). Analytical capacity comparison of one-way and two-way signalized street networks. Transportation Research Record: Journal of the Transportation Research Board, 2301, 76–85.Hackney, J., Bernard, M., Bindra, S., & Axhausen, K. (2007). Predicting road system speeds using spatial structure variables and network characteristics. Journal of Geographical Systems, 9(4), 397–417.',\n",
       " '15': 'Highway Capacity Manual (2010). Transportation Research Board (5th ed.). Jenelius, E.',\n",
       " '16': '(2009). Network structure and travel patterns: Explaining the geographical disparities of road network vulnerability. Journal of Transport Geography, 17(3), 234–244.Jenelius, E., Petersen, T., & Mattsson, L. (2006). Importance and exposure in road network vulnerability analysis. Transportation Research Part A: Policy and Practice, 40(7), 537–560.',\n",
       " '17': 'Jiang, B. (2007). A topological pattern of urban street networks: Universality and peculiarity. Physica A: Statistical Mechanics and its Applications, 384(2), 647–655. Jiang, B., & Claramunt, C. (2004). Topological analysis of urban street networks.',\n",
       " '18': 'Environment and Planning B, 31(1), 151–162.',\n",
       " '19': 'Kansky, K. (1963). Structure of transportation networks: Relationships between network geometry and regional characteristics. PhD thesis, University of Chicago. Knoop, V., van Zuylen, H., & Hoogendoorn, S. (2008). The inﬂuence of spillback modeling when assessing consequences of blockings in a road network. EJTIR, 4(8), 287–300.',\n",
       " '20': 'Koutsopoulos, H., & Habbal, M. (1994). Effect of intersection delay modeling on the performance of trafﬁc equilibrium models. Transportation Research Part A: Policy and Practice, 28(2), 133–149.',\n",
       " '21': 'Lämmer, S., Gehlsen, B., & Helbing, D. (2006). Scaling laws in the spatial structure of urban road networks. Physica A: Statistical Mechanics and its Applications, 363(1), 89–95.LeBlanc, L., Morlok, E., & Pierskalla, W. (1975). An efﬁcient approach to solving the road network equilibrium trafﬁc assignment problem. Transportation Research, 9(5), 309–318.Levinson, D., & Kumar, A. (1997). Density and the journey to work. Growth and',\n",
       " '22': 'Marshall, S. (2004). Streets and patterns: The structure of urban geometry. Routledge. Marshall, W., & Garrick, N. (2010). Street network types and road safety: A study of24 California cities. Urban Design International, 15(3), 133–147.Menendez, M., & Ge, Q. (2012). Final report on the calibration study for VISSIM (CSV). Technical report for Stadt Zürich, Dienstabteilung Verkehr, by the Institute for Transport Planning and Systems, ETH Zurich.Parthasarathi, P. (2011). Network structure and travel. PhD thesis, University ofMinnesota.',\n",
       " '23': 'Parthasarathi, P., Levinson, D., & Karamalaputi, R. (2003). Induced demand: A',\n",
       " '24': 'microscopic perspective. Urban Studies, 40(7), 1335–1351.',\n",
       " '25': 'Qiang, Q., & Nagurney, A. (2008). A uniﬁed network performance measure with importance identiﬁcation and the ranking of network components. Optimization Letters, 2(1), 127–142.Sakakibara, H., Kajitani, Y., & Okada, N. (2004). Road network robustness for avoiding functional isolation in disasters. Journal of Transportation Engineering, 130(5), 560–567.',\n",
       " '26': 'Scott, D., Novak, D., Aultman-Hall, L., & Guo, F. (2006). Network robustness links and evaluating the Journal of Transport Geography,index: A new method for identifying critical performance of 14(3), 215–227.',\n",
       " '27': 'transportation networks.',\n",
       " '28': 'Sheikh Mohammad Zadeh, A., & Rajabi, M. A. (2013). Analyzing the effect of the street network conﬁguration on the efﬁciency of an urban transportation system. Cities, 31, 285–297.Stead, D., & Marshall, S. (2001). The relationships between urban form and travel patterns. An international review and evaluation. European Journal of Transport and Infrastructure Research, 1(2), 113–141.',\n",
       " '29': 'Tampere, C. M., Stada,Immers, B., Peetermans, E., & Organe, K. (2007). Methodology for identifying vulnerable sections in a national road network. Transportation Research Record: Journal of the Transportation Research Board, 2012, 1–10.J.,',\n",
       " '30': 'Vitins, B., Garcia-Dorado,I., Vanegas, C., Aliaga, D., & Axhausen, K. (2013). Evaluation of shape grammar rules for urban transport network design. In Transportation research board 92th annual meeting (pp. 13–3834).Von Neumann, J. (1956). Probabilistic logics and the synthesis of reliable organisms',\n",
       " '31': 'Barcelona, Ajuntament (2010). Dades bàsiques de mobilitat. <http://w110.bcn.cat/',\n",
       " '32': 'Change, 28(2), 147–172.',\n",
       " '33': 'of urban road networks. Networks and Spatial Economics, 1–26.from unreliable components. Automata Studies, 34, 43–98.',\n",
       " '34': '',\n",
       " '35': 'Walker, G., Kulash, W., & McHugh, B. (2000). Downtown streets: Are we strangling ourselves in one-way networks? In TRB circular E-C019: Urban street, symposium, F-2.Xie, F., & Levinson, D. (2011). Evaluating the effects of the I-35W bridge collapse on road-users in the twin cities metropolitan region. Transportation Planning and Technology, 34(7), 691–703.Wardrop,',\n",
       " '36': 'J. G. (1952). Some theoretical aspects of road trafﬁc research.',\n",
       " '37': 'In Proceedings – Institution of civil engineers – Part 2: Research and theory (Vol. 1, pp. 325–378).Zhu, S., Levinson, D., Liu, H., & Harder, K. (2010). The trafﬁc and behavioral effects of the I-35W Mississippi river bridge collapse. Transportation Research Part A: Policy and Practice, 44(10), 771–784.',\n",
       " '38': 'Xie, F., & Levinson, D. (2009). Topological evolution of surface transportationnetworks. Computers, Environment and Urban Systems, 33(3), 211–223.Cities 36 (2014) 18–27Contents lists available at ScienceDirectCitiesj o u r n a l h o m e p a g e : w w w . e l s e v i e r . c o m / l o c a t e / c i t i e sTrafﬁc performance on quasi-grid urban structures Javier Ortigosa a,⇑, Monica Menendez ba Institute for Transport Planning and Systems, ETH Zurich, HIL F 37.3 Wolfgang-Pauli-Strasse 15, 8093 Zurich, Switzerland b Institute for Transport Planning and Systems, ETH Zurich, HIL F 37.2 Wolfgang-Pauli-Strasse 15, 8093 Zurich, Switzerlanda r t i c l ei n f oa b s t r a c tArticle history: Received 25 December 2012 Received in revised form 19 August 2013 Accepted 30 August 2013 Available online 26 September 2013Keywords: Link removal Urban pattern Trafﬁc performance GridCities across the world are starting to recover space, previously devoted to cars, for other uses. The main purpose of this paper is to better understand the removal of space in urban settings and to provide some analytical results showing that it is possible to remove streets from a city without worsening trafﬁc excessively.We have created an abstract grid network composed of 100 nodes and bidirectional streets. A simple demand model is applied to load the network effectively, emulating a dense urban environment. We have developed a static trafﬁc assignment model using the Frank–Wolfe algorithm. The link removal strategies seek to represent city planning policies aiming at recovering space for other activities. Links are removed following three different strategies: in a total random manner, focusing on the center of the grid, and focusing on the perimeter of the grid. Up to 30% of the total links of the full grid are removed.The results indicate that a certain number of links can be removed without affecting trafﬁc consider- ably. As it will be seen, this magnitude is very dependent on the link removal strategy. Our case covers a homogeneous grid with uniform demand where the central links carry higher ﬂow. For that, the periph- eral removal allows the highest rate of link removal, whereas the central removal is the most restrictive strategy. The restriction of capacity at intersections is the main bottleneck of the system when links are removed, driving most of the increase in delays. Under these conditions, the peripheral removal retains a higher connectivity in the center, allowing a better distribution of ﬂows.(cid:2) 2013 Elsevier Ltd. All rights reserved.IntroductionSince the 1950s, with the advent of the automobile, many cities have experienced urban changes to devote more space and infra- structure to cars. This, in turn, has modiﬁed the travel behavior and the activities carried out in cities. This cycle has then become unsustainable: increasing capacity for cars, increases induced de- mand, and negative externalities. Fortunately, in the last decades, cities are trying to revert this cycle and shift toward more sustain- able urban environments. They are aiming at recovering space from cars to ﬁnd a more balanced mode share and higher living standards.',\n",
       " '39': 'The European Commission (2004) presented the positive expe- rience of many European cities that have restricted car usage in their city centers. The result is that cities not only gain in sustain- ability and livability, but trafﬁc is reduced overall. This phenome- non, called trafﬁc evaporation and based on empirical evidence, describes the reduction of car usage when infrastructure capacity is restricted. In the U.S., these urban planning policies are also',\n",
       " '40': '⇑ Corresponding author. Tel.: +41 44 633 94 15.E-mail address: javier.ortigosa@ivt.baug.ethz.ch (J. Ortigosa).',\n",
       " '41': '0264-2751/$ - see front matter (cid:2) 2013 Elsevier Ltd. All rights reserved. http://dx.doi.org/10.1016/j.cities.2013.08.006gaining popularity after several cities have started removing freeway links (Billings, 2011).The city structure (i.e., urban pattern) has a prime role in the performance of trafﬁc. In the complex environments that cities present, we believe that it is very relevant to study the effects of the urban pattern on trafﬁc, in order to design more efﬁcient struc- tures, taking better advantage of the space. By the same token, this would also allow us to recover space for other activities while keeping the same level of service for cars. Unfortunately, trafﬁc modeling tools have not always been fully employed for that pur- pose. This paper aims at ﬁlling that gap.The positive effects of space removal in cities (e.g., trafﬁc reduc- tion) are typically observed in the medium-long term, due to the rearrangement of trafﬁc demand. In the short term, the trafﬁc tends to worsen since demand has not yet changed and the supply is reduced (European Commission, 2004). However, this has not been clearly evaluated yet. In any case, the removal of space in ur- ban settings requires a strong political will and involves a signiﬁ- cant amount of risk. According to Cairns, Atkins, and Goodwin (2002), different cases of space removal, the trafﬁc predictions are often too alarmist (i.e., the trafﬁc situation predicted is much worse than it really is). They presented some short term evalua- tions (less than one year after) of the trafﬁc impacts of link/capac- ity removal. For many of the cases presented, the trafﬁc volumes inthe alternative routes increased after the removal, but the total number of cars decreased. Unfortunately, it is unclear how these alternative routes were chosen, and if the whole surrounding traf- ﬁc was included. The evaluation also lacked details on trafﬁc im- pacts on drivers (e.g., how much did the travel time worsen?) and on the city (e.g., was there a reduction on the veh-km travelled in the overall area?). Our research seeks to address that type of questions by understanding and quantifying how the removal of links affects trafﬁc on an urban area (both drivers and the city) in the short term (before demand rearranges). Moreover, it evalu- ates the impacts of link removal as a function of the general loca- tion where it is performed.The study focuses on one of the most common urban structures, the grid. It explores the behavior and the properties of trafﬁc based on an abstract grid and different sub-patterns created by removing links from this initial structure. The purpose of this removal is to see how vulnerable the grid pattern is to these changes, and to understand where the removal is more feasible (i.e., produces less impact to the system). Summarizing, the objectives of this paper are the following:– To better understand the behavior of grid-like patterns when dealing with trafﬁc. This could allow us to identify the weaknesses and strengths of the system.– To evaluate the effects that the removal of links have in the overall trafﬁc performance of the system. We want to see how much space (in link units) could be recovered for other activities (e.g., public transport, public spaces, pedestrian streets) while keeping acceptable trafﬁc conditions.To do so, we consider a regular grid abstract street network of 100 intersections. Employing simple trip demand assumptions, we assign trips using a static macroscopic trafﬁc assignment which moves the system close to the user’s equilibrium (when drivers cannot individually improve their situation by changing routes). The accuracy of this model has been increased with a more de- tailed intersection modeling scheme. Later, we carry out the link removal and trafﬁc is assigned again. This link removal process is performed in three different ways. First, different sets of links are removed in a random manner. Second and third, the removal oper- ation is repeated assigning a higher weight depending on the dis- tance to the center (central and peripheral removal, respectively). For each case, we have analyzed certain trafﬁc indicators in order to assess the effect of the link removal on the performance of trafﬁc.The paper is structured in the following way. Section ‘‘State of the art’’ presents a summary of the literature review. Sec- tion ‘‘Methodology’’ describes the characteristics of the grid and the methodology employed (demand, trafﬁc assignment, link re- moval, indicators). Section ‘‘Analysis of results’’ shows and dis- cusses the model. Section ‘‘Conclusions’’ summarizes the main ﬁndings of this paper.the outcomes ofState of the artThe existing literature on the study of urban patterns is very extensive and the perspectives very diverse. In this section, we try to summarize these different research views in order to justify the need for our work.Urban form and travel behaviorThere is an important ﬁeld of research that studies how the ur- ban form (location, land use, size and shape of settlements, popu- lation density, road network, and urban layout (Stead & Marshall,2001)) affects the travel behavior. Many of the existing research works study real cities and the relation between urban form factors and travel characteristics such as mode choice, vehicle miles trav- elled, or travel time (e.g., Cervero & Gorham, 1995; Crane & Cre- peau, 1998; Frank & Pivo, 1994; Levinson & Kumar, 1997). However, the connection to trafﬁc presented in these studies is still weak, as they mostly cover the interaction between urban pattern and demand, not trafﬁc operations.',\n",
       " '42': 'Spatial analysis of citiesThe way cities are built and organized has motivated a lot of re- search in the spatial study of urban patterns. Graph theory has been used to ﬁnd properties of urban networks such as connectiv- ity (e.g., Garrison & Marble, 1961; Kansky, 1963) or centrality mea- sures (e.g., Freeman, 1979; Sheikh Mohammad Zadeh & Rajabi, 2013). Other studies have focused in comparing urban networks with other network types and recognizing common patterns using graph theory (e.g., Chan, Donner, & Lämmer, 2011; Jiang, 2007; Jiang & Claramunt, 2004; Lämmer, Gehlsen, & Helbing, 2006). Urban planners and designers have also proposed design guidelines based on the spatial analysis of cities (see Marshall, 2004), e.g., following shape grammar rules (e.g., Alexander et al., 1977; Vitins, Garcia-Dorado, Vanegas, Aliaga, & Axhausen, 2013). Among the spatial analysis studies, only some works take into account trafﬁc modeling, either implementing some trafﬁc assign- ment (e.g., Scott, Novak, Aultman-Hall, & Guo, 2006; Sheikh Mohammad Zadeh & Rajabi, 2013; Vitins et al., 2013; Xie & Levin- son, 2009) or collecting real trafﬁc data (e.g., Hackney, Bernard, Bindra, & Axhausen, 2007; Parthasarathi, 2011).',\n",
       " '43': 'Reliability and resilience of transport networksNetworks are composed of many elements, and often, it is hard to evaluate how they individually affect the performance of the whole system. Much research has been devoted to analyze the im- pacts of the failure of one or several elements in a network. The studies of network reliability started with computer and biological networks (Von Neumann, 1956). Concepts were later extended to transportation networks in order to evaluate the potential impact of different types of disruption (e.g., construction works, conges- tion, accidents) and to better plan evacuations and the response to other critical situations, e.g., natural disasters (e.g., Bell, 2000; Erath, Birdsall, Axhausen, & Hajdin, 2009; Jenelius, 2009; Jenelius, Petersen, & Mattsson, 2006; Knoop, van Zuylen, & Hoogendoorn, 2008; Qiang & Nagurney, 2008; Sakakibara, Kajitani, & Okada, 2004; Tampere, Stada, Immers, Peetermans, & Organe, 2007). The basic reliability indicators are borrowed from graph theory and analyze the connectivity of the network (Aymerich & Robuste, 1990; Du & Nicholson, 1997). The idea is, typically, to elaborate some topological indexes to identify the most vulnerable links in the networks, or as Scott et al. (2006) do, the links that have the greatest impact on travel times. There are some studies that partic- ularly focus on how the demand rearranges in the network once an element fails (Parthasarathi, Levinson, & Karamalaputi, 2003; Xie & Levinson, 2011; Zhu, Levinson, Liu, & Harder, 2010).Notice that some of these papers, although highly related to our topic, still lack elements regarding the spatial organization of traf- ﬁc (characteristics of the streets and intersections). Moreover, in our research, we consider the impact of removing several links and not only the impact of speciﬁc links. The reason for that is the belief that urban strategies are typically not focused on a par- ticular link but are conceived in a more general way (removing more links). Also, from a mathematical point of view, ﬁnding a crit- ical combination of links might be unfeasible. If we remove the critical link each time in a consecutive manner, the resultingcombination is not necessarily the most critical one (i.e., removing other links which individually are not that critical can be worse for the system). The problem then becomes a combinatorial search that can be very costly and does not necessarily represent an urban policy.Trafﬁc analysis in networksTrafﬁc modeling techniques have been widely researched; how- ever, applications for achieving more efﬁcient networks are not that extensive. One particular research ﬁeld very linked to our present research is the analysis of one-way versus two-way street networks (e.g., Gayah & Daganzo, 2012; Walker, Kulash, & McHugh, 2000). These studies try to ﬁnd more efﬁcient network conﬁgurations (given the current pattern) for better trafﬁc. Gayah and Daganzo (2012) calculated the maximum capacity of intersec- tions depending on the network conﬁguration, considering the trade-off between the ﬂexibility in routes (more movements al- lowed) and the intersection capacity. Their analytical formulations were simple and insightful, but only valid under idealized conditions.Another approach for the improvement of trafﬁc in urban net- works is safety (e.g., Marshall & Garrick, 2010). Urban networks have many conﬂicting points, especially in intersections. Eichler, Bar-Gera, and Blachman (2012) created a network with low con- ﬂict intersections. This innovative design can obviously improve safety but as well reduce delays at intersections making trafﬁc more ﬂuid. Our research can beneﬁt from the ﬁndings in this ﬁeld.MethodologyNetwork designThe abstract network used in this paper is a grid, representing a dense city environment. Our analysis starts with a regular grid (square blocks) where every node has four street connections and represents a four-way signalized intersection (except in the perimeter). Every link represents a two-way street with saturation ﬂow of 1800 veh/h for each direction, and they are all 111 m long. The total area of analysis considered is 1 km2 (100 nodes, Fig. 1a). The idea is to emulate reality (in this case a dense urban network) as accurately as possible but without the loss of generalization.The intersections play a determinant role in the trafﬁc assign- ment model, and speciﬁc links have to be created to represent their delay (Fig. 1b). Although streets only have one lane per direction, in intersections, for every incoming direction an extra lane is added to separate cars that want to turn left (4 leg and 3 leg intersections,Demand on the networkIn order to load the grid with trafﬁc ﬂows, we need to assume a demand model (trip generation and distribution). For the sake of simplicity, we consider a uniform demand model where every node exchanges the same amount of trips with all the other nodes. The number of trips between nodes i and j, Tij, is:T ij ¼ s; if i–j or T ij ¼ 0; if i ¼ jð1ÞDifferent levels of s (the number of trips exchanged between two nodes) provide different levels of demand in the network. A rough estimation with macroscopic data, population and trafﬁc distribution assumptions from (Barcelona, 2010), yields an average of 10,000 trips/h-km2 in the central and grid-like neighborhood of Barcelona, Eixample. That magnitude would account for a value of s = 1.12 trips (11,088 trips in the 1 km2 grid). As we will see, although this value does not overload the system when the grid is complete, as soon as links are removed, some intersections start to show really high volume to capacity ratios. Notice that the streets of Eixample have higher capacity than those in our grid.',\n",
       " '44': 'Trafﬁc assignment modelThe trafﬁc assignment model allocates ﬂows according to the user’s equilibrium (Wardrop, 1952). The model we employ follows the approach used by LeBlanc, Morlok, and Pierskalla (1975) with the Frank-Wolfe (FW) algorithm (Frank & Wolfe, 1956). It is an iterative process where in every iteration the solution is im- proved. This algorithm presents many advantages (e.g., small stor- age requirements), but it also has some drawbacks (e.g., slow convergence, tailing). Nowadays, there are more accurate trafﬁc assignment methods (Bar-Gera, 2010; Dial, 2006); however, we use the FW algorithm here since, for our purposes, it presents rea- sonable levels of accuracy and relatively short computational times (given the amount of nodes and links in our networks).To overcome the asymmetry of the problem, while keeping the simplicity of our trafﬁc assignment technique, we have created 16 dummy links to represent intersection movements. These links have a ﬁctitious capacity and distance; 8 of them have a zero cost and 8 have a non-zero cost. Delay at intersections is emulated using a travel time function as in the other links. There are as well 8 dummy links with zero cost that are used for sending and',\n",
       " '45': 'receiving the trips to and from the network (Fig. 1b). Similar solutions are suggested in (e.g., Branston, 1976; Koutsopoulos & Habbal, 1994).Travel time function on linksThe travel time function provides the total travel time given the volume in the link and its capacity (for a theoretical background see Koutsopoulos & Habbal, 1994). Here, we use the BPR function (Bureau of Public Roads, 1964) that is widely employed across the world:TT ij ¼ TT 0(cid:2) ij 1 þ aðV ij=CijÞb(cid:3)',\n",
       " '46': 'ð2Þwhere TTij is the travel time on the link ij, TT 0 ij is the free ﬂow travel time on that link, Vij is the volume in the link, Cij is the capacity, and a and b are parameters that come from experimental observations. We will employ the original parameters of the BPR function: a = 0.15 and b = 4.Delay at intersections',\n",
       " '47': 'We use a delay formulation for the ﬁctitious links (see Fig. 1b) to overcome the asymmetry of the problem (so delays on links de- pend uniquely on the ﬂows on them). This approach emulates the delay at signalized intersections. Unfortunately, most of the travel time functions for intersections, e.g., HCM-2010 (Highway Capacity Manual, 2010), do not fulﬁll the requirements to be applied in the trafﬁc assignment model (they are not differentiable). To solve that, we have adjusted to the HCM-2010 formulation a 3 piece- wise function that is continuous and differentiable. The ﬁrst and last parts are linear, and the intermediate one is a 3rd degree poly- nomial function.For each 4 leg intersection (without link removal), we have considered 17 s of effective green for the straight and right turn movements, and 8 s for the left turn movement, out of a total cycle of 60 s including 10 s of lost time. Considering a saturation ﬂow of 1800 veh/h, the total capacity for the straight and right turn movements combined is 510 veh/h, and for the left turn movement 240 veh/h. Since the straight and right turn move- ments share the capacity, the delay is allocated jointly. This is the function of the dummy link situated before the straight and right movements. When a link is removed, the intersection becomes a 3 leg node. In that setting, we consider three phases of 15 s each and a total of 15 s lost time. All the movements have equal capacity of 450 veh/h. Notice that the lost time is larger than for 4 leg nodes. Although not very realistic, this is a consequence of averaging capacities given the large number of possible combinations in 3 leg nodes. The analysis time for calculating the delay with the HCM-2010 expression is 1 h, and the incremental delay factor (k) (see HCM-2010 formulation) is 0.5.',\n",
       " '48': 'Validation, convergence, and stability of the algorithmTo validate our algorithm, the known problem of Sioux Falls was employed. There are 24 zones, 24 nodes, and 76 links. Travel time in links is estimated with Eq. (2) (a = 0.15 and b = 4). In (Bar-Gera, 2001), both the input data and the best known solution are provided. For that problem, our algorithm achieves a relative gap in travel times of 1E-4 in 1.3 h. Our grid has 100 origin/desti- nation nodes, and the design of the more complex intersections creates a network of 1300 nodes and 2404 links. In addition, for every removal strategy, we perform 1080 different trafﬁc assign- ments, 60 repetitions every time we remove 3 links (see Section 4).Achieving the same level of accuracy as in the validation problem becomes unfeasible.Hence, we have relaxed our convergence criterion by employing the relative variation of ﬂows between two consecutive iterations. To do that, we add the difference in ﬂows (in absolute values) from all the links between two consecutive iterations and divide it by the total amount of ﬂows in the previous iteration. When this value is smaller than 1%, we stop the trafﬁc assignment. That usually happens after approximately 30–60 iterations. Although this num- ber of iterations might seem very low, for our purposes the ob- tained level of accuracy is reasonable. We demonstrate so by comparing the outputs of a trafﬁc assignment performed in the full grid problem with 50 and 10,000 iterations. As a matter of exam- ple, the relative error of the total travel time between the two cases is 0.2%. These differences do not affect our more general and mac- roscopic analysis, and this convergence criterion saves consider- able computational efforts. However, it is true that very similar solutions in total travel time might still provide signiﬁcant differ- ences on particular indicators related to the ﬂow distribution (e.g., maximum volume to capacity ratios) when having stricter convergence criterion or employing more efﬁcient methods (as those in e.g., Bar-Gera, Nie, Boyce, Hu, & Liu, 2010). Nonetheless, we believe that averaging 60 cases can smooth these inconsisten- cies and provide the general trend we are pursuing with this research.We have detected some cases, for smaller networks and lower demands, where our trafﬁc assignment was unstable (in certain iterations, the trafﬁc assignment did not ﬁnd a feasible step length). This might be caused by the fact that straight and right dummy links at intersections have a ﬁxed cost. Notice, however, that these instabilities have not been detected in any of the exper- iments here presented. Moreover, we believe that the possible errors created by such instabilities are negligible given the macroscopic nature of our algorithm.Link removalThe idea is to remove links from the grid following an iterative process. For a valid removal, all nodes must remain connected. Three strategies are used. With the ﬁrst strategy, every combina- tion of links removed is selected randomly. With the second and third strategy, we implement a random process inﬂuenced by the distance to the geometric center of the square that the grid occu- pies. For every link, the Euclidian distance from its middle point to the center is calculated. We use the Euclidian distance instead of the shortest path in the graph because the earlier one does not depend on the link removal process or other properties of the grid (e.g., scale of the blocks) and yet provides a good measure of geo- metrical centrality. With the central removal strategy, links are more likely to be removed in the center, whereas with the periph- eral removal strategy, links are more likely to be removed in the perimeter of the grid.As soon as we remove links, the intersections might change. Many 4 leg intersections (12 possible movements) become 3 leg intersections (6 possible movements); and in the case of only two links meeting on a node, since there are not any conﬂicting movements, full capacity is assigned to the two possible directions.Trafﬁc indicatorsSince the trafﬁc assignment model is static, not all of the trafﬁc indicators can be extracted. The analysis possibilities are limited, as the time dimension and the spatial spread of queues are not considered (a dynamic trafﬁc assignment method is needed for that). The indicators employed to represent the trafﬁc and travel behavior in this paper are the following:',\n",
       " '49': '– Total travel time: the main indicator of the cost for the system. – Total distance travelled: an indicator on the sustainability of the network (i.e., how efﬁciently the system is able to connect the demand nodes).– Average speed: an indicator of the level of congestion in thenetwork.– Volume to capacity ratio (V/C): same as the speed, a proxy for congestion. In addition, an indicator of the level of demand (and importance) of an speciﬁc link or node within the network. The average and maximum V/C ratios across the network will be calculated.– Delay at intersections: a quantiﬁcation, in travel time terms, ofthe impact of intersections.– Maneuvers at intersections: an indicator of how the intersec- tions are used. The percentage of right turn, left turn, and straight movements are studied.Analysis of results',\n",
       " '50': 'Methodology of the experimentsThis section presents the results obtained after running our traf- ﬁc assignment model. Starting from the full grid network (Fig. 2a), we follow an iterative process removing 3 links on every iteration until 30% of the links are removed. Since the process is random, dif- ferent network structures are obtained every time. For that reason, we repeat this process 60 times (obtaining 60 network cases at every iteration). The same procedure is repeated for all the removal strategies: random (Fig. 2b), central (Fig. 2c), and peripheral (Fig. 2d). The demand employed (s = 1.12) corresponds to a magni- tude of 11,088 trips/h-km2 (see Section \"Methodology\").Travel time',\n",
       " '51': 'We observe that the total travel time increases drastically when 30% of the links are removed. There are many measures of central- ity in a network, e.g., betweenness (Freeman, 1979; Sheikh Mohammad Zadeh & Rajabi, 2013). But for simplicity, let us look at the ﬂow that a link carries. We could say that the higher the ﬂow is, the more routes that pass through that link and hence the more relevance that this link has within the system. Given the character- istics of our network, central links concentrate more ﬂow because the network is homogeneous and demand uniform (Fig. 2a). Notice that in more heterogeneous networks (e.g., with different streethierarchies), these conditions might not hold. As depicted in Fig. 2, the effect of link removal is signiﬁcantly worse for central re- moval (Fig. 3b) than for peripheral removal (Fig. 3c). Logically, ran- dom removal values are between these two strategies (Fig. 3a) and the results present more variability (i.e., more differences in values for a given removal percentage).Evidently, especially for the random removal, tak as a reference, the average value does not guarantee that certain removal conﬁg- urations do not make the system worse.Distance travelled and speed',\n",
       " '52': 'A complete grid structure (every node has 4 connections) allows to take many different routes with the same length. When certain routes are more congested, cars can take faster alternatives with- out being penalized with additional travel distance. However, the link removal not only makes certain routes more congested, but it also reduces connectivity and then the availability of alternative routes. Fig. 4a depicts a similar relationship as in Fig. 3d for the dif- ferent removal strategies, but as a function of total distance trav- elled. The less harmful strategy is the peripheral removal, whereas the central removal increases distance considerably. Since with this strategy the center loses connectivity but not the perim- eter, trips must take the surrounding roads to reach the central nodes. This triggers the rapid increase in total distance travelled. However, it can be observed how the distance reaches a point (around 1.8) where it does not increase anymore. As mentioned earlier, the total distance travelled cannot increase indeﬁnitely be- cause the space is limited. Moreover, when links from the outskirts start to be removed, vehicles cannot take longer (but faster) routes anymore. Recall that certain level of connectivity must be pre- served as all nodes remain always connected.The average speed calculated here is the relationship between the total travel time and the total distance travelled. The starting average speed is approximately 16 km/h. As Fig. 4b shows, during the ﬁrst stages of link removal, this speed is maintained (except for the central removal where the value drops quickly from the begin- ning). After 15% of links are removed, the system worsens rapidly and the averages drop to values close to 4 km/h. Although that can seem unrealistic, some empirical works (Menendez & Ge, 2012) have shown that speeds on cities can be very low in peak hours (e.g., 4.5 km/h for certain routes in Zurich, Switzerland).IntersectionsIntersections are the bottleneck of the system triggering most of the increases in travel time. In the full grid, time spent on an intersection accounts for approximately 70% of the total travel time. However, when 30% of the links are removed, intersectionsloaded (e.g., a network divided into two parts only connected by one link), on average the central removal still performs the worst. The delay at intersections is related to the load on the intersections (Fig. 5b). The maximum values of the V/C ratio at intersections follow the same evolution as the other indicators: removal presents the worst values and peripheral central removal the best ones. Moreover, although not shown here for the sake of space, the difference between average and maximum V/C ratios increases as a function of the removal rate. This is not surprising as the system is used less homogeneously when we remove links.We have looked as well at the number of maneuvers at the intersections (Fig. 6). Not surprisingly, for central removal, not only the delay on intersections is bigger, but the number of movements on intersections is almost twice as that from the peripheral re- moval. This makes sense as routes are longer now, and cars must navigate through more intersections on every trip. Fig. 6d shows how many movements (on average) were performed on each inter- section. The peripheral removal, which has the best results for each indicator, presents a signiﬁcantly higher share of ﬂows in 4 leg intersections in comparison with the other strategies. Retaining the largest number of 4 leg intersections (keeping the central area fairly well connected) allows the system to better absorb the link removal and to reroute trips homogeneously on the grid (Fig. 2). In other words, the high connectivity in the center offers shorter routes (less overall ﬂows), but most importantly offers more alter- natives to allocate ﬂows. This property of the full grid that the peripheral removal is able to keep better than the other strategies is the key to not having excessive loads at intersections and limit- ing the increase in total travel time.When links are removed, the number of alternatives for any given route decreases. This creates very loaded paths that impactaccount for approximately 84% of the total travel time for periph- eral removal and 97% for central removal (Fig. 5a). Although with the random removal strategy, some conﬁgurations are verygreatly some intersections. On the other hand, when links are removed, a higher capacity is given to the intersections involved in the removal because conﬂicting movements on them is re- duced. Fig. 7 shows the difference in total travel time between the link removal process carried out in this paper (Fig. 3) and a link removal process without giving more capacity to the intersections (i.e., each movement on each intersection has the same capacity as in the initial grid independently of the links re- moved). It can be observed how for low removal rates, giving more capacity to intersections creates some cases where the total travel time is inferior to the full grid case (Fig. 7a). In those cases, the removal of links makes the system better in terms of travel times due solely to the gain in capacity at the intersections. Peripheral removal presents more cases of lower total travel time for low removal rates, as it can be observed in Fig. 3c. We also see how for low link removal rates, the difference between the two curves is small in comparison with high removal rates, where the extra intersection capacity represents signiﬁcant savings in total travel time (Fig. 7b). This makes sense, as the main cause of increase in travel times is the extreme load that some intersec- tions must cope with. If we restrict the extra capacity gained at intersections due to link removal, the V/C ratio becomes even big- ger and generates even more delay. The gains in travel time are seen better in congested cases (e.g., high removal cases). However, this gain is somehow ﬁctitious because removing links intersections, only with the purpose of gaining capacity at improves the system in the ﬁrst stages and only for some cases (Fig. 7a). After that, with more link removal, the system will always get worse.(e.g., s = 2.12 trips) where small amounts of removal could create signiﬁcant increases in travel time.ConclusionsCities across the world are starting to recover space, previously devoted to cars, for other uses. This initiative, however, often brings a lot of controversy because, in the short term, without rear- rangement of demand, the removal of space most likely will make the trafﬁc situation worse. That fear often hinders urban policies that aim at space recovery. The goals of this paper are precisely to better understand the removal of space in urban settings, and to evaluate how this removal affects drivers and the overall system. For that purpose, we have studied an abstract grid network that represents an urban environment where we have removed links in three different ways: randomly, focusing on the center of the grid, and focusing on the perimeter. We have analyzed 60 removal sequences for each strategy, from the full grid to 30% of the links removed. In each iteration, we remove 3 links and we assign trafﬁc following a static macroscopic scheme based on the FW algorithm, so the system tends toward the user’s equilibrium.The results of this paper help us understand how grid urban systems behave. In our case, where all streets have the same char- acteristics and demand is uniform, central streets concentrate more ﬂow. Notice that despite the fact that our analysis focuses on a very particular case, we believe that the behavior can be extrapolated to other networks. That being said, caution must be exercised with any generalization, as in very heterogeneous net- works these ﬁndings might not hold.Summarizing, in light of the results obtained, we can say that:– The full grid is a robust trafﬁc system that allows a certain degree of link removal without affecting trafﬁc conditions con- siderably. It is possible for a high connected city with an urban structure similar to a grid pattern, to recover space from cars without penalizing drivers signiﬁcantly.– The link removal strategy clearly inﬂuences the number of links that can be removed. In our case, the peripheral removal provides the best results and the central removal the worst ones.– The intersections are the critical points in our network. Oversat- urated intersections create delays that affect signiﬁcantly the whole system. In addition, since the signal control is ﬁxed, there is more capacity that is wasted because although some move- ments might be very loaded, others might not.– The availability of many different routes is the key to achieve more homogeneous ﬂow distributions and hence, not extreme trafﬁc loads in particular intersections. The high connectivity in the center of the grid is what guarantees the redundancy of routes making the network more efﬁcient and resilient. It also offers shorter routes to drivers. This leads to less overall dis- tance travelled, which in turn, is directly related to the total ﬂows in the network.– The gain in capacity at intersections by limiting movements when links are removed reduces the overall travel time only for certain cases at low removal rates (this is more likely to hap- pen for peripheral removal). However, removing links might also create less connected intersections. That limits the spread of trafﬁc and the availability of routes, worsening the system. This is the case of the central removal.These conclusions do not necessarily advocate for prohibiting re- moval in the center, which might also be the most important place to actually recover space for other activities. In fact, the same argument of the central connectivity could be employed to increase theDemandThe results presented above are restricted to this particular model and to the demand pattern and values considered. Our de- mand model is uniform, as explained earlier. The number of trips interchanged between nodes (in our case s = 1.12 trips) determines the demand load (11,088 trips in the 1 km2 grid). We considered that this number of trips loads the system effectively and repre- sents a dense urban setting. However, for the sake of completeness, we ran our model considering higher demand loads (s = 1.62 trips producing 15,878 trips in total; and s = 2.12 trips producing 20,778 trips in total). The overall patterns remain the same, and the rest of the ﬁndings still hold, although evidently, the more loaded the sys- tem is, the less capacity it has to absorb the effects of the link re- moval (see Fig. 8) This is especially relevant for high demands',\n",
       " '53': 'presence of public transport lines. Although central removal is the most restrictive strategy, the system allows certain degree of removal without signiﬁcantly increasing total travel time. On the other hand, peripheral removal is the least restrictive strategy. The random removal lies in between the two extreme strategies and could emulate an urban planning policy as a combination of central and peripheral strategies. One interesting exercise would be to reproduce different removal patterns representing real world experiences and see under in which type of category they fall.The present research can be extended in many different direc- tions. We have chosen three main areas to focus on the future. We believe it is worth to investigate other strategies to remove capacity from the network (e.g., removing lanes, removing full cor- ridors). Similarly, there might be beneﬁts from exploring other net- work conﬁgurations that provide a different trade-off between ﬂexibility in routes and capacity at intersections (e.g., unidirec- tional streets).The static trafﬁc assignment model is a compromise between the accuracy and the complexity of the algorithm. However, it does not explain how the congestion spreads spatially and how the de- mand rearranges in response to the new conditions. In the future, employing a dynamic trafﬁc assignment model could be conve- nient to evaluate these effects.Finally, all the experiments were carried out considering a uni- form demand. Keeping the simplicity on demand assumptions, in the future we could ﬁnd different variations both spatially and temporally that allow us to see the behavior of the grid pattern un- der other conditions. In addition to this, being able to represent the demand rearrangement phenomenon is a challenging task for the future research.References',\n",
       " '54': 'Alexander, C., Ishikawa, S., Silverstein, M., Jakobson, M., Fiksdahl-King, I., & Angel, S. (1977). A pattern language: Towns, buildings, constructions. Oxford University Press.Aymerich, O., & Robuste, F. (1990). Fiabilidad de redes de transporte bajo condiciones excepcionales. Revista del Ministerio de Transportes, Turismo y Comunicaciones, 42, 25–37.portal/site/Mobilitat>.~bargera/tntp/>.Bar-Gera, H. (2001). Transportation network test problems. <http://www.bgu.ac.il/Bar-Gera, H.',\n",
       " '55': '(2010). Trafﬁc assignment by paired alternative segments.Transportation Research Part B: Methodological, 44(8), 1022–1046.',\n",
       " '56': 'Bar-Gera, H., Nie, Y., Boyce, D., Hu, Y., & Liu, Y. (2010). Consistent route ﬂows and the In Transportation research board 89th annual',\n",
       " '57': 'condition of proportionality. meeting (pp. 10–1526).Bell, M. G. (2000). A game theory approach to measuring the performance reliability of transport networks. Transportation Research Part B: Methodological, 34(6), 533–545.Billings, J. (2011). The impacts of road capacity removal. Master’s thesis, University ofBranston, D. (1976). Link capacity functions: A review. Transportation Research,',\n",
       " '58': 'Connecticut.10(4), 223–236.Bureau of Public Roads (1964). Trafﬁc assignment manual. Washington DC: US',\n",
       " '59': 'Department of Commerce, Urban Planning Division.',\n",
       " '60': 'Cairns, S., Atkins, S., & Goodwin, P. (2002). Disappearing trafﬁc? The story so far. Proceedings of the Institution of Civil Engineers Municipal Engineer, 151(1), 13–22. Cervero, R., & Gorham, R. (1995). Commuting in transit versus automobile neighborhoods. Journal of the American planning Association, 61(2), 210–225. Chan, S., Donner, R., & Lämmer, S. (2011). Urban road networks spatial networks with universal geometric features? The European Physical Journal B – Condensed Matter and Complex Systems, 84(4), 563–577.',\n",
       " '61': 'Crane, R., & Crepeau, R. (1998). Does neighborhood design inﬂuence travel? A behavioral analysis of travel diary and GIS data. Transportation Research Part D: Transport and Environment, 3(4), 225–238.',\n",
       " '62': 'Dial, R. (2006). A path-based user-equilibrium trafﬁc assignment algorithm that obviates path storage and enumeration. Transportation Research Part B: Methodological, 40(10), 917–936.Du, Z. P., & Nicholson, A. (1997). Degradable transportation systems: Sensitivity and reliability analysis. Transportation Research Part B: Methodological, 31(3), 225–237.',\n",
       " '63': 'Eichler, D., Bar-Gera, H., & Blachman, M. (2012). Vortex-based zero-conﬂict designErath, A., Birdsall, J., Axhausen, K. W., & Hajdin, R. (2009). Vulnerability assessment methodology for Swiss road network. Transportation Research Record: Journal of the Transportation Research Board, 2137, 118–126.European Commission (2004). Reclaiming city streets for people: Chaos or quality of',\n",
       " '64': 'life? Directorate-General for the Environment.Frank, L., & Pivo, G. (1994). Impacts of mixed use and density on utilization of three modes of transit, and walking. travel: Single-occupant vehicle, Transportation Research Record: Journal of the Transportation Research Board, 1466, 44–52.',\n",
       " '65': 'Frank, M., & Wolfe, P. (1956). An algorithm for quadratic programming. NavalResearch Logistics Quarterly, 3(1–2), 95–110.',\n",
       " '66': 'Freeman, L. (1979). Centrality in social networks conceptual clariﬁcation. SocialNetworks, 1(3), 215–239.',\n",
       " '67': 'Garrison, W. L., & Marble, D. F. (1961). The structure of transportation networks. Draft of a report submitted October 31, 1961 to US Army Transportation Research Command, Fort Eustis, Virginia, by the Transportation Center at Northwestern University under contract DA-44-177-TC-685. Transportation geography study. Evanston, IL: Transportation Center at Northwestern University.',\n",
       " '68': 'Gayah, V., & Daganzo, C. (2012). Analytical capacity comparison of one-way and two-way signalized street networks. Transportation Research Record: Journal of the Transportation Research Board, 2301, 76–85.Hackney, J., Bernard, M., Bindra, S., & Axhausen, K. (2007). Predicting road system speeds using spatial structure variables and network characteristics. Journal of Geographical Systems, 9(4), 397–417.',\n",
       " '69': 'Highway Capacity Manual (2010). Transportation Research Board (5th ed.). Jenelius, E.',\n",
       " '70': '(2009). Network structure and travel patterns: Explaining the geographical disparities of road network vulnerability. Journal of Transport Geography, 17(3), 234–244.Jenelius, E., Petersen, T., & Mattsson, L. (2006). Importance and exposure in road network vulnerability analysis. Transportation Research Part A: Policy and Practice, 40(7), 537–560.',\n",
       " '71': 'Jiang, B. (2007). A topological pattern of urban street networks: Universality and peculiarity. Physica A: Statistical Mechanics and its Applications, 384(2), 647–655. Jiang, B., & Claramunt, C. (2004). Topological analysis of urban street networks.',\n",
       " '72': 'Environment and Planning B, 31(1), 151–162.',\n",
       " '73': 'Kansky, K. (1963). Structure of transportation networks: Relationships between network geometry and regional characteristics. PhD thesis, University of Chicago. Knoop, V., van Zuylen, H., & Hoogendoorn, S. (2008). The inﬂuence of spillback modeling when assessing consequences of blockings in a road network. EJTIR, 4(8), 287–300.',\n",
       " '74': 'Koutsopoulos, H., & Habbal, M. (1994). Effect of intersection delay modeling on the performance of trafﬁc equilibrium models. Transportation Research Part A: Policy and Practice, 28(2), 133–149.',\n",
       " '75': 'Lämmer, S., Gehlsen, B., & Helbing, D. (2006). Scaling laws in the spatial structure of urban road networks. Physica A: Statistical Mechanics and its Applications, 363(1), 89–95.LeBlanc, L., Morlok, E., & Pierskalla, W. (1975). An efﬁcient approach to solving the road network equilibrium trafﬁc assignment problem. Transportation Research, 9(5), 309–318.Levinson, D., & Kumar, A. (1997). Density and the journey to work. Growth and',\n",
       " '76': 'Marshall, S. (2004). Streets and patterns: The structure of urban geometry. Routledge. Marshall, W., & Garrick, N. (2010). Street network types and road safety: A study of24 California cities. Urban Design International, 15(3), 133–147.Menendez, M., & Ge, Q. (2012). Final report on the calibration study for VISSIM (CSV). Technical report for Stadt Zürich, Dienstabteilung Verkehr, by the Institute for Transport Planning and Systems, ETH Zurich.Parthasarathi, P. (2011). Network structure and travel. PhD thesis, University ofMinnesota.',\n",
       " '77': 'Parthasarathi, P., Levinson, D., & Karamalaputi, R. (2003). Induced demand: A',\n",
       " '78': 'microscopic perspective. Urban Studies, 40(7), 1335–1351.',\n",
       " '79': 'Qiang, Q., & Nagurney, A. (2008). A uniﬁed network performance measure with importance identiﬁcation and the ranking of network components. Optimization Letters, 2(1), 127–142.Sakakibara, H., Kajitani, Y., & Okada, N. (2004). Road network robustness for avoiding functional isolation in disasters. Journal of Transportation Engineering, 130(5), 560–567.',\n",
       " '80': 'Scott, D., Novak, D., Aultman-Hall, L., & Guo, F. (2006). Network robustness links and evaluating the Journal of Transport Geography,index: A new method for identifying critical performance of 14(3), 215–227.',\n",
       " '81': 'transportation networks.',\n",
       " '82': 'Sheikh Mohammad Zadeh, A., & Rajabi, M. A. (2013). Analyzing the effect of the street network conﬁguration on the efﬁciency of an urban transportation system. Cities, 31, 285–297.Stead, D., & Marshall, S. (2001). The relationships between urban form and travel patterns. An international review and evaluation. European Journal of Transport and Infrastructure Research, 1(2), 113–141.',\n",
       " '83': 'Tampere, C. M., Stada,Immers, B., Peetermans, E., & Organe, K. (2007). Methodology for identifying vulnerable sections in a national road network. Transportation Research Record: Journal of the Transportation Research Board, 2012, 1–10.J.,',\n",
       " '84': 'Vitins, B., Garcia-Dorado,I., Vanegas, C., Aliaga, D., & Axhausen, K. (2013). Evaluation of shape grammar rules for urban transport network design. In Transportation research board 92th annual meeting (pp. 13–3834).Von Neumann, J. (1956). Probabilistic logics and the synthesis of reliable organisms',\n",
       " '85': 'Barcelona, Ajuntament (2010). Dades bàsiques de mobilitat. <http://w110.bcn.cat/',\n",
       " '86': 'Change, 28(2), 147–172.',\n",
       " '87': 'of urban road networks. Networks and Spatial Economics, 1–26.from unreliable components. Automata Studies, 34, 43–98.',\n",
       " '88': '',\n",
       " '89': 'Walker, G., Kulash, W., & McHugh, B. (2000). Downtown streets: Are we strangling ourselves in one-way networks? In TRB circular E-C019: Urban street, symposium, F-2.Xie, F., & Levinson, D. (2011). Evaluating the effects of the I-35W bridge collapse on road-users in the twin cities metropolitan region. Transportation Planning and Technology, 34(7), 691–703.Wardrop,',\n",
       " '90': 'J. G. (1952). Some theoretical aspects of road trafﬁc research.',\n",
       " '91': 'In Proceedings – Institution of civil engineers – Part 2: Research and theory (Vol. 1, pp. 325–378).Zhu, S., Levinson, D., Liu, H., & Harder, K. (2010). The trafﬁc and behavioral effects of the I-35W Mississippi river bridge collapse. Transportation Research Part A: Policy and Practice, 44(10), 771–784.',\n",
       " '92': ['Xie, F., & Levinson, D. (2009). Topological evolution of surface transportation',\n",
       "  'networks. Computers, Environment and Urban Systems, 33(3), 211–223.']}"
      ]
     },
     "execution_count": 45,
     "metadata": {},
     "output_type": "execute_result"
    }
   ],
   "source": [
    "pdf.reference()"
   ]
  },
  {
   "cell_type": "markdown",
   "id": "6ec7a089",
   "metadata": {},
   "source": [
    "## Pass multiple files at one time"
   ]
  },
  {
   "cell_type": "code",
   "execution_count": 46,
   "id": "e70f73ef",
   "metadata": {},
   "outputs": [],
   "source": [
    "import glob"
   ]
  },
  {
   "cell_type": "code",
   "execution_count": 47,
   "id": "5069a482",
   "metadata": {},
   "outputs": [],
   "source": [
    "def read_single(file):\n",
    "    reader = Reader()\n",
    "    pdf = reader.read_file(file)\n",
    "    print(pdf.abstract())\n",
    "\n",
    "    \n",
    "def read_multiple(path):\n",
    "    for i in path:\n",
    "        read_single(i)\n",
    "        print('-------------------', '\\n')\n"
   ]
  },
  {
   "cell_type": "code",
   "execution_count": 48,
   "id": "2217ecc4",
   "metadata": {},
   "outputs": [
    {
     "name": "stdout",
     "output_type": "stream",
     "text": [
      "Reading:  /Users/miao/Desktop/test/els/6.pdf\n",
      "*** Elsevier detected ***\n",
      "For policymakers, planners, urban design practitioners and city service decision-makers who endeavour to create policies and take decisions to improve the function of cities, developing an understanding of cities, and the particular city in question, is important. However, in the ever-increasing ﬁeld of urban measurement and analysis, the challenges cities face are frequently presumed: crime and fear of crime, social inequality, environmental degradation, economic deterioration and disjointed governance. Although it may be that many cities share similar problems, it is unwise to assume that cities share the same challenges, to the same degree or in the same combination. And yet, diagnosing the challenges a city faces is often overlooked in preference for improving the understanding of known challenges. To address this oversight, this study evidences the need to diagnose urban challenges, introduces a novel mixed-methods approach for doing so, applies (and critiques) the approach to the city of Birmingham, UK, and proposes a set of principles for the transferability of this new urban diagnostic methodology to other cities. The paper argues that applying a rigorous, explorative, diagnostic approach to ‘reading cities’ provides conﬁdence that all critical challenges have been identiﬁed and, crucially, identiﬁes how they are interdependent, both of which have implications for how policymakers and decision-makers address a particular city's combination of interlinked challenges.\n",
      "------------------- \n",
      "\n",
      "Reading:  /Users/miao/Desktop/test/els/7.pdf\n",
      "*** Elsevier detected ***\n",
      "City bus drivers are facing increasingly stressful work situations. In urban areas, bus drivers are competing for limited road space with various vehicles in mixed trafﬁc conditions. This mixed trafﬁc ﬂow condition may not only cause trafﬁc congestion problems but also increase the driving fatigue of a city bus driver. In addition, the average number of elderly passengers are increasing. Constrained by their physical conditions, elderly passengers usually take more time to get on or off a bus and require a city bus driver’s special attention or help. An increase in elderly passengers using city buses may increase the bus driver’s stress and/or fatigue levels. This study developed a structural equation model to investi- gate the causal relationships between a vector of stress factors and city bus drivers’ fatigue levels from a risk management perspective. The empirical study results based on a ques- tionnaire survey indicated that mixed trafﬁc ﬂow conditions and the characteristics of elderly passengers are positively correlated with the levels of driving fatigue in city bus dri- vers. An increase in the number of motor scooters in a trafﬁc stream and/or elderly passen- gers on a bus will lead to higher levels of mental fatigue for a city bus driver. This study discussed the effects of several stressors on a city bus driver’s fatigue and provided sugges- tions for changes in policies to ensure the fatigue mitigation of city bus drivers.\n",
      "------------------- \n",
      "\n",
      "Reading:  /Users/miao/Desktop/test/els/5.pdf\n",
      "*** Elsevier detected ***\n",
      "During  the  heating  season  in  the  “Three  North”  area  of  China,  the  wind  curtailment  has  become  a  serious  problem due to the lack of space for grid-connected wind power. Firstly, from the perspective of improving the  acceptance capacity of wind power curtailment, this paper establishes a model of hybrid energy storage. Then  considering the influence of the frequently changing electrodes of the regenerative electric boiler on its working  life, this paper introduces the optimization coefficient of electrodes, and the optimal operation strategy of hybrid  energy  storage  system  is  put  forward.  Finally,  based  on  the  actual  data  of  200  MW  wind  farm,  this  paper  compares and analyzes the advantages and disadvantages of different control methods. The results show that the  proposed method can further improve the power system’s ability to accept wind power, under the requirements  of meeting the heating demand and reducing the number of electrode adjustment of electric boilers.   \n",
      "------------------- \n",
      "\n",
      "Reading:  /Users/miao/Desktop/test/els/4.pdf\n",
      "*** Elsevier detected ***\n",
      "In this paper we aim to analyze the status of investment and ﬁnancing of photovoltaic power generation in Cameroon, ﬁnd out the challenges it faces, and put forward solutions. Through in-depth analyses of the investment and ﬁnancing data of photovoltaic power generation from Cameroon, reference countries and the world during 2008e2019 and by drawing lessons from international experiences, we ﬁnd that Cameroon’s investment and ﬁnancing is far from meeting the needs of its photovoltaic power generation development. The causal analyses show that the root causes leading to insufﬁcient investment and ﬁnancing of photovoltaic power generation in Cameroon are the government behavior defects. On this basis, using the appropriate problem-oriented analysis method, we put forward policy recommendations to improve the investment and ﬁnancing situation of photovoltaic power generation in Cameroon. The basic conclusion of this paper is that the low investment scale, single ﬁnancing structure, violent in- vestment ﬂuctuation and ﬁnancing gap are the surface causes of slowing photovoltaic power generation in Cameroon, while the lack of consciousness about attracting international investment, the ambiguity of the application process for photovoltaic power generation projects, the lack of speciﬁc measures to stimulate photovoltaic power generation, and the backward national planning of photovoltaic power generation are the internal reasons delaying Cameroon’s photovoltaic power generation. This study not only beneﬁts Cameroon by being a guide for optimizing and promoting the development of photovoltaic power generation, but also has universal reference value for other similar research.\n",
      "------------------- \n",
      "\n",
      "Reading:  /Users/miao/Desktop/test/els/1.pdf\n",
      "*** Elsevier detected ***\n",
      "Cities across the world are starting to recover space, previously devoted to cars, for other uses. The main purpose of this paper is to better understand the removal of space in urban settings and to provide some analytical results showing that it is possible to remove streets from a city without worsening trafﬁc excessively.\n",
      "------------------- \n",
      "\n",
      "Reading:  /Users/miao/Desktop/test/els/3.pdf\n",
      "*** Elsevier detected ***\n",
      "Porcine pancreatic stem cells (pPSCs) can be induced to insulin-secreting cells and therefore considered the most promising seeding cells for curing human diabetes in future. However, insuﬃcient pPSCs number is one of the bottleneck problems before its clinical application. SerpinB1 is a serine protease inhibitor in neutrophils and can directly promote the proliferation of β cells. Whether SerpinB1 is involved in pPSC proliferation and diﬀer- entiation remains unknown. The eﬀects of SerpinB1 on pPSCs proliferation were measured by Cell Counting Kit- 8, 5-ethynyl-2′-deoxyuridine, qRT-PCR, western blot, and ﬂow cytometry assays. We found that pPSCs did not eﬃciently reach the S phase when SerpinB1 expression was knocked down with short hairpin RNA (sh- SerpinB1), the expression of Cyclin D1, CDK-2, and PCNA also decreased. Meanwhile, cell viability and pro- liferation ability were both declined. Further analyses showed that the expression level of phosphorylated STAT3/STAT3was downregulated, along with an upregulation of p53 and p21. We used a two-step induction method to induce pPSCs to insulin-secreting cells and found that SerpinB1 expression in insulin-secreting cells was higher than in pPSCs. Meanwhile, the protein expression level of phosphorylated STAT3/STAT3 was in- creased while p53 and p21 was decreased in induced insulin-secreting cells in comparison with control cells. The insulin-secreting cells derived from the sh-SerpinB1 cells secreted less insulin and showed poor sensitivity to high glucose than control group. However, the insulin-secreting cells derived from the ov-SerpinB1 cells has a quite contrary tendency. In conclusion, this study demonstrates that SerpinB1 promotes the proliferation of pPSCs through the STAT3 signaling pathway, and SerpinB1 is a key factor for maintaining the viability of pPSCs during the transition to insulin-secreting cells.\n",
      "------------------- \n",
      "\n",
      "Reading:  /Users/miao/Desktop/test/els/2.pdf\n"
     ]
    },
    {
     "name": "stdout",
     "output_type": "stream",
     "text": [
      "*** Elsevier detected ***\n",
      "Cities are increasingly challenged to improve their competitiveness. Performance indicators stand as an important element to interpret the success of the policy regime adopted by the municipality. Cities with a set of superior economic, social and environmental indicators have the potential to present better living conditions for their inhabitants. In this context, the aim of this research is to analyze whether the in- dicators published by Brazilian cities are aligned with the approach of a smart or sustainable city. The research used a set of 3150 data points regarding the performance of these cities. It analyzed the per- formance of the 150 best cities, divided into three groups of interest identiﬁed as small cities, medium- sized cities and big cities, on a set of 21 indicators. The set of identiﬁed indicators shows the attention of the cities to socioeconomic and information and communication technologies issues, thus revealing that Brazilian city managers are more interested in positioning their cities as smart than sustainable. Analysis of the general indicators of the cities, supported by the number of inhabitants, indicated that big cities present superior performance in relation to medium-sized cities, and that the latter perform better in relation to the small cities. However, small cities in the individualized analysis of social indicators present a better-performing set.\n",
      "------------------- \n",
      "\n"
     ]
    }
   ],
   "source": [
    "read_multiple(glob.glob(r'/Users/miao/Desktop/test/els/*.pdf'))"
   ]
  },
  {
   "cell_type": "markdown",
   "id": "931d6b09",
   "metadata": {},
   "source": [
    "## Known Issues"
   ]
  },
  {
   "cell_type": "markdown",
   "id": "4456656f",
   "metadata": {},
   "source": [
    "In ACS\n",
    "* In ACS, a few journals have two section title styles existing at the same time, namely: numbered one and ■ one. This could confuse the title filtration function because two styles have largely different font sizes. But this won’t affect reference extraction\n",
    "* Reference extracted might not be in order\n",
    "* Parts of extracted reference could be missing\n",
    "\n",
    "In Elesvier\n",
    "* Potentially weak journal extraction leads to missing journal information\n",
    "* Unnumbered references can be messy\n",
    "\n",
    "In RSC\n",
    "* Title can be missing\n",
    "* Journal year, volume and page numbers can be missing in certain articles\n",
    "* Some section titles can be missed but reference section remains solid\n",
    "\n",
    "\n",
    "In Advanced Family\n",
    "* Reference entries can be mixed\n",
    "* Keywords can be found inside reference entries, roughly 1 in 20\n",
    "* Some authors place their bio at the very end, such words are not excluded from reference at the moment\n",
    "\n",
    "In CAEJ\n",
    "* Keywords can be incomplete\n",
    "\n",
    "In Angewandte\n",
    "* Keywords might not be in order"
   ]
  },
  {
   "cell_type": "code",
   "execution_count": null,
   "id": "c0a722a0",
   "metadata": {},
   "outputs": [],
   "source": []
  },
  {
   "cell_type": "code",
   "execution_count": null,
   "id": "5bd4a1ec",
   "metadata": {},
   "outputs": [],
   "source": []
  }
 ],
 "metadata": {
  "kernelspec": {
   "display_name": "Python 3",
   "language": "python",
   "name": "python3"
  },
  "language_info": {
   "codemirror_mode": {
    "name": "ipython",
    "version": 3
   },
   "file_extension": ".py",
   "mimetype": "text/x-python",
   "name": "python",
   "nbconvert_exporter": "python",
   "pygments_lexer": "ipython3",
   "version": "3.8.6"
  }
 },
 "nbformat": 4,
 "nbformat_minor": 5
}
